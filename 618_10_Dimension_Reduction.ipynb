{
 "cells": [
  {
   "cell_type": "markdown",
   "metadata": {},
   "source": [
    "# SI 618: Data Manipulation and Analysis\n",
    "## 10 - Dimension Reduction\n",
    "### Dr. Chris Teplovs, School of Information, University of Michigan\n",
    "<small><a rel=\"license\" href=\"http://creativecommons.org/licenses/by-nc-sa/4.0/\"><img alt=\"Creative Commons License\" style=\"border-width:0\" src=\"https://i.creativecommons.org/l/by-nc-sa/4.0/88x31.png\" /></a> This work is licensed under a <a rel=\"license\" href=\"http://creativecommons.org/licenses/by-nc-sa/4.0/\">Creative Commons Attribution-NonCommercial-ShareAlike 4.0 International License</a>."
   ]
  },
  {
   "cell_type": "markdown",
   "metadata": {},
   "source": [
    "### [Dimension Reduction slides](resources/si618-dimensionality-reduction.pdf)"
   ]
  },
  {
   "cell_type": "markdown",
   "metadata": {},
   "source": [
    "# Analysis 1 (Heptathalon)\n",
    "\n",
    "* Be able to perform principcal component analysis (PCA) and exploratory factor analysis (EFA).\n",
    "* Be able to apply manifold learning methods, including multidimensional scaling (MDS)\n",
    "\n"
   ]
  },
  {
   "cell_type": "code",
   "execution_count": 1,
   "metadata": {
    "collapsed": false
   },
   "outputs": [
    {
     "data": {
      "text/html": [
       "<style>body {\n",
       "    margin: 0;\n",
       "    font-family: Helvetica;\n",
       "}\n",
       "table.dataframe {\n",
       "    border-collapse: collapse;\n",
       "    border: none;\n",
       "}\n",
       "table.dataframe tr {\n",
       "    border: none;\n",
       "}\n",
       "table.dataframe td, table.dataframe th {\n",
       "    margin: 0;\n",
       "    border: 1px solid white;\n",
       "    padding-left: 0.25em;\n",
       "    padding-right: 0.25em;\n",
       "}\n",
       "table.dataframe th:not(:empty) {\n",
       "    background-color: #fec;\n",
       "    text-align: left;\n",
       "    font-weight: normal;\n",
       "}\n",
       "table.dataframe tr:nth-child(2) th:empty {\n",
       "    border-left: none;\n",
       "    border-right: 1px dashed #888;\n",
       "}\n",
       "table.dataframe td {\n",
       "    border: 2px solid #ccf;\n",
       "    background-color: #f4f4ff;\n",
       "}\n",
       "h3 {\n",
       "    color: white;\n",
       "    background-color: black;\n",
       "    padding: 0.5em;\n",
       "}\n",
       "</style>"
      ],
      "text/plain": [
       "<IPython.core.display.HTML object>"
      ]
     },
     "execution_count": 1,
     "metadata": {},
     "output_type": "execute_result"
    }
   ],
   "source": [
    "import pandas as pd\n",
    "import numpy as np\n",
    "import seaborn as sns\n",
    "from scipy import stats\n",
    "import statsmodels.formula.api as smf\n",
    "import statsmodels.api as sm\n",
    "%matplotlib inline\n",
    "import warnings\n",
    "warnings.filterwarnings('ignore')\n",
    "sns.set_context(\"notebook\")  # make figures fit\n",
    "from pylab import rcParams\n",
    "import matplotlib.pyplot as plt\n",
    "from statsmodels.graphics.mosaicplot import mosaic\n",
    "from IPython.display import Image\n",
    "from IPython.core.display import HTML \n",
    "import sklearn as sk\n",
    "import sklearn.cluster as skc\n",
    "import sklearn.decomposition as skd\n",
    "import sklearn.manifold as skm\n",
    "import sklearn.preprocessing as skp\n",
    "\n",
    "# make the Pandas tables a little more readable\n",
    "\n",
    "from IPython.core.display import HTML\n",
    "css = open('style-table.css').read() + open('style-notebook.css').read()\n",
    "HTML('<style>{}</style>'.format(css))"
   ]
  },
  {
   "cell_type": "markdown",
   "metadata": {},
   "source": [
    "# Load the Data\n"
   ]
  },
  {
   "cell_type": "code",
   "execution_count": 52,
   "metadata": {
    "collapsed": false
   },
   "outputs": [
    {
     "data": {
      "text/html": [
       "<div>\n",
       "<style scoped>\n",
       "    .dataframe tbody tr th:only-of-type {\n",
       "        vertical-align: middle;\n",
       "    }\n",
       "\n",
       "    .dataframe tbody tr th {\n",
       "        vertical-align: top;\n",
       "    }\n",
       "\n",
       "    .dataframe thead th {\n",
       "        text-align: right;\n",
       "    }\n",
       "</style>\n",
       "<table border=\"1\" class=\"dataframe\">\n",
       "  <thead>\n",
       "    <tr style=\"text-align: right;\">\n",
       "      <th></th>\n",
       "      <th>Hurdles</th>\n",
       "      <th>HighJump</th>\n",
       "      <th>Shot</th>\n",
       "      <th>Run200m</th>\n",
       "      <th>LongJump</th>\n",
       "      <th>Javelin</th>\n",
       "      <th>Run800m</th>\n",
       "      <th>Score</th>\n",
       "    </tr>\n",
       "    <tr>\n",
       "      <th>Athlete</th>\n",
       "      <th></th>\n",
       "      <th></th>\n",
       "      <th></th>\n",
       "      <th></th>\n",
       "      <th></th>\n",
       "      <th></th>\n",
       "      <th></th>\n",
       "      <th></th>\n",
       "    </tr>\n",
       "  </thead>\n",
       "  <tbody>\n",
       "    <tr>\n",
       "      <th>Joyner-Kersee (USA)</th>\n",
       "      <td>12.69</td>\n",
       "      <td>1.86</td>\n",
       "      <td>15.80</td>\n",
       "      <td>22.56</td>\n",
       "      <td>7.27</td>\n",
       "      <td>45.66</td>\n",
       "      <td>128.51</td>\n",
       "      <td>7291</td>\n",
       "    </tr>\n",
       "    <tr>\n",
       "      <th>John (GDR)</th>\n",
       "      <td>12.85</td>\n",
       "      <td>1.80</td>\n",
       "      <td>16.23</td>\n",
       "      <td>23.65</td>\n",
       "      <td>6.71</td>\n",
       "      <td>42.56</td>\n",
       "      <td>126.12</td>\n",
       "      <td>6897</td>\n",
       "    </tr>\n",
       "    <tr>\n",
       "      <th>Behmer (GDR)</th>\n",
       "      <td>13.20</td>\n",
       "      <td>1.83</td>\n",
       "      <td>14.20</td>\n",
       "      <td>23.10</td>\n",
       "      <td>6.68</td>\n",
       "      <td>44.54</td>\n",
       "      <td>124.20</td>\n",
       "      <td>6858</td>\n",
       "    </tr>\n",
       "    <tr>\n",
       "      <th>Sablovskaite (URS)</th>\n",
       "      <td>13.61</td>\n",
       "      <td>1.80</td>\n",
       "      <td>15.23</td>\n",
       "      <td>23.92</td>\n",
       "      <td>6.25</td>\n",
       "      <td>42.78</td>\n",
       "      <td>132.24</td>\n",
       "      <td>6540</td>\n",
       "    </tr>\n",
       "    <tr>\n",
       "      <th>Choubenkova (URS)</th>\n",
       "      <td>13.51</td>\n",
       "      <td>1.74</td>\n",
       "      <td>14.76</td>\n",
       "      <td>23.93</td>\n",
       "      <td>6.32</td>\n",
       "      <td>47.46</td>\n",
       "      <td>127.90</td>\n",
       "      <td>6540</td>\n",
       "    </tr>\n",
       "  </tbody>\n",
       "</table>\n",
       "</div>"
      ],
      "text/plain": [
       "                     Hurdles  HighJump   Shot  Run200m  LongJump  Javelin  \\\n",
       "Athlete                                                                     \n",
       "Joyner-Kersee (USA)    12.69      1.86  15.80    22.56      7.27    45.66   \n",
       "John (GDR)             12.85      1.80  16.23    23.65      6.71    42.56   \n",
       "Behmer (GDR)           13.20      1.83  14.20    23.10      6.68    44.54   \n",
       "Sablovskaite (URS)     13.61      1.80  15.23    23.92      6.25    42.78   \n",
       "Choubenkova (URS)      13.51      1.74  14.76    23.93      6.32    47.46   \n",
       "\n",
       "                     Run800m  Score  \n",
       "Athlete                              \n",
       "Joyner-Kersee (USA)   128.51   7291  \n",
       "John (GDR)            126.12   6897  \n",
       "Behmer (GDR)          124.20   6858  \n",
       "Sablovskaite (URS)    132.24   6540  \n",
       "Choubenkova (URS)     127.90   6540  "
      ]
     },
     "execution_count": 52,
     "metadata": {},
     "output_type": "execute_result"
    }
   ],
   "source": [
    "df_hept = pd.read_csv('heptathlon.csv')\n",
    "df_hept = df_hept.set_index('Athlete')\n",
    "df_hept.head()"
   ]
  },
  {
   "cell_type": "code",
   "execution_count": 25,
   "metadata": {
    "collapsed": false
   },
   "outputs": [
    {
     "data": {
      "text/html": [
       "<div>\n",
       "<style scoped>\n",
       "    .dataframe tbody tr th:only-of-type {\n",
       "        vertical-align: middle;\n",
       "    }\n",
       "\n",
       "    .dataframe tbody tr th {\n",
       "        vertical-align: top;\n",
       "    }\n",
       "\n",
       "    .dataframe thead th {\n",
       "        text-align: right;\n",
       "    }\n",
       "</style>\n",
       "<table border=\"1\" class=\"dataframe\">\n",
       "  <thead>\n",
       "    <tr style=\"text-align: right;\">\n",
       "      <th></th>\n",
       "      <th>Hurdles</th>\n",
       "      <th>HighJump</th>\n",
       "      <th>Shot</th>\n",
       "      <th>Run200m</th>\n",
       "      <th>LongJump</th>\n",
       "      <th>Javelin</th>\n",
       "      <th>Run800m</th>\n",
       "      <th>Score</th>\n",
       "    </tr>\n",
       "  </thead>\n",
       "  <tbody>\n",
       "    <tr>\n",
       "      <th>count</th>\n",
       "      <td>25.000000</td>\n",
       "      <td>25.000000</td>\n",
       "      <td>25.000000</td>\n",
       "      <td>25.000000</td>\n",
       "      <td>25.000000</td>\n",
       "      <td>25.000000</td>\n",
       "      <td>25.000000</td>\n",
       "      <td>25.000000</td>\n",
       "    </tr>\n",
       "    <tr>\n",
       "      <th>mean</th>\n",
       "      <td>13.840000</td>\n",
       "      <td>1.782000</td>\n",
       "      <td>13.117600</td>\n",
       "      <td>24.649200</td>\n",
       "      <td>6.152400</td>\n",
       "      <td>41.482400</td>\n",
       "      <td>136.054000</td>\n",
       "      <td>6090.600000</td>\n",
       "    </tr>\n",
       "    <tr>\n",
       "      <th>std</th>\n",
       "      <td>0.736648</td>\n",
       "      <td>0.077942</td>\n",
       "      <td>1.491884</td>\n",
       "      <td>0.969557</td>\n",
       "      <td>0.474212</td>\n",
       "      <td>3.545656</td>\n",
       "      <td>8.291088</td>\n",
       "      <td>568.469729</td>\n",
       "    </tr>\n",
       "    <tr>\n",
       "      <th>min</th>\n",
       "      <td>12.690000</td>\n",
       "      <td>1.500000</td>\n",
       "      <td>10.000000</td>\n",
       "      <td>22.560000</td>\n",
       "      <td>4.880000</td>\n",
       "      <td>35.680000</td>\n",
       "      <td>124.200000</td>\n",
       "      <td>4566.000000</td>\n",
       "    </tr>\n",
       "    <tr>\n",
       "      <th>25%</th>\n",
       "      <td>13.470000</td>\n",
       "      <td>1.770000</td>\n",
       "      <td>12.320000</td>\n",
       "      <td>23.920000</td>\n",
       "      <td>6.050000</td>\n",
       "      <td>39.060000</td>\n",
       "      <td>132.240000</td>\n",
       "      <td>5746.000000</td>\n",
       "    </tr>\n",
       "    <tr>\n",
       "      <th>50%</th>\n",
       "      <td>13.750000</td>\n",
       "      <td>1.800000</td>\n",
       "      <td>12.880000</td>\n",
       "      <td>24.830000</td>\n",
       "      <td>6.250000</td>\n",
       "      <td>40.280000</td>\n",
       "      <td>134.740000</td>\n",
       "      <td>6137.000000</td>\n",
       "    </tr>\n",
       "    <tr>\n",
       "      <th>75%</th>\n",
       "      <td>14.070000</td>\n",
       "      <td>1.830000</td>\n",
       "      <td>14.200000</td>\n",
       "      <td>25.230000</td>\n",
       "      <td>6.370000</td>\n",
       "      <td>44.540000</td>\n",
       "      <td>138.480000</td>\n",
       "      <td>6351.000000</td>\n",
       "    </tr>\n",
       "    <tr>\n",
       "      <th>max</th>\n",
       "      <td>16.420000</td>\n",
       "      <td>1.860000</td>\n",
       "      <td>16.230000</td>\n",
       "      <td>26.610000</td>\n",
       "      <td>7.270000</td>\n",
       "      <td>47.500000</td>\n",
       "      <td>163.430000</td>\n",
       "      <td>7291.000000</td>\n",
       "    </tr>\n",
       "  </tbody>\n",
       "</table>\n",
       "</div>"
      ],
      "text/plain": [
       "         Hurdles   HighJump       Shot    Run200m   LongJump    Javelin  \\\n",
       "count  25.000000  25.000000  25.000000  25.000000  25.000000  25.000000   \n",
       "mean   13.840000   1.782000  13.117600  24.649200   6.152400  41.482400   \n",
       "std     0.736648   0.077942   1.491884   0.969557   0.474212   3.545656   \n",
       "min    12.690000   1.500000  10.000000  22.560000   4.880000  35.680000   \n",
       "25%    13.470000   1.770000  12.320000  23.920000   6.050000  39.060000   \n",
       "50%    13.750000   1.800000  12.880000  24.830000   6.250000  40.280000   \n",
       "75%    14.070000   1.830000  14.200000  25.230000   6.370000  44.540000   \n",
       "max    16.420000   1.860000  16.230000  26.610000   7.270000  47.500000   \n",
       "\n",
       "          Run800m        Score  \n",
       "count   25.000000    25.000000  \n",
       "mean   136.054000  6090.600000  \n",
       "std      8.291088   568.469729  \n",
       "min    124.200000  4566.000000  \n",
       "25%    132.240000  5746.000000  \n",
       "50%    134.740000  6137.000000  \n",
       "75%    138.480000  6351.000000  \n",
       "max    163.430000  7291.000000  "
      ]
     },
     "execution_count": 25,
     "metadata": {},
     "output_type": "execute_result"
    }
   ],
   "source": [
    "# Let's print out summary information to check the data quality \n",
    "# and structure.\n",
    "df_hept.describe()"
   ]
  },
  {
   "cell_type": "markdown",
   "metadata": {},
   "source": [
    "# Question: Should \"score\" be included in these analyses?"
   ]
  },
  {
   "cell_type": "markdown",
   "metadata": {},
   "source": [
    "For now, let's omit the \"score\" column"
   ]
  },
  {
   "cell_type": "code",
   "execution_count": 30,
   "metadata": {},
   "outputs": [],
   "source": [
    "df_hept.drop('Score',inplace=True, axis=1)"
   ]
  },
  {
   "cell_type": "markdown",
   "metadata": {},
   "source": [
    "## 2.1 Rescaling the Data\n",
    "Let us normalize the data by computing the \"[z-scores](https://en.wikipedia.org/wiki/Standard_score#Calculation_from_raw_score)\" of the values. This step of normalization (rescaling) is important to PCA.\n",
    "\n",
    "Given a column x, the z-scores of the elements in x is simply\n",
    "\n",
    "    (x - mean(x)) / std(x)\n",
    "    \n",
    "where, `std` means standard deviation."
   ]
  },
  {
   "cell_type": "code",
   "execution_count": 31,
   "metadata": {
    "collapsed": false
   },
   "outputs": [
    {
     "data": {
      "text/html": [
       "<div>\n",
       "<style scoped>\n",
       "    .dataframe tbody tr th:only-of-type {\n",
       "        vertical-align: middle;\n",
       "    }\n",
       "\n",
       "    .dataframe tbody tr th {\n",
       "        vertical-align: top;\n",
       "    }\n",
       "\n",
       "    .dataframe thead th {\n",
       "        text-align: right;\n",
       "    }\n",
       "</style>\n",
       "<table border=\"1\" class=\"dataframe\">\n",
       "  <thead>\n",
       "    <tr style=\"text-align: right;\">\n",
       "      <th></th>\n",
       "      <th>Hurdles</th>\n",
       "      <th>HighJump</th>\n",
       "      <th>Shot</th>\n",
       "      <th>Run200m</th>\n",
       "      <th>LongJump</th>\n",
       "      <th>Javelin</th>\n",
       "      <th>Run800m</th>\n",
       "    </tr>\n",
       "    <tr>\n",
       "      <th>Athlete</th>\n",
       "      <th></th>\n",
       "      <th></th>\n",
       "      <th></th>\n",
       "      <th></th>\n",
       "      <th></th>\n",
       "      <th></th>\n",
       "      <th></th>\n",
       "    </tr>\n",
       "  </thead>\n",
       "  <tbody>\n",
       "    <tr>\n",
       "      <th>Joyner-Kersee (USA)</th>\n",
       "      <td>-1.593317</td>\n",
       "      <td>1.021376</td>\n",
       "      <td>1.835071</td>\n",
       "      <td>-2.199232</td>\n",
       "      <td>2.405348</td>\n",
       "      <td>1.202526</td>\n",
       "      <td>-0.928655</td>\n",
       "    </tr>\n",
       "    <tr>\n",
       "      <th>John (GDR)</th>\n",
       "      <td>-1.371639</td>\n",
       "      <td>0.235702</td>\n",
       "      <td>2.129240</td>\n",
       "      <td>-1.051825</td>\n",
       "      <td>1.200091</td>\n",
       "      <td>0.310188</td>\n",
       "      <td>-1.222861</td>\n",
       "    </tr>\n",
       "    <tr>\n",
       "      <th>Behmer (GDR)</th>\n",
       "      <td>-0.886716</td>\n",
       "      <td>0.628539</td>\n",
       "      <td>0.740486</td>\n",
       "      <td>-1.630792</td>\n",
       "      <td>1.135524</td>\n",
       "      <td>0.880133</td>\n",
       "      <td>-1.459210</td>\n",
       "    </tr>\n",
       "    <tr>\n",
       "      <th>Sablovskaite (URS)</th>\n",
       "      <td>-0.318663</td>\n",
       "      <td>0.235702</td>\n",
       "      <td>1.445125</td>\n",
       "      <td>-0.767605</td>\n",
       "      <td>0.210059</td>\n",
       "      <td>0.373515</td>\n",
       "      <td>-0.469498</td>\n",
       "    </tr>\n",
       "    <tr>\n",
       "      <th>Choubenkova (URS)</th>\n",
       "      <td>-0.457213</td>\n",
       "      <td>-0.549972</td>\n",
       "      <td>1.123591</td>\n",
       "      <td>-0.757078</td>\n",
       "      <td>0.360716</td>\n",
       "      <td>1.720658</td>\n",
       "      <td>-1.003745</td>\n",
       "    </tr>\n",
       "  </tbody>\n",
       "</table>\n",
       "</div>"
      ],
      "text/plain": [
       "                      Hurdles  HighJump      Shot   Run200m  LongJump  \\\n",
       "Athlete                                                                 \n",
       "Joyner-Kersee (USA) -1.593317  1.021376  1.835071 -2.199232  2.405348   \n",
       "John (GDR)          -1.371639  0.235702  2.129240 -1.051825  1.200091   \n",
       "Behmer (GDR)        -0.886716  0.628539  0.740486 -1.630792  1.135524   \n",
       "Sablovskaite (URS)  -0.318663  0.235702  1.445125 -0.767605  0.210059   \n",
       "Choubenkova (URS)   -0.457213 -0.549972  1.123591 -0.757078  0.360716   \n",
       "\n",
       "                      Javelin   Run800m  \n",
       "Athlete                                  \n",
       "Joyner-Kersee (USA)  1.202526 -0.928655  \n",
       "John (GDR)           0.310188 -1.222861  \n",
       "Behmer (GDR)         0.880133 -1.459210  \n",
       "Sablovskaite (URS)   0.373515 -0.469498  \n",
       "Choubenkova (URS)    1.720658 -1.003745  "
      ]
     },
     "execution_count": 31,
     "metadata": {},
     "output_type": "execute_result"
    }
   ],
   "source": [
    "df_hept_norm = df_hept.copy()\n",
    "df_hept_norm.ix[:,:7] = skp.scale(df_hept_norm.ix[:,:7].astype(np.float))\n",
    "df_hept_norm.head()"
   ]
  },
  {
   "cell_type": "code",
   "execution_count": 32,
   "metadata": {
    "collapsed": false
   },
   "outputs": [
    {
     "data": {
      "text/html": [
       "<div>\n",
       "<style scoped>\n",
       "    .dataframe tbody tr th:only-of-type {\n",
       "        vertical-align: middle;\n",
       "    }\n",
       "\n",
       "    .dataframe tbody tr th {\n",
       "        vertical-align: top;\n",
       "    }\n",
       "\n",
       "    .dataframe thead th {\n",
       "        text-align: right;\n",
       "    }\n",
       "</style>\n",
       "<table border=\"1\" class=\"dataframe\">\n",
       "  <thead>\n",
       "    <tr style=\"text-align: right;\">\n",
       "      <th></th>\n",
       "      <th>Hurdles</th>\n",
       "      <th>HighJump</th>\n",
       "      <th>Shot</th>\n",
       "      <th>Run200m</th>\n",
       "      <th>LongJump</th>\n",
       "      <th>Javelin</th>\n",
       "      <th>Run800m</th>\n",
       "    </tr>\n",
       "  </thead>\n",
       "  <tbody>\n",
       "    <tr>\n",
       "      <th>count</th>\n",
       "      <td>2.500000e+01</td>\n",
       "      <td>2.500000e+01</td>\n",
       "      <td>2.500000e+01</td>\n",
       "      <td>2.500000e+01</td>\n",
       "      <td>2.500000e+01</td>\n",
       "      <td>2.500000e+01</td>\n",
       "      <td>25.000000</td>\n",
       "    </tr>\n",
       "    <tr>\n",
       "      <th>mean</th>\n",
       "      <td>2.131628e-16</td>\n",
       "      <td>3.055334e-15</td>\n",
       "      <td>3.463896e-16</td>\n",
       "      <td>-4.352074e-16</td>\n",
       "      <td>-2.486900e-16</td>\n",
       "      <td>-1.589839e-15</td>\n",
       "      <td>0.000000</td>\n",
       "    </tr>\n",
       "    <tr>\n",
       "      <th>std</th>\n",
       "      <td>1.020621e+00</td>\n",
       "      <td>1.020621e+00</td>\n",
       "      <td>1.020621e+00</td>\n",
       "      <td>1.020621e+00</td>\n",
       "      <td>1.020621e+00</td>\n",
       "      <td>1.020621e+00</td>\n",
       "      <td>1.020621</td>\n",
       "    </tr>\n",
       "    <tr>\n",
       "      <th>min</th>\n",
       "      <td>-1.593317e+00</td>\n",
       "      <td>-3.692669e+00</td>\n",
       "      <td>-2.132797e+00</td>\n",
       "      <td>-2.199232e+00</td>\n",
       "      <td>-2.738515e+00</td>\n",
       "      <td>-1.670227e+00</td>\n",
       "      <td>-1.459210</td>\n",
       "    </tr>\n",
       "    <tr>\n",
       "      <th>25%</th>\n",
       "      <td>-5.126326e-01</td>\n",
       "      <td>-1.571348e-01</td>\n",
       "      <td>-5.456503e-01</td>\n",
       "      <td>-7.676047e-01</td>\n",
       "      <td>-2.203898e-01</td>\n",
       "      <td>-6.972903e-01</td>\n",
       "      <td>-0.469498</td>\n",
       "    </tr>\n",
       "    <tr>\n",
       "      <th>50%</th>\n",
       "      <td>-1.246944e-01</td>\n",
       "      <td>2.357023e-01</td>\n",
       "      <td>-1.625458e-01</td>\n",
       "      <td>1.903222e-01</td>\n",
       "      <td>2.100590e-01</td>\n",
       "      <td>-3.461121e-01</td>\n",
       "      <td>-0.161751</td>\n",
       "    </tr>\n",
       "    <tr>\n",
       "      <th>75%</th>\n",
       "      <td>3.186635e-01</td>\n",
       "      <td>6.285394e-01</td>\n",
       "      <td>7.404863e-01</td>\n",
       "      <td>6.113890e-01</td>\n",
       "      <td>4.683283e-01</td>\n",
       "      <td>8.801333e-01</td>\n",
       "      <td>0.298637</td>\n",
       "    </tr>\n",
       "    <tr>\n",
       "      <th>max</th>\n",
       "      <td>3.574573e+00</td>\n",
       "      <td>1.021376e+00</td>\n",
       "      <td>2.129240e+00</td>\n",
       "      <td>2.064069e+00</td>\n",
       "      <td>2.405348e+00</td>\n",
       "      <td>1.732172e+00</td>\n",
       "      <td>3.369945</td>\n",
       "    </tr>\n",
       "  </tbody>\n",
       "</table>\n",
       "</div>"
      ],
      "text/plain": [
       "            Hurdles      HighJump          Shot       Run200m      LongJump  \\\n",
       "count  2.500000e+01  2.500000e+01  2.500000e+01  2.500000e+01  2.500000e+01   \n",
       "mean   2.131628e-16  3.055334e-15  3.463896e-16 -4.352074e-16 -2.486900e-16   \n",
       "std    1.020621e+00  1.020621e+00  1.020621e+00  1.020621e+00  1.020621e+00   \n",
       "min   -1.593317e+00 -3.692669e+00 -2.132797e+00 -2.199232e+00 -2.738515e+00   \n",
       "25%   -5.126326e-01 -1.571348e-01 -5.456503e-01 -7.676047e-01 -2.203898e-01   \n",
       "50%   -1.246944e-01  2.357023e-01 -1.625458e-01  1.903222e-01  2.100590e-01   \n",
       "75%    3.186635e-01  6.285394e-01  7.404863e-01  6.113890e-01  4.683283e-01   \n",
       "max    3.574573e+00  1.021376e+00  2.129240e+00  2.064069e+00  2.405348e+00   \n",
       "\n",
       "            Javelin    Run800m  \n",
       "count  2.500000e+01  25.000000  \n",
       "mean  -1.589839e-15   0.000000  \n",
       "std    1.020621e+00   1.020621  \n",
       "min   -1.670227e+00  -1.459210  \n",
       "25%   -6.972903e-01  -0.469498  \n",
       "50%   -3.461121e-01  -0.161751  \n",
       "75%    8.801333e-01   0.298637  \n",
       "max    1.732172e+00   3.369945  "
      ]
     },
     "execution_count": 32,
     "metadata": {},
     "output_type": "execute_result"
    }
   ],
   "source": [
    "# confirm the mean/std are 0/1\n",
    "df_hept_norm.describe()"
   ]
  },
  {
   "cell_type": "markdown",
   "metadata": {},
   "source": [
    "# 1. Multidimensional Scaling (MDS)\n",
    "MDS seeks a low-dimensional representation of the data that preserves the distances in the high-dimensional space. It can take any kind of distance matrix as input.\n",
    "\n",
    "Note that each time you run MDS, you will get a different result, unless `random_state` is fixed."
   ]
  },
  {
   "cell_type": "code",
   "execution_count": 33,
   "metadata": {
    "collapsed": false
   },
   "outputs": [
    {
     "data": {
      "image/png": "[encoded data removed]",
      "text/plain": [
       "<Figure size 432x288 with 1 Axes>"
      ]
     },
     "metadata": {},
     "output_type": "display_data"
    }
   ],
   "source": [
    "# Use MDS to visualize brands.\n",
    "# Recall that df_bybrand is the mean-metric-by-brand \n",
    "# we created above.\n",
    "X = skm.MDS(n_components=2).fit_transform(df_hept_norm)\n",
    "plt.scatter(X[:,0],X[:,1],s=50)\n",
    "\n",
    "plt.xlabel('MDS1')\n",
    "plt.ylabel('MDS2')\n",
    "plt.title('MDS')\n",
    "\n",
    "for i, s in enumerate(df_hept_norm.index):\n",
    "    plt.annotate(s, xy=X[i,:2]+0.05, fontsize=5)"
   ]
  },
  {
   "cell_type": "code",
   "execution_count": 34,
   "metadata": {
    "collapsed": false
   },
   "outputs": [
    {
     "data": {
      "image/png": "[encoded data removed]",
      "text/plain": [
       "<Figure size 432x288 with 1 Axes>"
      ]
     },
     "metadata": {},
     "output_type": "display_data"
    }
   ],
   "source": [
    "# We can also create 3d scatterplots.\n",
    "X = skm.MDS(n_components=3).fit_transform(df_hept_norm)\n",
    "\n",
    "from mpl_toolkits.mplot3d import Axes3D\n",
    "from mpl_toolkits.mplot3d import proj3d\n",
    "\n",
    "fig = plt.figure()\n",
    "ax = fig.add_subplot(111, projection='3d')\n",
    "ax.scatter(X[:,0], X[:,1], X[:,2], s=100)\n",
    "\n",
    "ax.set_xticks([-2,-1,0,1,2])\n",
    "ax.set_yticks([-1,0,1])\n",
    "ax.set_zticks([-1,0,1])\n",
    "\n",
    "for i, s in enumerate(df_hept_norm.index):\n",
    "    x, y, _ = proj3d.proj_transform(X[i,0],X[i,1],X[i,2],\n",
    "                                    ax.get_proj())\n",
    "    plt.annotate(s, xy=(x-0.005,y+0.002), fontsize=5)"
   ]
  },
  {
   "cell_type": "markdown",
   "metadata": {},
   "source": [
    "# 2. Bivariate Analysis (Quick Review)\n"
   ]
  },
  {
   "cell_type": "markdown",
   "metadata": {},
   "source": [
    "## 2.2 Bivariate Analysis\n",
    "For initial inspection of bivariate relationships among the variables, let us create a correlation plot."
   ]
  },
  {
   "cell_type": "code",
   "execution_count": 35,
   "metadata": {
    "collapsed": false
   },
   "outputs": [
    {
     "data": {
      "text/html": [
       "<div>\n",
       "<style scoped>\n",
       "    .dataframe tbody tr th:only-of-type {\n",
       "        vertical-align: middle;\n",
       "    }\n",
       "\n",
       "    .dataframe tbody tr th {\n",
       "        vertical-align: top;\n",
       "    }\n",
       "\n",
       "    .dataframe thead th {\n",
       "        text-align: right;\n",
       "    }\n",
       "</style>\n",
       "<table border=\"1\" class=\"dataframe\">\n",
       "  <thead>\n",
       "    <tr style=\"text-align: right;\">\n",
       "      <th></th>\n",
       "      <th>Hurdles</th>\n",
       "      <th>HighJump</th>\n",
       "      <th>Shot</th>\n",
       "      <th>Run200m</th>\n",
       "      <th>LongJump</th>\n",
       "      <th>Javelin</th>\n",
       "      <th>Run800m</th>\n",
       "    </tr>\n",
       "  </thead>\n",
       "  <tbody>\n",
       "    <tr>\n",
       "      <th>Hurdles</th>\n",
       "      <td>1.000000</td>\n",
       "      <td>-0.811403</td>\n",
       "      <td>-0.651335</td>\n",
       "      <td>0.773721</td>\n",
       "      <td>-0.912134</td>\n",
       "      <td>-0.007763</td>\n",
       "      <td>0.779257</td>\n",
       "    </tr>\n",
       "    <tr>\n",
       "      <th>HighJump</th>\n",
       "      <td>-0.811403</td>\n",
       "      <td>1.000000</td>\n",
       "      <td>0.440786</td>\n",
       "      <td>-0.487664</td>\n",
       "      <td>0.782442</td>\n",
       "      <td>0.002153</td>\n",
       "      <td>-0.591163</td>\n",
       "    </tr>\n",
       "    <tr>\n",
       "      <th>Shot</th>\n",
       "      <td>-0.651335</td>\n",
       "      <td>0.440786</td>\n",
       "      <td>1.000000</td>\n",
       "      <td>-0.682670</td>\n",
       "      <td>0.743073</td>\n",
       "      <td>0.268989</td>\n",
       "      <td>-0.419620</td>\n",
       "    </tr>\n",
       "    <tr>\n",
       "      <th>Run200m</th>\n",
       "      <td>0.773721</td>\n",
       "      <td>-0.487664</td>\n",
       "      <td>-0.682670</td>\n",
       "      <td>1.000000</td>\n",
       "      <td>-0.817205</td>\n",
       "      <td>-0.333043</td>\n",
       "      <td>0.616810</td>\n",
       "    </tr>\n",
       "    <tr>\n",
       "      <th>LongJump</th>\n",
       "      <td>-0.912134</td>\n",
       "      <td>0.782442</td>\n",
       "      <td>0.743073</td>\n",
       "      <td>-0.817205</td>\n",
       "      <td>1.000000</td>\n",
       "      <td>0.067108</td>\n",
       "      <td>-0.699511</td>\n",
       "    </tr>\n",
       "    <tr>\n",
       "      <th>Javelin</th>\n",
       "      <td>-0.007763</td>\n",
       "      <td>0.002153</td>\n",
       "      <td>0.268989</td>\n",
       "      <td>-0.333043</td>\n",
       "      <td>0.067108</td>\n",
       "      <td>1.000000</td>\n",
       "      <td>0.020049</td>\n",
       "    </tr>\n",
       "    <tr>\n",
       "      <th>Run800m</th>\n",
       "      <td>0.779257</td>\n",
       "      <td>-0.591163</td>\n",
       "      <td>-0.419620</td>\n",
       "      <td>0.616810</td>\n",
       "      <td>-0.699511</td>\n",
       "      <td>0.020049</td>\n",
       "      <td>1.000000</td>\n",
       "    </tr>\n",
       "  </tbody>\n",
       "</table>\n",
       "</div>"
      ],
      "text/plain": [
       "           Hurdles  HighJump      Shot   Run200m  LongJump   Javelin   Run800m\n",
       "Hurdles   1.000000 -0.811403 -0.651335  0.773721 -0.912134 -0.007763  0.779257\n",
       "HighJump -0.811403  1.000000  0.440786 -0.487664  0.782442  0.002153 -0.591163\n",
       "Shot     -0.651335  0.440786  1.000000 -0.682670  0.743073  0.268989 -0.419620\n",
       "Run200m   0.773721 -0.487664 -0.682670  1.000000 -0.817205 -0.333043  0.616810\n",
       "LongJump -0.912134  0.782442  0.743073 -0.817205  1.000000  0.067108 -0.699511\n",
       "Javelin  -0.007763  0.002153  0.268989 -0.333043  0.067108  1.000000  0.020049\n",
       "Run800m   0.779257 -0.591163 -0.419620  0.616810 -0.699511  0.020049  1.000000"
      ]
     },
     "execution_count": 35,
     "metadata": {},
     "output_type": "execute_result"
    }
   ],
   "source": [
    "# test for correlations\n",
    "df_hept_norm.corr()"
   ]
  },
  {
   "cell_type": "code",
   "execution_count": 36,
   "metadata": {
    "collapsed": false
   },
   "outputs": [
    {
     "data": {
      "text/plain": [
       "<seaborn.matrix.ClusterGrid at 0x11f7b99b0>"
      ]
     },
     "execution_count": 36,
     "metadata": {},
     "output_type": "execute_result"
    },
    {
     "data": {
      "image/png": "[encoded data removed]",
      "text/plain": [
       "<Figure size 720x720 with 4 Axes>"
      ]
     },
     "metadata": {},
     "output_type": "display_data"
    }
   ],
   "source": [
    "# draw a \"clustered\" heatmap\n",
    "sns.clustermap(df_hept_norm.corr(),cmap=plt.cm.OrRd)"
   ]
  },
  {
   "cell_type": "code",
   "execution_count": 37,
   "metadata": {
    "collapsed": false
   },
   "outputs": [
    {
     "data": {
      "text/plain": [
       "<seaborn.axisgrid.PairGrid at 0x11f7b9f60>"
      ]
     },
     "execution_count": 37,
     "metadata": {},
     "output_type": "execute_result"
    },
    {
     "data": {
      "image/png": "[encoded data removed]",
      "text/plain": [
       "<Figure size 1260x1260 with 56 Axes>"
      ]
     },
     "metadata": {},
     "output_type": "display_data"
    }
   ],
   "source": [
    "# pairplot\n",
    "sns.pairplot(df_hept_norm)"
   ]
  },
  {
   "cell_type": "markdown",
   "metadata": {},
   "source": [
    "# 2. Principal Component Analysis\n",
    "\n",
    "We have demonstrated how to use principal component analysis (PCA) to do dimensionality reduction for visualization in the previous lab. Now let us look at PCA in greater details."
   ]
  },
  {
   "cell_type": "code",
   "execution_count": 38,
   "metadata": {
    "collapsed": false
   },
   "outputs": [],
   "source": [
    "# Create a PCA model\n",
    "pca_model = skd.PCA().fit(df_hept_norm.ix[:,:7])"
   ]
  },
  {
   "cell_type": "code",
   "execution_count": 40,
   "metadata": {
    "collapsed": false
   },
   "outputs": [
    {
     "data": {
      "text/plain": [
       "(7, 7)"
      ]
     },
     "execution_count": 40,
     "metadata": {},
     "output_type": "execute_result"
    }
   ],
   "source": [
    "# There are 7 components extracted from the data; each component is\n",
    "# a 7-dimensional vector.\n",
    "pca_model.components_.shape"
   ]
  },
  {
   "cell_type": "code",
   "execution_count": 41,
   "metadata": {
    "collapsed": false
   },
   "outputs": [
    {
     "data": {
      "text/plain": [
       "array([4.64611996, 1.24408391, 0.54272305, 0.47621544, 0.25548619,\n",
       "       0.0759954 , 0.05104272])"
      ]
     },
     "execution_count": 41,
     "metadata": {},
     "output_type": "execute_result"
    }
   ],
   "source": [
    "# Look at the variances explained by each component.\n",
    "# These values equal to the eigenvalues of the correlation matrix.\n",
    "pca_model.explained_variance_"
   ]
  },
  {
   "cell_type": "markdown",
   "metadata": {},
   "source": [
    "One way of determining the number of principal components to retain is to look at the explained variance as shown above, and drop those principal components whose explained variance is smaller than 1.\n",
    "\n",
    "Another way is to create a __Scree Plot__ as below, and find the \"elbow\" point on the plotted curve."
   ]
  },
  {
   "cell_type": "code",
   "execution_count": 43,
   "metadata": {
    "collapsed": false
   },
   "outputs": [
    {
     "data": {
      "text/plain": [
       "[<matplotlib.lines.Line2D at 0x1237d9438>]"
      ]
     },
     "execution_count": 43,
     "metadata": {},
     "output_type": "execute_result"
    },
    {
     "data": {
      "image/png": "[encoded data removed]",
      "text/plain": [
       "<Figure size 432x288 with 1 Axes>"
      ]
     },
     "metadata": {},
     "output_type": "display_data"
    }
   ],
   "source": [
    "# A \"scree\" plot.\n",
    "plt.plot(range(1,8),pca_model.explained_variance_,'b-o')"
   ]
  },
  {
   "cell_type": "markdown",
   "metadata": {},
   "source": [
    "Next we will create a __biplot__, which is 2-D scatterplot showing all the data points as well as the data variables in the space defined by the first two principal components."
   ]
  },
  {
   "cell_type": "code",
   "execution_count": 44,
   "metadata": {
    "collapsed": false
   },
   "outputs": [
    {
     "data": {
      "image/png": "[encoded data removed]",
      "text/plain": [
       "<Figure size 576x432 with 1 Axes>"
      ]
     },
     "metadata": {},
     "output_type": "display_data"
    }
   ],
   "source": [
    "# Scatterplot of disaggregated data\n",
    "X = pca_model.transform(df_hept_norm.ix[:,:7])\n",
    "plt.figure(figsize=(8,6))\n",
    "plt.scatter(X[:,0], X[:,1])\n",
    "plt.xlabel('PC1')\n",
    "plt.ylabel('PC2')\n",
    "plt.title('PCA biplot')\n",
    "plt.ylim(-4, 10)\n",
    "\n",
    "# Add variable unit vector projections\n",
    "V = pca_model.transform(np.identity(X.shape[1]))\n",
    "for i, v in enumerate(V):\n",
    "    plt.annotate(df_hept_norm.columns[i], \n",
    "                 xy=(0,0), xytext=v[:2]*10, \n",
    "                 fontsize=13, color='orange',\n",
    "                 arrowprops=dict(\n",
    "                    arrowstyle='<-', linewidth=2, color='orange'))"
   ]
  },
  {
   "cell_type": "markdown",
   "metadata": {},
   "source": [
    "### Q1: What's the correlation between PC1 and *Score* from the original data?"
   ]
  },
  {
   "cell_type": "code",
   "execution_count": 4,
   "metadata": {},
   "outputs": [],
   "source": [
    "### YOUR CODE HERE ###"
   ]
  },
  {
   "cell_type": "markdown",
   "metadata": {},
   "source": [
    "__(YOUR INTERPRETATION HERE)__"
   ]
  },
  {
   "cell_type": "markdown",
   "metadata": {},
   "source": [
    "# 3. Factor Analysis\n",
    "\n",
    "We didn't cover factor analysis in class but it is in the readings. Factor analysis is similar to PCA but we have a little bit more control over the factors and how they relate to each other.\n",
    "\n",
    "Below, we'll create 3 factors for the events and then print out their loadings.  That tells us how much each event contributs to each factor."
   ]
  },
  {
   "cell_type": "code",
   "execution_count": 45,
   "metadata": {
    "collapsed": false
   },
   "outputs": [
    {
     "data": {
      "text/html": [
       "<div>\n",
       "<style scoped>\n",
       "    .dataframe tbody tr th:only-of-type {\n",
       "        vertical-align: middle;\n",
       "    }\n",
       "\n",
       "    .dataframe tbody tr th {\n",
       "        vertical-align: top;\n",
       "    }\n",
       "\n",
       "    .dataframe thead th {\n",
       "        text-align: right;\n",
       "    }\n",
       "</style>\n",
       "<table border=\"1\" class=\"dataframe\">\n",
       "  <thead>\n",
       "    <tr style=\"text-align: right;\">\n",
       "      <th></th>\n",
       "      <th>Factor1</th>\n",
       "      <th>Factor2</th>\n",
       "      <th>Factor3</th>\n",
       "    </tr>\n",
       "  </thead>\n",
       "  <tbody>\n",
       "    <tr>\n",
       "      <th>Hurdles</th>\n",
       "      <td>0.951275</td>\n",
       "      <td>0.187302</td>\n",
       "      <td>0.109397</td>\n",
       "    </tr>\n",
       "    <tr>\n",
       "      <th>HighJump</th>\n",
       "      <td>-0.763002</td>\n",
       "      <td>-0.446091</td>\n",
       "      <td>0.050968</td>\n",
       "    </tr>\n",
       "    <tr>\n",
       "      <th>Shot</th>\n",
       "      <td>-0.732991</td>\n",
       "      <td>0.160497</td>\n",
       "      <td>0.303633</td>\n",
       "    </tr>\n",
       "    <tr>\n",
       "      <th>Run200m</th>\n",
       "      <td>0.885045</td>\n",
       "      <td>-0.403132</td>\n",
       "      <td>0.056832</td>\n",
       "    </tr>\n",
       "    <tr>\n",
       "      <th>LongJump</th>\n",
       "      <td>-0.964212</td>\n",
       "      <td>-0.076056</td>\n",
       "      <td>0.140774</td>\n",
       "    </tr>\n",
       "    <tr>\n",
       "      <th>Javelin</th>\n",
       "      <td>-0.129255</td>\n",
       "      <td>0.511201</td>\n",
       "      <td>0.092702</td>\n",
       "    </tr>\n",
       "    <tr>\n",
       "      <th>Run800m</th>\n",
       "      <td>0.750836</td>\n",
       "      <td>0.151658</td>\n",
       "      <td>0.308775</td>\n",
       "    </tr>\n",
       "  </tbody>\n",
       "</table>\n",
       "</div>"
      ],
      "text/plain": [
       "           Factor1   Factor2   Factor3\n",
       "Hurdles   0.951275  0.187302  0.109397\n",
       "HighJump -0.763002 -0.446091  0.050968\n",
       "Shot     -0.732991  0.160497  0.303633\n",
       "Run200m   0.885045 -0.403132  0.056832\n",
       "LongJump -0.964212 -0.076056  0.140774\n",
       "Javelin  -0.129255  0.511201  0.092702\n",
       "Run800m   0.750836  0.151658  0.308775"
      ]
     },
     "execution_count": 45,
     "metadata": {},
     "output_type": "execute_result"
    }
   ],
   "source": [
    "# Create a three-factor model\n",
    "fa_model = skd.FactorAnalysis(n_components=3) \\\n",
    "              .fit(df_hept_norm.ix[:,:7])\n",
    "\n",
    "# Show the loadings\n",
    "df_loadings = pd.DataFrame(fa_model.components_[:3,:].T, \n",
    "                   index=df_hept.columns,\n",
    "                   columns=['Factor1', 'Factor2', 'Factor3'])\n",
    "df_loadings"
   ]
  },
  {
   "cell_type": "code",
   "execution_count": 46,
   "metadata": {
    "collapsed": false
   },
   "outputs": [
    {
     "data": {
      "text/plain": [
       "<seaborn.matrix.ClusterGrid at 0x1237eb080>"
      ]
     },
     "execution_count": 46,
     "metadata": {},
     "output_type": "execute_result"
    },
    {
     "data": {
      "image/png": "[encoded data removed]",
      "text/plain": [
       "<Figure size 720x720 with 4 Axes>"
      ]
     },
     "metadata": {},
     "output_type": "display_data"
    }
   ],
   "source": [
    "# Visualize the factor loading matrix\n",
    "sns.clustermap(df_loadings)"
   ]
  },
  {
   "cell_type": "markdown",
   "metadata": {},
   "source": [
    "If you read down Factor 1 you can see that Hurdles, Run200m and Run800m seem to have high loadings.  We might name this the \"running\" factor.  Factor 3 has relatively high values for the jumping events.  Factor 2 is a bit of a mishmash.  We see high values for shot and javelin, which makes sense, but also for Run800m.  We might not have a great story for this.  Given our experience with PCA above we might try a two factor model instead."
   ]
  },
  {
   "cell_type": "code",
   "execution_count": 47,
   "metadata": {
    "collapsed": false
   },
   "outputs": [
    {
     "data": {
      "text/html": [
       "<div>\n",
       "<style scoped>\n",
       "    .dataframe tbody tr th:only-of-type {\n",
       "        vertical-align: middle;\n",
       "    }\n",
       "\n",
       "    .dataframe tbody tr th {\n",
       "        vertical-align: top;\n",
       "    }\n",
       "\n",
       "    .dataframe thead th {\n",
       "        text-align: right;\n",
       "    }\n",
       "</style>\n",
       "<table border=\"1\" class=\"dataframe\">\n",
       "  <thead>\n",
       "    <tr style=\"text-align: right;\">\n",
       "      <th></th>\n",
       "      <th>Factor1</th>\n",
       "      <th>Factor2</th>\n",
       "    </tr>\n",
       "  </thead>\n",
       "  <tbody>\n",
       "    <tr>\n",
       "      <th>Hurdles</th>\n",
       "      <td>0.956422</td>\n",
       "      <td>0.173830</td>\n",
       "    </tr>\n",
       "    <tr>\n",
       "      <th>HighJump</th>\n",
       "      <td>-0.769389</td>\n",
       "      <td>-0.433264</td>\n",
       "    </tr>\n",
       "    <tr>\n",
       "      <th>Shot</th>\n",
       "      <td>-0.721458</td>\n",
       "      <td>0.186360</td>\n",
       "    </tr>\n",
       "    <tr>\n",
       "      <th>Run200m</th>\n",
       "      <td>0.877247</td>\n",
       "      <td>-0.401455</td>\n",
       "    </tr>\n",
       "    <tr>\n",
       "      <th>LongJump</th>\n",
       "      <td>-0.953748</td>\n",
       "      <td>-0.051143</td>\n",
       "    </tr>\n",
       "    <tr>\n",
       "      <th>Javelin</th>\n",
       "      <td>-0.126044</td>\n",
       "      <td>0.508433</td>\n",
       "    </tr>\n",
       "    <tr>\n",
       "      <th>Run800m</th>\n",
       "      <td>0.756286</td>\n",
       "      <td>0.140128</td>\n",
       "    </tr>\n",
       "  </tbody>\n",
       "</table>\n",
       "</div>"
      ],
      "text/plain": [
       "           Factor1   Factor2\n",
       "Hurdles   0.956422  0.173830\n",
       "HighJump -0.769389 -0.433264\n",
       "Shot     -0.721458  0.186360\n",
       "Run200m   0.877247 -0.401455\n",
       "LongJump -0.953748 -0.051143\n",
       "Javelin  -0.126044  0.508433\n",
       "Run800m   0.756286  0.140128"
      ]
     },
     "execution_count": 47,
     "metadata": {},
     "output_type": "execute_result"
    }
   ],
   "source": [
    "# Create a three-factor model\n",
    "fa_model = skd.FactorAnalysis(n_components=2) \\\n",
    "              .fit(df_hept_norm.ix[:,:7])\n",
    "\n",
    "# Show the loadings\n",
    "df_loadings = pd.DataFrame(fa_model.components_[:2,:].T, \n",
    "                   index=df_hept.columns,\n",
    "                   columns=['Factor1', 'Factor2'])\n",
    "df_loadings"
   ]
  },
  {
   "cell_type": "code",
   "execution_count": 20,
   "metadata": {
    "collapsed": false
   },
   "outputs": [
    {
     "data": {
      "text/plain": [
       "<seaborn.matrix.ClusterGrid at 0x114e502e8>"
      ]
     },
     "execution_count": 20,
     "metadata": {},
     "output_type": "execute_result"
    },
    {
     "data": {
      "image/png": "[encoded data removed]",
      "text/plain": [
       "<matplotlib.figure.Figure at 0x114e50400>"
      ]
     },
     "metadata": {},
     "output_type": "display_data"
    }
   ],
   "source": [
    "# Visualize the factor loading matrix\n",
    "sns.clustermap(df_loadings)"
   ]
  },
  {
   "cell_type": "markdown",
   "metadata": {},
   "source": [
    "# Analysis 2 (Products)\n",
    "\n",
    "\n",
    "\n"
   ]
  },
  {
   "cell_type": "code",
   "execution_count": 70,
   "metadata": {
    "collapsed": false
   },
   "outputs": [
    {
     "data": {
      "text/html": [
       "<style>body {\n",
       "    margin: 0;\n",
       "    font-family: Helvetica;\n",
       "}\n",
       "table.dataframe {\n",
       "    border-collapse: collapse;\n",
       "    border: none;\n",
       "}\n",
       "table.dataframe tr {\n",
       "    border: none;\n",
       "}\n",
       "table.dataframe td, table.dataframe th {\n",
       "    margin: 0;\n",
       "    border: 1px solid white;\n",
       "    padding-left: 0.25em;\n",
       "    padding-right: 0.25em;\n",
       "}\n",
       "table.dataframe th:not(:empty) {\n",
       "    background-color: #fec;\n",
       "    text-align: left;\n",
       "    font-weight: normal;\n",
       "}\n",
       "table.dataframe tr:nth-child(2) th:empty {\n",
       "    border-left: none;\n",
       "    border-right: 1px dashed #888;\n",
       "}\n",
       "table.dataframe td {\n",
       "    border: 2px solid #ccf;\n",
       "    background-color: #f4f4ff;\n",
       "}\n",
       "h3 {\n",
       "    color: white;\n",
       "    background-color: black;\n",
       "    padding: 0.5em;\n",
       "}\n",
       "</style>"
      ],
      "text/plain": [
       "<IPython.core.display.HTML object>"
      ]
     },
     "execution_count": 70,
     "metadata": {},
     "output_type": "execute_result"
    }
   ],
   "source": [
    "import pandas as pd\n",
    "import numpy as np\n",
    "import seaborn as sns\n",
    "from scipy import stats\n",
    "import statsmodels.formula.api as smf\n",
    "import statsmodels.api as sm\n",
    "%matplotlib inline\n",
    "import warnings\n",
    "warnings.filterwarnings('ignore')\n",
    "sns.set_context(\"notebook\")  # make figures fit\n",
    "from pylab import rcParams\n",
    "import matplotlib.pyplot as plt\n",
    "from statsmodels.graphics.mosaicplot import mosaic\n",
    "from IPython.display import Image\n",
    "from IPython.core.display import HTML \n",
    "import sklearn as sk\n",
    "import sklearn.cluster as skc\n",
    "import sklearn.decomposition as skd\n",
    "import sklearn.manifold as skm\n",
    "import sklearn.preprocessing as skp\n",
    "\n",
    "# make the Pandas tables a little more readable\n",
    "\n",
    "from IPython.core.display import HTML\n",
    "css = open('style-table.css').read() + open('style-notebook.css').read()\n",
    "HTML('<style>{}</style>'.format(css))"
   ]
  },
  {
   "cell_type": "markdown",
   "metadata": {},
   "source": [
    "# 1. Bivariate Analysis (Quick Review)\n",
    "\n",
    "In this lab, we will mostly follow the analytic procedure in the following book chapter:\n",
    "\n",
    "> Chapman and Feit, \"Reducing Data Complexity\", _R for Marketing Research and Analytics_, Chapter 8, (2015).\n",
    "\n",
    "Many of the text descriptions below are taken from this chapter. Of course, you will see example code given in python instead of R. We will use the dataset in the book, customer brand perception surveys. For exercise questions, you will work on the iris dataset.\n",
    "\n",
    "This section involves data importing and some descriptive analysis, serving as a quick review of previous weeks."
   ]
  },
  {
   "cell_type": "code",
   "execution_count": 71,
   "metadata": {
    "collapsed": false
   },
   "outputs": [
    {
     "data": {
      "text/html": [
       "<div>\n",
       "<style scoped>\n",
       "    .dataframe tbody tr th:only-of-type {\n",
       "        vertical-align: middle;\n",
       "    }\n",
       "\n",
       "    .dataframe tbody tr th {\n",
       "        vertical-align: top;\n",
       "    }\n",
       "\n",
       "    .dataframe thead th {\n",
       "        text-align: right;\n",
       "    }\n",
       "</style>\n",
       "<table border=\"1\" class=\"dataframe\">\n",
       "  <thead>\n",
       "    <tr style=\"text-align: right;\">\n",
       "      <th></th>\n",
       "      <th>perform</th>\n",
       "      <th>leader</th>\n",
       "      <th>latest</th>\n",
       "      <th>fun</th>\n",
       "      <th>serious</th>\n",
       "      <th>bargain</th>\n",
       "      <th>value</th>\n",
       "      <th>trendy</th>\n",
       "      <th>rebuy</th>\n",
       "      <th>brand</th>\n",
       "    </tr>\n",
       "  </thead>\n",
       "  <tbody>\n",
       "    <tr>\n",
       "      <th>0</th>\n",
       "      <td>2</td>\n",
       "      <td>4</td>\n",
       "      <td>8</td>\n",
       "      <td>8</td>\n",
       "      <td>2</td>\n",
       "      <td>9</td>\n",
       "      <td>7</td>\n",
       "      <td>4</td>\n",
       "      <td>6</td>\n",
       "      <td>a</td>\n",
       "    </tr>\n",
       "    <tr>\n",
       "      <th>1</th>\n",
       "      <td>1</td>\n",
       "      <td>1</td>\n",
       "      <td>4</td>\n",
       "      <td>7</td>\n",
       "      <td>1</td>\n",
       "      <td>1</td>\n",
       "      <td>1</td>\n",
       "      <td>2</td>\n",
       "      <td>2</td>\n",
       "      <td>a</td>\n",
       "    </tr>\n",
       "    <tr>\n",
       "      <th>2</th>\n",
       "      <td>2</td>\n",
       "      <td>3</td>\n",
       "      <td>5</td>\n",
       "      <td>9</td>\n",
       "      <td>2</td>\n",
       "      <td>9</td>\n",
       "      <td>5</td>\n",
       "      <td>1</td>\n",
       "      <td>6</td>\n",
       "      <td>a</td>\n",
       "    </tr>\n",
       "    <tr>\n",
       "      <th>3</th>\n",
       "      <td>1</td>\n",
       "      <td>6</td>\n",
       "      <td>10</td>\n",
       "      <td>8</td>\n",
       "      <td>3</td>\n",
       "      <td>4</td>\n",
       "      <td>5</td>\n",
       "      <td>2</td>\n",
       "      <td>1</td>\n",
       "      <td>a</td>\n",
       "    </tr>\n",
       "    <tr>\n",
       "      <th>4</th>\n",
       "      <td>1</td>\n",
       "      <td>1</td>\n",
       "      <td>5</td>\n",
       "      <td>8</td>\n",
       "      <td>1</td>\n",
       "      <td>9</td>\n",
       "      <td>9</td>\n",
       "      <td>1</td>\n",
       "      <td>1</td>\n",
       "      <td>a</td>\n",
       "    </tr>\n",
       "  </tbody>\n",
       "</table>\n",
       "</div>"
      ],
      "text/plain": [
       "   perform  leader  latest  fun  serious  bargain  value  trendy  rebuy brand\n",
       "0        2       4       8    8        2        9      7       4      6     a\n",
       "1        1       1       4    7        1        1      1       2      2     a\n",
       "2        2       3       5    9        2        9      5       1      6     a\n",
       "3        1       6      10    8        3        4      5       2      1     a\n",
       "4        1       1       5    8        1        9      9       1      1     a"
      ]
     },
     "execution_count": 71,
     "metadata": {},
     "output_type": "execute_result"
    }
   ],
   "source": [
    "# Loads dataframe from a remote URL\n",
    "df_survey = pd.read_csv('products.csv')\n",
    "df_survey.head()"
   ]
  },
  {
   "cell_type": "code",
   "execution_count": 72,
   "metadata": {
    "collapsed": false
   },
   "outputs": [
    {
     "data": {
      "text/html": [
       "<div>\n",
       "<style scoped>\n",
       "    .dataframe tbody tr th:only-of-type {\n",
       "        vertical-align: middle;\n",
       "    }\n",
       "\n",
       "    .dataframe tbody tr th {\n",
       "        vertical-align: top;\n",
       "    }\n",
       "\n",
       "    .dataframe thead th {\n",
       "        text-align: right;\n",
       "    }\n",
       "</style>\n",
       "<table border=\"1\" class=\"dataframe\">\n",
       "  <thead>\n",
       "    <tr style=\"text-align: right;\">\n",
       "      <th></th>\n",
       "      <th>perform</th>\n",
       "      <th>leader</th>\n",
       "      <th>latest</th>\n",
       "      <th>fun</th>\n",
       "      <th>serious</th>\n",
       "      <th>bargain</th>\n",
       "      <th>value</th>\n",
       "      <th>trendy</th>\n",
       "      <th>rebuy</th>\n",
       "    </tr>\n",
       "  </thead>\n",
       "  <tbody>\n",
       "    <tr>\n",
       "      <th>count</th>\n",
       "      <td>1000.000000</td>\n",
       "      <td>1000.000000</td>\n",
       "      <td>1000.000000</td>\n",
       "      <td>1000.00000</td>\n",
       "      <td>1000.000000</td>\n",
       "      <td>1000.000000</td>\n",
       "      <td>1000.00000</td>\n",
       "      <td>1000.000000</td>\n",
       "      <td>1000.000000</td>\n",
       "    </tr>\n",
       "    <tr>\n",
       "      <th>mean</th>\n",
       "      <td>4.488000</td>\n",
       "      <td>4.417000</td>\n",
       "      <td>6.195000</td>\n",
       "      <td>6.06800</td>\n",
       "      <td>4.323000</td>\n",
       "      <td>4.259000</td>\n",
       "      <td>4.33700</td>\n",
       "      <td>5.220000</td>\n",
       "      <td>3.727000</td>\n",
       "    </tr>\n",
       "    <tr>\n",
       "      <th>std</th>\n",
       "      <td>3.203454</td>\n",
       "      <td>2.608432</td>\n",
       "      <td>3.078059</td>\n",
       "      <td>2.74425</td>\n",
       "      <td>2.778199</td>\n",
       "      <td>2.667027</td>\n",
       "      <td>2.39858</td>\n",
       "      <td>2.742101</td>\n",
       "      <td>2.544592</td>\n",
       "    </tr>\n",
       "    <tr>\n",
       "      <th>min</th>\n",
       "      <td>1.000000</td>\n",
       "      <td>1.000000</td>\n",
       "      <td>1.000000</td>\n",
       "      <td>1.00000</td>\n",
       "      <td>1.000000</td>\n",
       "      <td>1.000000</td>\n",
       "      <td>1.00000</td>\n",
       "      <td>1.000000</td>\n",
       "      <td>1.000000</td>\n",
       "    </tr>\n",
       "    <tr>\n",
       "      <th>25%</th>\n",
       "      <td>1.000000</td>\n",
       "      <td>2.000000</td>\n",
       "      <td>4.000000</td>\n",
       "      <td>4.00000</td>\n",
       "      <td>2.000000</td>\n",
       "      <td>2.000000</td>\n",
       "      <td>2.00000</td>\n",
       "      <td>3.000000</td>\n",
       "      <td>1.000000</td>\n",
       "    </tr>\n",
       "    <tr>\n",
       "      <th>50%</th>\n",
       "      <td>4.000000</td>\n",
       "      <td>4.000000</td>\n",
       "      <td>7.000000</td>\n",
       "      <td>6.00000</td>\n",
       "      <td>4.000000</td>\n",
       "      <td>4.000000</td>\n",
       "      <td>4.00000</td>\n",
       "      <td>5.000000</td>\n",
       "      <td>3.000000</td>\n",
       "    </tr>\n",
       "    <tr>\n",
       "      <th>75%</th>\n",
       "      <td>7.000000</td>\n",
       "      <td>6.000000</td>\n",
       "      <td>9.000000</td>\n",
       "      <td>8.00000</td>\n",
       "      <td>6.000000</td>\n",
       "      <td>6.000000</td>\n",
       "      <td>6.00000</td>\n",
       "      <td>7.000000</td>\n",
       "      <td>5.000000</td>\n",
       "    </tr>\n",
       "    <tr>\n",
       "      <th>max</th>\n",
       "      <td>10.000000</td>\n",
       "      <td>10.000000</td>\n",
       "      <td>10.000000</td>\n",
       "      <td>10.00000</td>\n",
       "      <td>10.000000</td>\n",
       "      <td>10.000000</td>\n",
       "      <td>10.00000</td>\n",
       "      <td>10.000000</td>\n",
       "      <td>10.000000</td>\n",
       "    </tr>\n",
       "  </tbody>\n",
       "</table>\n",
       "</div>"
      ],
      "text/plain": [
       "           perform       leader       latest         fun      serious  \\\n",
       "count  1000.000000  1000.000000  1000.000000  1000.00000  1000.000000   \n",
       "mean      4.488000     4.417000     6.195000     6.06800     4.323000   \n",
       "std       3.203454     2.608432     3.078059     2.74425     2.778199   \n",
       "min       1.000000     1.000000     1.000000     1.00000     1.000000   \n",
       "25%       1.000000     2.000000     4.000000     4.00000     2.000000   \n",
       "50%       4.000000     4.000000     7.000000     6.00000     4.000000   \n",
       "75%       7.000000     6.000000     9.000000     8.00000     6.000000   \n",
       "max      10.000000    10.000000    10.000000    10.00000    10.000000   \n",
       "\n",
       "           bargain       value       trendy        rebuy  \n",
       "count  1000.000000  1000.00000  1000.000000  1000.000000  \n",
       "mean      4.259000     4.33700     5.220000     3.727000  \n",
       "std       2.667027     2.39858     2.742101     2.544592  \n",
       "min       1.000000     1.00000     1.000000     1.000000  \n",
       "25%       2.000000     2.00000     3.000000     1.000000  \n",
       "50%       4.000000     4.00000     5.000000     3.000000  \n",
       "75%       6.000000     6.00000     7.000000     5.000000  \n",
       "max      10.000000    10.00000    10.000000    10.000000  "
      ]
     },
     "execution_count": 72,
     "metadata": {},
     "output_type": "execute_result"
    }
   ],
   "source": [
    "# Let's print out summary information to check the data quality \n",
    "# and structure.\n",
    "df_survey.describe()"
   ]
  },
  {
   "cell_type": "code",
   "execution_count": 73,
   "metadata": {
    "collapsed": false
   },
   "outputs": [
    {
     "data": {
      "text/plain": [
       "d    100\n",
       "b    100\n",
       "g    100\n",
       "j    100\n",
       "e    100\n",
       "i    100\n",
       "h    100\n",
       "a    100\n",
       "f    100\n",
       "c    100\n",
       "Name: brand, dtype: int64"
      ]
     },
     "execution_count": 73,
     "metadata": {},
     "output_type": "execute_result"
    }
   ],
   "source": [
    "# Let's check how many records we have per brand.\n",
    "df_survey.brand.value_counts()"
   ]
  },
  {
   "cell_type": "markdown",
   "metadata": {},
   "source": [
    "Based on the above summary information, we can tell that the data are clean and are formatted appropriately."
   ]
  },
  {
   "cell_type": "markdown",
   "metadata": {},
   "source": [
    "## 1.2 Rescaling the Data\n",
    "Let us normalize the data by computing the \"[z-scores](https://en.wikipedia.org/wiki/Standard_score#Calculation_from_raw_score)\" of the values. This step of normalization (rescaling) is important to PCA.\n",
    "\n",
    "Given a column x, the z-scores of the elements in x is simply\n",
    "\n",
    "    (x - mean(x)) / std(x)\n",
    "    \n",
    "where, `std` means standard deviation."
   ]
  },
  {
   "cell_type": "markdown",
   "metadata": {},
   "source": [
    "### Q2. Rescale the data"
   ]
  },
  {
   "cell_type": "code",
   "execution_count": 2,
   "metadata": {
    "collapsed": false
   },
   "outputs": [],
   "source": [
    "df_survey_norm = df_survey.copy()\n",
    "\n",
    "## YOUR CODE HERE ##"
   ]
  },
  {
   "cell_type": "markdown",
   "metadata": {},
   "source": [
    "After rescaling (normalization), the means of all columns are all technically 0, and standard deviation 1.0."
   ]
  },
  {
   "cell_type": "markdown",
   "metadata": {},
   "source": [
    "## 1.3 Bivariate Analysis\n",
    "For initial inspection of bivariate relationships among the variables, let us create a correlation plot."
   ]
  },
  {
   "cell_type": "markdown",
   "metadata": {},
   "source": [
    "### Q3. Create a clustermap. What do you see?\n",
    "- Can you identify the clusters of variables from the plot?"
   ]
  },
  {
   "cell_type": "code",
   "execution_count": 4,
   "metadata": {},
   "outputs": [],
   "source": [
    "### YOUR CODE HERE ###"
   ]
  },
  {
   "cell_type": "markdown",
   "metadata": {},
   "source": [
    "__(YOUR INTERPRETATION HERE)__"
   ]
  },
  {
   "cell_type": "markdown",
   "metadata": {},
   "source": [
    "## By-Brand Analysis\n",
    "We are going combine all products from one manufacturer into a row (based on the mean score)"
   ]
  },
  {
   "cell_type": "code",
   "execution_count": 7,
   "metadata": {
    "collapsed": false
   },
   "outputs": [
    {
     "data": {
      "text/html": [
       "<div>\n",
       "<style scoped>\n",
       "    .dataframe tbody tr th:only-of-type {\n",
       "        vertical-align: middle;\n",
       "    }\n",
       "\n",
       "    .dataframe tbody tr th {\n",
       "        vertical-align: top;\n",
       "    }\n",
       "\n",
       "    .dataframe thead th {\n",
       "        text-align: right;\n",
       "    }\n",
       "</style>\n",
       "<table border=\"1\" class=\"dataframe\">\n",
       "  <thead>\n",
       "    <tr style=\"text-align: right;\">\n",
       "      <th></th>\n",
       "      <th>perform</th>\n",
       "      <th>leader</th>\n",
       "      <th>latest</th>\n",
       "      <th>fun</th>\n",
       "      <th>serious</th>\n",
       "      <th>bargain</th>\n",
       "      <th>value</th>\n",
       "      <th>trendy</th>\n",
       "      <th>rebuy</th>\n",
       "    </tr>\n",
       "    <tr>\n",
       "      <th>brand</th>\n",
       "      <th></th>\n",
       "      <th></th>\n",
       "      <th></th>\n",
       "      <th></th>\n",
       "      <th></th>\n",
       "      <th></th>\n",
       "      <th></th>\n",
       "      <th></th>\n",
       "      <th></th>\n",
       "    </tr>\n",
       "  </thead>\n",
       "  <tbody>\n",
       "    <tr>\n",
       "      <th>a</th>\n",
       "      <td>1.65</td>\n",
       "      <td>3.04</td>\n",
       "      <td>7.46</td>\n",
       "      <td>7.87</td>\n",
       "      <td>1.77</td>\n",
       "      <td>4.83</td>\n",
       "      <td>4.78</td>\n",
       "      <td>3.78</td>\n",
       "      <td>2.21</td>\n",
       "    </tr>\n",
       "    <tr>\n",
       "      <th>b</th>\n",
       "      <td>7.47</td>\n",
       "      <td>7.21</td>\n",
       "      <td>8.43</td>\n",
       "      <td>3.40</td>\n",
       "      <td>7.61</td>\n",
       "      <td>4.37</td>\n",
       "      <td>4.70</td>\n",
       "      <td>7.25</td>\n",
       "      <td>4.33</td>\n",
       "    </tr>\n",
       "    <tr>\n",
       "      <th>c</th>\n",
       "      <td>6.57</td>\n",
       "      <td>7.45</td>\n",
       "      <td>5.88</td>\n",
       "      <td>3.75</td>\n",
       "      <td>7.72</td>\n",
       "      <td>2.64</td>\n",
       "      <td>3.28</td>\n",
       "      <td>5.29</td>\n",
       "      <td>3.39</td>\n",
       "    </tr>\n",
       "    <tr>\n",
       "      <th>d</th>\n",
       "      <td>2.31</td>\n",
       "      <td>2.87</td>\n",
       "      <td>7.28</td>\n",
       "      <td>6.58</td>\n",
       "      <td>2.40</td>\n",
       "      <td>1.91</td>\n",
       "      <td>2.10</td>\n",
       "      <td>7.24</td>\n",
       "      <td>2.47</td>\n",
       "    </tr>\n",
       "    <tr>\n",
       "      <th>e</th>\n",
       "      <td>2.68</td>\n",
       "      <td>4.92</td>\n",
       "      <td>7.60</td>\n",
       "      <td>6.88</td>\n",
       "      <td>4.44</td>\n",
       "      <td>5.73</td>\n",
       "      <td>5.34</td>\n",
       "      <td>5.60</td>\n",
       "      <td>3.82</td>\n",
       "    </tr>\n",
       "  </tbody>\n",
       "</table>\n",
       "</div>"
      ],
      "text/plain": [
       "       perform  leader  latest   fun  serious  bargain  value  trendy  rebuy\n",
       "brand                                                                       \n",
       "a         1.65    3.04    7.46  7.87     1.77     4.83   4.78    3.78   2.21\n",
       "b         7.47    7.21    8.43  3.40     7.61     4.37   4.70    7.25   4.33\n",
       "c         6.57    7.45    5.88  3.75     7.72     2.64   3.28    5.29   3.39\n",
       "d         2.31    2.87    7.28  6.58     2.40     1.91   2.10    7.24   2.47\n",
       "e         2.68    4.92    7.60  6.88     4.44     5.73   5.34    5.60   3.82"
      ]
     },
     "execution_count": 7,
     "metadata": {},
     "output_type": "execute_result"
    }
   ],
   "source": [
    "df_bybrand = df_survey_norm.groupby('brand').mean()\n",
    "df_bybrand.head()"
   ]
  },
  {
   "cell_type": "markdown",
   "metadata": {},
   "source": [
    "We can see the correlations of the values across columns for `bargain/value/rebuy`, which is consistent with the correlation matrix visualization above. But it is better to formalize such kind of insights, and the remainder of this lab introduces how to do so."
   ]
  },
  {
   "cell_type": "markdown",
   "metadata": {},
   "source": [
    "# 2. Principal Component Analysis\n",
    "\n",
    "We have demonstrated how to use principal component analysis (PCA) to do dimensionality reduction for visualization in the previous lab. Now let us look at PCA in greater details."
   ]
  },
  {
   "cell_type": "markdown",
   "metadata": {},
   "source": [
    "### Q4_a. Create a PCA model"
   ]
  },
  {
   "cell_type": "code",
   "execution_count": 8,
   "metadata": {
    "collapsed": true
   },
   "outputs": [],
   "source": [
    "# Create a PCA model, call it pca_model\n",
    "### YOUR CODE HERE ###\n",
    "# pca_model = ???"
   ]
  },
  {
   "cell_type": "code",
   "execution_count": 3,
   "metadata": {
    "collapsed": false
   },
   "outputs": [],
   "source": [
    "# Confirm that there are 9 components extracted from the data; each component is\n",
    "# a 9-dimensional vector.\n",
    "pca_model.components_.shape"
   ]
  },
  {
   "cell_type": "markdown",
   "metadata": {},
   "source": [
    "### Q4_b. Look at the variances explained by each component."
   ]
  },
  {
   "cell_type": "code",
   "execution_count": 2,
   "metadata": {
    "collapsed": false
   },
   "outputs": [],
   "source": [
    "# These values equal to the eigenvalues of the correlation matrix.\n",
    "\n",
    "#### YOUR CODE HERE ###"
   ]
  },
  {
   "cell_type": "markdown",
   "metadata": {},
   "source": [
    "__(YOUR INTERPRETATION HERE)__"
   ]
  },
  {
   "cell_type": "markdown",
   "metadata": {},
   "source": [
    "One way of determining the number of principal components to retain is to look at the explained variance as shown above, and drop those principal components whose explained variance is smaller than 1.\n",
    "\n",
    "Another way is to create a __Scree Plot__ as below, and find the \"elbow\" point on the plotted curve."
   ]
  },
  {
   "cell_type": "markdown",
   "metadata": {},
   "source": [
    "### Q5. Generate a scree plot"
   ]
  },
  {
   "cell_type": "code",
   "execution_count": 4,
   "metadata": {},
   "outputs": [],
   "source": [
    "### YOUR CODE HERE ###"
   ]
  },
  {
   "cell_type": "markdown",
   "metadata": {},
   "source": [
    "__(YOUR INTERPRETATION HERE)__"
   ]
  },
  {
   "cell_type": "markdown",
   "metadata": {},
   "source": [
    "## How many components do you think we should keep?"
   ]
  },
  {
   "cell_type": "markdown",
   "metadata": {},
   "source": [
    "Next we will create a __biplot__, which is 2-D scatterplot showing all the data points as well as the data variables in the space defined by the first two principal components."
   ]
  },
  {
   "cell_type": "code",
   "execution_count": null,
   "metadata": {
    "collapsed": false
   },
   "outputs": [],
   "source": [
    "# Scatterplot of disaggregated data\n",
    "X = pca_model.transform(df_survey_norm.ix[:,:9])\n",
    "plt.figure(figsize=(8,6))\n",
    "plt.scatter(X[:,0], X[:,1])\n",
    "plt.xlabel('PC1')\n",
    "plt.ylabel('PC2')\n",
    "plt.title('PCA biplot')\n",
    "plt.ylim(-4, 6)\n",
    "\n",
    "# Add variable unit vector projections\n",
    "V = pca_model.transform(np.identity(X.shape[1]))\n",
    "for i, v in enumerate(V):\n",
    "    plt.annotate(df_survey_norm.columns[i], \n",
    "                 xy=(0,0), xytext=v[:2]*10, \n",
    "                 fontsize=13, color='orange',\n",
    "                 arrowprops=dict(\n",
    "                    arrowstyle='<-', linewidth=2, color='orange'))"
   ]
  },
  {
   "cell_type": "markdown",
   "metadata": {},
   "source": [
    "The above biplot shows not only all the data points, but also the original variable dimensions projected onto the 2-D space defined by the first two principal components.\n",
    "\n",
    "To make the above biplot easier to interpret, we can show the aggregated data (by product) rather than individual data points."
   ]
  },
  {
   "cell_type": "code",
   "execution_count": null,
   "metadata": {
    "collapsed": false
   },
   "outputs": [],
   "source": [
    "# Scatterplot of aggregated data\n",
    "X = pca_model.transform(df_bybrand)\n",
    "plt.figure(figsize=(8,6))\n",
    "plt.scatter(X[:,0], X[:,1], s=50)\n",
    "plt.xlabel('PC1')\n",
    "plt.ylabel('PC2')\n",
    "plt.title('PCA: Aggregated Data\\nPerceptual Map')\n",
    "plt.xlim(-6,6)\n",
    "plt.ylim(-4,6)\n",
    "\n",
    "# Add variable unit vector projections\n",
    "V = pca_model.transform(np.identity(X.shape[1]))\n",
    "for i, v in enumerate(V):\n",
    "    plt.annotate(df_survey_norm.columns[i], \n",
    "                 xy=(0,0), xytext=v[:2]*10, \n",
    "                 fontsize=12, color='orange',\n",
    "                 arrowprops=dict(\n",
    "                    arrowstyle='<-', linewidth=2, \n",
    "                    color='orange'))\n",
    "\n",
    "# Add data point annotation\n",
    "for i, s in enumerate(df_bybrand.index):\n",
    "    plt.annotate(s, xy=X[i,:2]+[0.1,-0.1], fontsize=15)"
   ]
  },
  {
   "cell_type": "markdown",
   "metadata": {},
   "source": [
    "The above plot is much more interpretable compared with the previous one. It is called a _perceptual map_, showing where the brands are placed with respect to the first two principal components. \n",
    "\n",
    "See the referred book (by Chapman and Feit) pages 206-209 for instructions on how to interpret this plot. Pay special attention to pages 208-209 in the book where it discusses __caveats of perceptual map interpretation__."
   ]
  },
  {
   "cell_type": "markdown",
   "metadata": {},
   "source": [
    "# 3. Exploratory Factor Analysis\n",
    "\n",
    "Exploratory Factor Analysis (EFA) can produce similar results to PCA, but is conceptually different. Refer to the lecture and reading materials for more details.\n",
    "\n",
    "We will introduce very simple EFA examples below."
   ]
  },
  {
   "cell_type": "code",
   "execution_count": null,
   "metadata": {
    "collapsed": false
   },
   "outputs": [],
   "source": [
    "# build a 2-factor model\n",
    "fa_model = skd.FactorAnalysis(n_components=2).fit(df_survey_norm.ix[:,:9])\n",
    "\n",
    "# Show the loadings\n",
    "pd.DataFrame(fa_model.components_[:2,:].T, \n",
    "             index=df_bybrand.columns,\n",
    "             columns=['Factor1', 'Factor2'])"
   ]
  },
  {
   "cell_type": "markdown",
   "metadata": {},
   "source": [
    "Compare the factors with the principal components. Can you find the similarity between the results?"
   ]
  },
  {
   "cell_type": "code",
   "execution_count": null,
   "metadata": {
    "collapsed": false
   },
   "outputs": [],
   "source": [
    "# build a PCA model to compare with the factor model above\n",
    "pca_model = skd.PCA(n_components=2).fit(df_survey_norm.ix[:,:9])\n",
    "\n",
    "# Show the principcal components\n",
    "pd.DataFrame(pca_model.components_[:2,:].T, \n",
    "             index=df_bybrand.columns,\n",
    "             columns=['PC1', 'PC2'])"
   ]
  },
  {
   "cell_type": "code",
   "execution_count": null,
   "metadata": {
    "collapsed": false
   },
   "outputs": [],
   "source": [
    "# Create a three-factor model\n",
    "fa_model = skd.FactorAnalysis(n_components=3) \\\n",
    "              .fit(df_survey_norm.ix[:,:9])\n",
    "\n",
    "# Show the loadings\n",
    "df_loadings = pd.DataFrame(fa_model.components_[:3,:].T, \n",
    "                   index=df_bybrand.columns,\n",
    "                   columns=['Factor1', 'Factor2', 'Factor3'])\n",
    "df_loadings"
   ]
  },
  {
   "cell_type": "code",
   "execution_count": null,
   "metadata": {
    "collapsed": false
   },
   "outputs": [],
   "source": [
    "# Visualize the factor loading matrix\n",
    "sns.clustermap(df_loadings)"
   ]
  },
  {
   "cell_type": "markdown",
   "metadata": {},
   "source": [
    "### Q6. Can you describe the factors?"
   ]
  },
  {
   "cell_type": "markdown",
   "metadata": {},
   "source": [
    "__(YOUR INTERPRETATION HERE)__"
   ]
  },
  {
   "cell_type": "markdown",
   "metadata": {},
   "source": [
    "There are a number of important concepts within factor analysis that are not covered here, including:\n",
    "- _simple structure_ of factors\n",
    "  - [reference](http://www.ats.ucla.edu/stat/spss/output/factor1.htm)\n",
    "  - [reference](https://en.wikipedia.org/wiki/Factor_analysis#Rotation_methods)\n",
    "- rotation (varimax, promax, ...)\n",
    "  - [strategy for selecting a rotation](http://jalt.org/test/PDF/Brown31.pdf)\n",
    "- orthogonal and oblique factors\n",
    "- determining the number of components in EFA\n",
    "- confirmatory factor analysis (CFA)"
   ]
  },
  {
   "cell_type": "markdown",
   "metadata": {},
   "source": [
    "# 4. Manifold Learning\n",
    "\n",
    "So far the dimensionality reduction methods we have studied are linear in nature. If the actual data points are distributed on a low-dimensional non-linear manifold living in a high-dimensional space, then linear methods will most likely fail to reveal the most intuitive structures of the data. This means we will see \"a mess\" in our low-dimensional visualization while the actual data actually has a very simple and elegant non-linear (e.g., curved) structure. \n",
    "\n",
    "In such situations where linear models face troubles, we can use manifold learning to do non-linear dimensionality reduction. \n"
   ]
  },
  {
   "cell_type": "markdown",
   "metadata": {},
   "source": [
    "## 4.1 Multidimensional Scaling (MDS)\n",
    "MDS seeks a low-dimensional representation of the data that preserves the distances in the high-dimensional space. It can take any kind of distance matrix as input.\n",
    "\n",
    "Note that each time you run MDS, you will get a different result, unless `random_state` is fixed."
   ]
  },
  {
   "cell_type": "markdown",
   "metadata": {},
   "source": [
    "### Q7. Create a MDS representation"
   ]
  },
  {
   "cell_type": "code",
   "execution_count": 4,
   "metadata": {},
   "outputs": [],
   "source": [
    "### YOUR CODE HERE ###"
   ]
  },
  {
   "cell_type": "code",
   "execution_count": null,
   "metadata": {
    "collapsed": false
   },
   "outputs": [],
   "source": [
    "# Use MDS to visualize *brands*.\n",
    "# Recall that df_bybrand is the mean-metric-by-brand \n",
    "# we created above.\n"
   ]
  },
  {
   "cell_type": "markdown",
   "metadata": {},
   "source": [
    "__(YOUR INTERPRETATION HERE)__"
   ]
  },
  {
   "cell_type": "markdown",
   "metadata": {},
   "source": [
    "## 4.2  t-distributed Stochastic Neighbor Embedding (t-SNE)\n",
    "t-SNE is not a new technique, but rather one that has recently come into\n",
    "fashion, partly as a result of access to more powerful computing resources.\n",
    "t-SNE is similar to MDS.  If you have time, repeat the work you did in exercise 4.1 using ```sklearn.manifold.TSNE``` instead of MDS.  Please see t-SNE documentation at http://scikit-learn.org/stable/modules/generated/sklearn.manifold.TSNE.html\n"
   ]
  },
  {
   "cell_type": "markdown",
   "metadata": {},
   "source": [
    "### Q8. Create a t-SNE representation"
   ]
  },
  {
   "cell_type": "code",
   "execution_count": 4,
   "metadata": {},
   "outputs": [],
   "source": [
    "### YOUR CODE HERE ###"
   ]
  },
  {
   "cell_type": "code",
   "execution_count": 1,
   "metadata": {},
   "outputs": [],
   "source": [
    "# Use t-SNE to visualize *brands*.\n"
   ]
  },
  {
   "cell_type": "markdown",
   "metadata": {},
   "source": [
    "__(YOUR INTERPRETATION HERE)__"
   ]
  }
 ],
 "metadata": {
  "kernelspec": {
   "display_name": "Python 3",
   "language": "python",
   "name": "python3"
  },
  "language_info": {
   "codemirror_mode": {
    "name": "ipython",
    "version": 3
   },
   "file_extension": ".py",
   "mimetype": "text/x-python",
   "name": "python",
   "nbconvert_exporter": "python",
   "pygments_lexer": "ipython3",
   "version": "3.7.1"
  }
 },
 "nbformat": 4,
 "nbformat_minor": 2
}
