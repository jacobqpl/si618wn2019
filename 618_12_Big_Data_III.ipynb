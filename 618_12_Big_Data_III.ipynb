{
 "cells": [
  {
   "cell_type": "markdown",
   "metadata": {},
   "source": [
    "# Spark DataFrames"
   ]
  },
  {
   "cell_type": "markdown",
   "metadata": {},
   "source": [
    "[PDF of today's slides](resources/618_12_Spark_DataFrames.pdf) <-- LINK THERE"
   ]
  },
  {
   "cell_type": "code",
   "execution_count": 1,
   "metadata": {},
   "outputs": [
    {
     "data": {
      "application/vnd.jupyter.widget-view+json": {
       "model_id": "a7b90589369e41c38c458a9cfd8cc0a6",
       "version_major": 2,
       "version_minor": 0
      },
      "text/plain": [
       "VBox()"
      ]
     },
     "metadata": {},
     "output_type": "display_data"
    },
    {
     "name": "stdout",
     "output_type": "stream",
     "text": [
      "Starting Spark application\n"
     ]
    },
    {
     "data": {
      "text/html": [
       "<table>\n",
       "<tr><th>ID</th><th>YARN Application ID</th><th>Kind</th><th>State</th><th>Spark UI</th><th>Driver log</th><th>Current session?</th></tr><tr><td>0</td><td>application_1554821181641_0001</td><td>pyspark</td><td>idle</td><td><a target=\"_blank\" href=\"http://ip-172-31-32-188.ec2.internal:20888/proxy/application_1554821181641_0001/\">Link</a></td><td><a target=\"_blank\" href=\"http://ip-172-31-36-130.ec2.internal:8042/node/containerlogs/container_1554821181641_0001_01_000001/livy\">Link</a></td><td>✔</td></tr></table>"
      ],
      "text/plain": [
       "<IPython.core.display.HTML object>"
      ]
     },
     "metadata": {},
     "output_type": "display_data"
    },
    {
     "name": "stdout",
     "output_type": "stream",
     "text": [
      "SparkSession available as 'spark'.\n",
      "----------------------------------------\n",
      "Exception happened during processing of request from ('127.0.0.1', 48932)\n",
      "----------------------------------------\n",
      "+-----+-----+\n",
      "| name|score|\n",
      "+-----+-----+\n",
      "|Chris|   67|\n",
      "|Logan|   70|\n",
      "+-----+-----+\n",
      "\n",
      "Traceback (most recent call last):\n",
      "  File \"/usr/lib64/python2.7/SocketServer.py\", line 293, in _handle_request_noblock\n",
      "    self.process_request(request, client_address)\n",
      "  File \"/usr/lib64/python2.7/SocketServer.py\", line 321, in process_request\n",
      "    self.finish_request(request, client_address)\n",
      "  File \"/usr/lib64/python2.7/SocketServer.py\", line 334, in finish_request\n",
      "    self.RequestHandlerClass(request, client_address, self)\n",
      "  File \"/usr/lib64/python2.7/SocketServer.py\", line 655, in __init__\n",
      "    self.handle()\n",
      "  File \"/usr/lib/spark/python/lib/pyspark.zip/pyspark/accumulators.py\", line 266, in handle\n",
      "    poll(authenticate_and_accum_updates)\n",
      "  File \"/usr/lib/spark/python/lib/pyspark.zip/pyspark/accumulators.py\", line 241, in poll\n",
      "    if func():\n",
      "  File \"/usr/lib/spark/python/lib/pyspark.zip/pyspark/accumulators.py\", line 254, in authenticate_and_accum_updates\n",
      "    received_token = self.rfile.read(len(auth_token))\n",
      "TypeError: object of type 'NoneType' has no len()"
     ]
    }
   ],
   "source": [
    "df_from_other_list = spark.createDataFrame([('Chris',67),('Logan',70)], ['name','score'])\n",
    "df_from_other_list.show()"
   ]
  },
  {
   "cell_type": "code",
   "execution_count": 2,
   "metadata": {
    "scrolled": true
   },
   "outputs": [
    {
     "data": {
      "application/vnd.jupyter.widget-view+json": {
       "model_id": "6861398a6811492196ef8342e7b02454",
       "version_major": 2,
       "version_minor": 0
      },
      "text/plain": [
       "VBox()"
      ]
     },
     "metadata": {},
     "output_type": "display_data"
    },
    {
     "name": "stdout",
     "output_type": "stream",
     "text": [
      "+-----+\n",
      "|value|\n",
      "+-----+\n",
      "|  1.0|\n",
      "|  2.0|\n",
      "|  3.0|\n",
      "|  4.0|\n",
      "|  5.0|\n",
      "+-----+"
     ]
    }
   ],
   "source": [
    "from pyspark.sql.types import FloatType\n",
    "df_from_list = spark.createDataFrame([1.0,2.0,3.0,4.0,5.0], FloatType())\n",
    "df_from_list.show()"
   ]
  },
  {
   "cell_type": "code",
   "execution_count": 3,
   "metadata": {
    "scrolled": true
   },
   "outputs": [
    {
     "data": {
      "application/vnd.jupyter.widget-view+json": {
       "model_id": "9f7153eeef2b4f9f91bb28206351ef8c",
       "version_major": 2,
       "version_minor": 0
      },
      "text/plain": [
       "VBox()"
      ]
     },
     "metadata": {},
     "output_type": "display_data"
    }
   ],
   "source": [
    "lot_rdd = sc.parallelize([('Chris',67),('Logan',70)])"
   ]
  },
  {
   "cell_type": "code",
   "execution_count": 4,
   "metadata": {},
   "outputs": [
    {
     "data": {
      "application/vnd.jupyter.widget-view+json": {
       "model_id": "587e8afcb1d4496fbc775eb79b8bc9e5",
       "version_major": 2,
       "version_minor": 0
      },
      "text/plain": [
       "VBox()"
      ]
     },
     "metadata": {},
     "output_type": "display_data"
    },
    {
     "name": "stdout",
     "output_type": "stream",
     "text": [
      "+-----+---+\n",
      "|   _1| _2|\n",
      "+-----+---+\n",
      "|Chris| 67|\n",
      "|Logan| 70|\n",
      "+-----+---+"
     ]
    }
   ],
   "source": [
    "dfPeople = spark.createDataFrame(lot_rdd)\n",
    "dfPeople.show()"
   ]
  },
  {
   "cell_type": "code",
   "execution_count": 5,
   "metadata": {},
   "outputs": [
    {
     "data": {
      "application/vnd.jupyter.widget-view+json": {
       "model_id": "f300dce289e44ba19571cae40f6381bb",
       "version_major": 2,
       "version_minor": 0
      },
      "text/plain": [
       "VBox()"
      ]
     },
     "metadata": {},
     "output_type": "display_data"
    },
    {
     "name": "stdout",
     "output_type": "stream",
     "text": [
      "+-----+-----+\n",
      "| name|score|\n",
      "+-----+-----+\n",
      "|Chris|   67|\n",
      "|Logan|   70|\n",
      "+-----+-----+"
     ]
    }
   ],
   "source": [
    "from pyspark.sql import Row\n",
    "lot_rdd_named_columns = lot_rdd.map(lambda x: Row(name=x[0], score=int(x[1])))\n",
    "dfPeople_named_columns = spark.createDataFrame(lot_rdd_named_columns)\n",
    "dfPeople_named_columns.show()"
   ]
  },
  {
   "cell_type": "code",
   "execution_count": 6,
   "metadata": {
    "scrolled": true
   },
   "outputs": [
    {
     "data": {
      "application/vnd.jupyter.widget-view+json": {
       "model_id": "3c339bed97314b68b57f4e8d1c4632c1",
       "version_major": 2,
       "version_minor": 0
      },
      "text/plain": [
       "VBox()"
      ]
     },
     "metadata": {},
     "output_type": "display_data"
    }
   ],
   "source": [
    "df = spark.read.json('s3://umsi-data-science/data/yelp/business.json')"
   ]
  },
  {
   "cell_type": "code",
   "execution_count": 7,
   "metadata": {
    "scrolled": true
   },
   "outputs": [
    {
     "data": {
      "application/vnd.jupyter.widget-view+json": {
       "model_id": "72743bfc62ec411ea5b085aa7e4c508a",
       "version_major": 2,
       "version_minor": 0
      },
      "text/plain": [
       "VBox()"
      ]
     },
     "metadata": {},
     "output_type": "display_data"
    },
    {
     "name": "stdout",
     "output_type": "stream",
     "text": [
      "[Row(address=u'4855 E Warner Rd, Ste B9', attributes=Row(AcceptsInsurance=True, AgesAllowed=None, Alcohol=None, Ambience=None, BYOB=None, BYOBCorkage=None, BestNights=None, BikeParking=None, BusinessAcceptsBitcoin=None, BusinessAcceptsCreditCards=True, BusinessParking=None, ByAppointmentOnly=True, Caters=None, CoatCheck=None, Corkage=None, DietaryRestrictions=None, DogsAllowed=None, DriveThru=None, GoodForDancing=None, GoodForKids=None, GoodForMeal=None, HairSpecializesIn=None, HappyHour=None, HasTV=None, Music=None, NoiseLevel=None, Open24Hours=None, OutdoorSeating=None, RestaurantsAttire=None, RestaurantsCounterService=None, RestaurantsDelivery=None, RestaurantsGoodForGroups=None, RestaurantsPriceRange2=None, RestaurantsReservations=None, RestaurantsTableService=None, RestaurantsTakeOut=None, Smoking=None, WheelchairAccessible=None, WiFi=None), business_id=u'FYWN1wneV18bWNgQjJ2GNg', categories=[u'Dentists', u'General Dentistry', u'Health & Medical', u'Oral Surgeons', u'Cosmetic Dentists', u'Orthodontists'], city=u'Ahwatukee', hours=Row(Friday=u'7:30-17:00', Monday=u'7:30-17:00', Saturday=None, Sunday=None, Thursday=u'7:30-17:00', Tuesday=u'7:30-17:00', Wednesday=u'7:30-17:00'), is_open=1, latitude=33.3306902, longitude=-111.9785992, name=u'Dental by Design', neighborhood=u'', postal_code=u'85044', review_count=22, stars=4.0, state=u'AZ'), Row(address=u'3101 Washington Rd', attributes=Row(AcceptsInsurance=None, AgesAllowed=None, Alcohol=None, Ambience=None, BYOB=None, BYOBCorkage=None, BestNights=None, BikeParking=None, BusinessAcceptsBitcoin=None, BusinessAcceptsCreditCards=True, BusinessParking=Row(garage=False, lot=True, street=False, valet=False, validated=False), ByAppointmentOnly=False, Caters=None, CoatCheck=None, Corkage=None, DietaryRestrictions=None, DogsAllowed=None, DriveThru=None, GoodForDancing=None, GoodForKids=True, GoodForMeal=None, HairSpecializesIn=Row(africanamerican=False, asian=True, coloring=True, curly=True, extensions=True, kids=True, perms=True, straightperms=True), HappyHour=None, HasTV=None, Music=None, NoiseLevel=None, Open24Hours=None, OutdoorSeating=None, RestaurantsAttire=None, RestaurantsCounterService=None, RestaurantsDelivery=None, RestaurantsGoodForGroups=None, RestaurantsPriceRange2=3, RestaurantsReservations=None, RestaurantsTableService=None, RestaurantsTakeOut=None, Smoking=None, WheelchairAccessible=True, WiFi=None), business_id=u'He-G7vWjzVUysIKrfNbPUQ', categories=[u'Hair Stylists', u'Hair Salons', u\"Men's Hair Salons\", u'Blow Dry/Out Services', u'Hair Extensions', u'Beauty & Spas'], city=u'McMurray', hours=Row(Friday=u'9:00-16:00', Monday=u'9:00-20:00', Saturday=u'8:00-16:00', Sunday=None, Thursday=u'9:00-20:00', Tuesday=u'9:00-20:00', Wednesday=u'9:00-20:00'), is_open=1, latitude=40.2916853, longitude=-80.1048999, name=u'Stephen Szabo Salon', neighborhood=u'', postal_code=u'15317', review_count=11, stars=3.0, state=u'PA'), Row(address=u'6025 N 27th Ave, Ste 1', attributes=Row(AcceptsInsurance=None, AgesAllowed=None, Alcohol=None, Ambience=None, BYOB=None, BYOBCorkage=None, BestNights=None, BikeParking=None, BusinessAcceptsBitcoin=None, BusinessAcceptsCreditCards=None, BusinessParking=None, ByAppointmentOnly=None, Caters=None, CoatCheck=None, Corkage=None, DietaryRestrictions=None, DogsAllowed=None, DriveThru=None, GoodForDancing=None, GoodForKids=None, GoodForMeal=None, HairSpecializesIn=None, HappyHour=None, HasTV=None, Music=None, NoiseLevel=None, Open24Hours=None, OutdoorSeating=None, RestaurantsAttire=None, RestaurantsCounterService=None, RestaurantsDelivery=None, RestaurantsGoodForGroups=None, RestaurantsPriceRange2=None, RestaurantsReservations=None, RestaurantsTableService=None, RestaurantsTakeOut=None, Smoking=None, WheelchairAccessible=None, WiFi=None), business_id=u'KQPW8lFf1y5BT2MxiSZ3QA', categories=[u'Departments of Motor Vehicles', u'Public Services & Government'], city=u'Phoenix', hours=Row(Friday=None, Monday=None, Saturday=None, Sunday=None, Thursday=None, Tuesday=None, Wednesday=None), is_open=1, latitude=33.5249025, longitude=-112.1153098, name=u'Western Motor Vehicle', neighborhood=u'', postal_code=u'85017', review_count=18, stars=1.5, state=u'AZ'), Row(address=u'5000 Arizona Mills Cr, Ste 435', attributes=Row(AcceptsInsurance=None, AgesAllowed=None, Alcohol=None, Ambience=None, BYOB=None, BYOBCorkage=None, BestNights=None, BikeParking=True, BusinessAcceptsBitcoin=None, BusinessAcceptsCreditCards=True, BusinessParking=Row(garage=False, lot=True, street=False, valet=False, validated=False), ByAppointmentOnly=None, Caters=None, CoatCheck=None, Corkage=None, DietaryRestrictions=None, DogsAllowed=None, DriveThru=None, GoodForDancing=None, GoodForKids=None, GoodForMeal=None, HairSpecializesIn=None, HappyHour=None, HasTV=None, Music=None, NoiseLevel=None, Open24Hours=None, OutdoorSeating=None, RestaurantsAttire=None, RestaurantsCounterService=None, RestaurantsDelivery=None, RestaurantsGoodForGroups=None, RestaurantsPriceRange2=2, RestaurantsReservations=None, RestaurantsTableService=None, RestaurantsTakeOut=None, Smoking=None, WheelchairAccessible=None, WiFi=None), business_id=u'8DShNS-LuFqpEWIp0HxijA', categories=[u'Sporting Goods', u'Shopping'], city=u'Tempe', hours=Row(Friday=u'10:00-21:00', Monday=u'10:00-21:00', Saturday=u'10:00-21:00', Sunday=u'11:00-19:00', Thursday=u'10:00-21:00', Tuesday=u'10:00-21:00', Wednesday=u'10:00-21:00'), is_open=0, latitude=33.3831468, longitude=-111.9647254, name=u'Sports Authority', neighborhood=u'', postal_code=u'85282', review_count=9, stars=3.0, state=u'AZ'), Row(address=u'581 Howe Ave', attributes=Row(AcceptsInsurance=None, AgesAllowed=None, Alcohol=u'full_bar', Ambience=Row(casual=True, classy=False, divey=False, hipster=False, intimate=False, romantic=False, touristy=False, trendy=False, upscale=False), BYOB=None, BYOBCorkage=None, BestNights=Row(friday=True, monday=False, saturday=True, sunday=False, thursday=False, tuesday=False, wednesday=True), BikeParking=True, BusinessAcceptsBitcoin=None, BusinessAcceptsCreditCards=True, BusinessParking=Row(garage=False, lot=True, street=False, valet=False, validated=False), ByAppointmentOnly=None, Caters=False, CoatCheck=False, Corkage=None, DietaryRestrictions=None, DogsAllowed=None, DriveThru=False, GoodForDancing=False, GoodForKids=True, GoodForMeal=Row(breakfast=False, brunch=False, dessert=False, dinner=True, latenight=True, lunch=False), HairSpecializesIn=None, HappyHour=True, HasTV=True, Music=Row(background_music=True, dj=False, jukebox=False, karaoke=False, live=False, no_music=False, video=False), NoiseLevel=u'average', Open24Hours=None, OutdoorSeating=True, RestaurantsAttire=u'casual', RestaurantsCounterService=None, RestaurantsDelivery=False, RestaurantsGoodForGroups=True, RestaurantsPriceRange2=2, RestaurantsReservations=False, RestaurantsTableService=True, RestaurantsTakeOut=True, Smoking=u'outdoor', WheelchairAccessible=None, WiFi=u'free'), business_id=u'PfOCPjBrlQAnz__NXj9h_w', categories=[u'American (New)', u'Nightlife', u'Bars', u'Sandwiches', u'American (Traditional)', u'Burgers', u'Restaurants'], city=u'Cuyahoga Falls', hours=Row(Friday=u'11:00-1:00', Monday=u'11:00-1:00', Saturday=u'11:00-2:00', Sunday=u'11:00-0:00', Thursday=u'11:00-1:00', Tuesday=u'11:00-1:00', Wednesday=u'11:00-1:00'), is_open=1, latitude=41.1195346, longitude=-81.4756898, name=u'Brick House Tavern + Tap', neighborhood=u'', postal_code=u'44221', review_count=116, stars=3.5, state=u'OH')]"
     ]
    }
   ],
   "source": [
    "df.take(5)"
   ]
  },
  {
   "cell_type": "code",
   "execution_count": 8,
   "metadata": {},
   "outputs": [
    {
     "data": {
      "application/vnd.jupyter.widget-view+json": {
       "model_id": "9cb086bcf4834678b6f365fac47ceae9",
       "version_major": 2,
       "version_minor": 0
      },
      "text/plain": [
       "VBox()"
      ]
     },
     "metadata": {},
     "output_type": "display_data"
    },
    {
     "name": "stdout",
     "output_type": "stream",
     "text": [
      "root\n",
      " |-- address: string (nullable = true)\n",
      " |-- attributes: struct (nullable = true)\n",
      " |    |-- AcceptsInsurance: boolean (nullable = true)\n",
      " |    |-- AgesAllowed: string (nullable = true)\n",
      " |    |-- Alcohol: string (nullable = true)\n",
      " |    |-- Ambience: struct (nullable = true)\n",
      " |    |    |-- casual: boolean (nullable = true)\n",
      " |    |    |-- classy: boolean (nullable = true)\n",
      " |    |    |-- divey: boolean (nullable = true)\n",
      " |    |    |-- hipster: boolean (nullable = true)\n",
      " |    |    |-- intimate: boolean (nullable = true)\n",
      " |    |    |-- romantic: boolean (nullable = true)\n",
      " |    |    |-- touristy: boolean (nullable = true)\n",
      " |    |    |-- trendy: boolean (nullable = true)\n",
      " |    |    |-- upscale: boolean (nullable = true)\n",
      " |    |-- BYOB: boolean (nullable = true)\n",
      " |    |-- BYOBCorkage: string (nullable = true)\n",
      " |    |-- BestNights: struct (nullable = true)\n",
      " |    |    |-- friday: boolean (nullable = true)\n",
      " |    |    |-- monday: boolean (nullable = true)\n",
      " |    |    |-- saturday: boolean (nullable = true)\n",
      " |    |    |-- sunday: boolean (nullable = true)\n",
      " |    |    |-- thursday: boolean (nullable = true)\n",
      " |    |    |-- tuesday: boolean (nullable = true)\n",
      " |    |    |-- wednesday: boolean (nullable = true)\n",
      " |    |-- BikeParking: boolean (nullable = true)\n",
      " |    |-- BusinessAcceptsBitcoin: boolean (nullable = true)\n",
      " |    |-- BusinessAcceptsCreditCards: boolean (nullable = true)\n",
      " |    |-- BusinessParking: struct (nullable = true)\n",
      " |    |    |-- garage: boolean (nullable = true)\n",
      " |    |    |-- lot: boolean (nullable = true)\n",
      " |    |    |-- street: boolean (nullable = true)\n",
      " |    |    |-- valet: boolean (nullable = true)\n",
      " |    |    |-- validated: boolean (nullable = true)\n",
      " |    |-- ByAppointmentOnly: boolean (nullable = true)\n",
      " |    |-- Caters: boolean (nullable = true)\n",
      " |    |-- CoatCheck: boolean (nullable = true)\n",
      " |    |-- Corkage: boolean (nullable = true)\n",
      " |    |-- DietaryRestrictions: struct (nullable = true)\n",
      " |    |    |-- dairy-free: boolean (nullable = true)\n",
      " |    |    |-- gluten-free: boolean (nullable = true)\n",
      " |    |    |-- halal: boolean (nullable = true)\n",
      " |    |    |-- kosher: boolean (nullable = true)\n",
      " |    |    |-- soy-free: boolean (nullable = true)\n",
      " |    |    |-- vegan: boolean (nullable = true)\n",
      " |    |    |-- vegetarian: boolean (nullable = true)\n",
      " |    |-- DogsAllowed: boolean (nullable = true)\n",
      " |    |-- DriveThru: boolean (nullable = true)\n",
      " |    |-- GoodForDancing: boolean (nullable = true)\n",
      " |    |-- GoodForKids: boolean (nullable = true)\n",
      " |    |-- GoodForMeal: struct (nullable = true)\n",
      " |    |    |-- breakfast: boolean (nullable = true)\n",
      " |    |    |-- brunch: boolean (nullable = true)\n",
      " |    |    |-- dessert: boolean (nullable = true)\n",
      " |    |    |-- dinner: boolean (nullable = true)\n",
      " |    |    |-- latenight: boolean (nullable = true)\n",
      " |    |    |-- lunch: boolean (nullable = true)\n",
      " |    |-- HairSpecializesIn: struct (nullable = true)\n",
      " |    |    |-- africanamerican: boolean (nullable = true)\n",
      " |    |    |-- asian: boolean (nullable = true)\n",
      " |    |    |-- coloring: boolean (nullable = true)\n",
      " |    |    |-- curly: boolean (nullable = true)\n",
      " |    |    |-- extensions: boolean (nullable = true)\n",
      " |    |    |-- kids: boolean (nullable = true)\n",
      " |    |    |-- perms: boolean (nullable = true)\n",
      " |    |    |-- straightperms: boolean (nullable = true)\n",
      " |    |-- HappyHour: boolean (nullable = true)\n",
      " |    |-- HasTV: boolean (nullable = true)\n",
      " |    |-- Music: struct (nullable = true)\n",
      " |    |    |-- background_music: boolean (nullable = true)\n",
      " |    |    |-- dj: boolean (nullable = true)\n",
      " |    |    |-- jukebox: boolean (nullable = true)\n",
      " |    |    |-- karaoke: boolean (nullable = true)\n",
      " |    |    |-- live: boolean (nullable = true)\n",
      " |    |    |-- no_music: boolean (nullable = true)\n",
      " |    |    |-- video: boolean (nullable = true)\n",
      " |    |-- NoiseLevel: string (nullable = true)\n",
      " |    |-- Open24Hours: boolean (nullable = true)\n",
      " |    |-- OutdoorSeating: boolean (nullable = true)\n",
      " |    |-- RestaurantsAttire: string (nullable = true)\n",
      " |    |-- RestaurantsCounterService: boolean (nullable = true)\n",
      " |    |-- RestaurantsDelivery: boolean (nullable = true)\n",
      " |    |-- RestaurantsGoodForGroups: boolean (nullable = true)\n",
      " |    |-- RestaurantsPriceRange2: long (nullable = true)\n",
      " |    |-- RestaurantsReservations: boolean (nullable = true)\n",
      " |    |-- RestaurantsTableService: boolean (nullable = true)\n",
      " |    |-- RestaurantsTakeOut: boolean (nullable = true)\n",
      " |    |-- Smoking: string (nullable = true)\n",
      " |    |-- WheelchairAccessible: boolean (nullable = true)\n",
      " |    |-- WiFi: string (nullable = true)\n",
      " |-- business_id: string (nullable = true)\n",
      " |-- categories: array (nullable = true)\n",
      " |    |-- element: string (containsNull = true)\n",
      " |-- city: string (nullable = true)\n",
      " |-- hours: struct (nullable = true)\n",
      " |    |-- Friday: string (nullable = true)\n",
      " |    |-- Monday: string (nullable = true)\n",
      " |    |-- Saturday: string (nullable = true)\n",
      " |    |-- Sunday: string (nullable = true)\n",
      " |    |-- Thursday: string (nullable = true)\n",
      " |    |-- Tuesday: string (nullable = true)\n",
      " |    |-- Wednesday: string (nullable = true)\n",
      " |-- is_open: long (nullable = true)\n",
      " |-- latitude: double (nullable = true)\n",
      " |-- longitude: double (nullable = true)\n",
      " |-- name: string (nullable = true)\n",
      " |-- neighborhood: string (nullable = true)\n",
      " |-- postal_code: string (nullable = true)\n",
      " |-- review_count: long (nullable = true)\n",
      " |-- stars: double (nullable = true)\n",
      " |-- state: string (nullable = true)"
     ]
    }
   ],
   "source": [
    "df.printSchema()"
   ]
  },
  {
   "cell_type": "code",
   "execution_count": 9,
   "metadata": {
    "scrolled": true
   },
   "outputs": [
    {
     "data": {
      "application/vnd.jupyter.widget-view+json": {
       "model_id": "40fa3030e7e64f1a804c669e3ed18294",
       "version_major": 2,
       "version_minor": 0
      },
      "text/plain": [
       "VBox()"
      ]
     },
     "metadata": {},
     "output_type": "display_data"
    },
    {
     "name": "stdout",
     "output_type": "stream",
     "text": [
      "+--------------------+\n",
      "|                name|\n",
      "+--------------------+\n",
      "|    Dental by Design|\n",
      "| Stephen Szabo Salon|\n",
      "|Western Motor Veh...|\n",
      "|    Sports Authority|\n",
      "|Brick House Taver...|\n",
      "|             Messina|\n",
      "|          BDJ Realty|\n",
      "|         Soccer Zone|\n",
      "|    Any Given Sundae|\n",
      "|Detailing Gone Mo...|\n",
      "|   East Coast Coffee|\n",
      "|CubeSmart Self St...|\n",
      "|T & T Bakery and ...|\n",
      "|Complete Dental Care|\n",
      "|Showmars Governme...|\n",
      "|      Alize Catering|\n",
      "|      T & Y Nail Spa|\n",
      "|Meineke Car Care ...|\n",
      "|Senior's Barber Shop|\n",
      "|Maxim Bakery & Re...|\n",
      "+--------------------+\n",
      "only showing top 20 rows"
     ]
    }
   ],
   "source": [
    "df.select(\"name\").show()"
   ]
  },
  {
   "cell_type": "code",
   "execution_count": 10,
   "metadata": {
    "scrolled": true
   },
   "outputs": [
    {
     "data": {
      "application/vnd.jupyter.widget-view+json": {
       "model_id": "e333a5c852f843bd81753545a2d8e035",
       "version_major": 2,
       "version_minor": 0
      },
      "text/plain": [
       "VBox()"
      ]
     },
     "metadata": {},
     "output_type": "display_data"
    },
    {
     "name": "stdout",
     "output_type": "stream",
     "text": [
      "+--------------------+------------------+\n",
      "|                name|(review_count + 1)|\n",
      "+--------------------+------------------+\n",
      "|    Dental by Design|                23|\n",
      "| Stephen Szabo Salon|                12|\n",
      "|Western Motor Veh...|                19|\n",
      "|    Sports Authority|                10|\n",
      "|Brick House Taver...|               117|\n",
      "|             Messina|                 6|\n",
      "|          BDJ Realty|                 6|\n",
      "|         Soccer Zone|                10|\n",
      "|    Any Given Sundae|                16|\n",
      "|Detailing Gone Mo...|                 8|\n",
      "|   East Coast Coffee|                 4|\n",
      "|CubeSmart Self St...|                24|\n",
      "|T & T Bakery and ...|                39|\n",
      "|Complete Dental Care|                 6|\n",
      "|Showmars Governme...|                 8|\n",
      "|      Alize Catering|                13|\n",
      "|      T & Y Nail Spa|                21|\n",
      "|Meineke Car Care ...|                10|\n",
      "|Senior's Barber Shop|                66|\n",
      "|Maxim Bakery & Re...|                35|\n",
      "+--------------------+------------------+\n",
      "only showing top 20 rows"
     ]
    }
   ],
   "source": [
    "df.select(df['name'], df['review_count'] + 1).show()"
   ]
  },
  {
   "cell_type": "code",
   "execution_count": 11,
   "metadata": {},
   "outputs": [
    {
     "data": {
      "application/vnd.jupyter.widget-view+json": {
       "model_id": "34b031e38ebf4821b617a6ad59adb6b2",
       "version_major": 2,
       "version_minor": 0
      },
      "text/plain": [
       "VBox()"
      ]
     },
     "metadata": {},
     "output_type": "display_data"
    },
    {
     "name": "stdout",
     "output_type": "stream",
     "text": [
      "+--------------------+--------------------+--------------------+--------------------+------------+--------------------+-------+-------------+--------------+--------------------+---------------+-----------+------------+-----+-----+\n",
      "|             address|          attributes|         business_id|          categories|        city|               hours|is_open|     latitude|     longitude|                name|   neighborhood|postal_code|review_count|stars|state|\n",
      "+--------------------+--------------------+--------------------+--------------------+------------+--------------------+-------+-------------+--------------+--------------------+---------------+-----------+------------+-----+-----+\n",
      "|4855 E Warner Rd,...|[true,,,,,,,,, tr...|FYWN1wneV18bWNgQj...|[Dentists, Genera...|   Ahwatukee|[7:30-17:00, 7:30...|      1|   33.3306902|  -111.9785992|    Dental by Design|               |      85044|          22|  4.0|   AZ|\n",
      "|      Richterstr. 11|[,, beer_and_wine...|o9eMRCWt5PkpLDE0g...|[Italian, Restaur...|   Stuttgart|[18:00-0:00, 18:0...|      1|      48.7272|       9.14795|             Messina|               |      70567|           5|  4.0|   BW|\n",
      "|2620 Regatta Dr, ...|[,,,,,,,,, false,...|kCoE3jvEtg6UVz5SO...|[Real Estate Serv...|   Las Vegas|[8:00-17:00, 8:00...|      1|     36.20743|    -115.26846|          BDJ Realty|      Summerlin|      89128|           5|  4.0|   NV|\n",
      "|2612 Brandt Schoo...|[,,,,,,, false,, ...|EsMcGiZaQuG1OOvL9...|[Coffee & Tea, Ic...|     Wexford|            [,,,,,,]|      1|40.6151022445|-80.0913487465|    Any Given Sundae|               |      15090|          15|  5.0|   PA|\n",
      "|                    |[,,,,,,,,, true,,...|TGWhGNusxyMaA4kQV...|[Automotive, Auto...|   Henderson|[9:00-18:00, 9:00...|      1|36.0558252127| -115.04635039|Detailing Gone Mo...|               |      89014|           7|  5.0|   NV|\n",
      "|    737 West Pike St|[,, none,,,,, tru...|XOSRcvtaKc_Q5H1SA...|[Breakfast & Brun...|     Houston|            [,,,,,,]|      0|40.2415480142|-80.2128151059|   East Coast Coffee|               |      15342|           3|  4.5|   PA|\n",
      "|2414 South Gilber...|[,,,,,,,,, true,,...|Y0eMNa5C-YU1RQOZf...|[Local Services, ...|    Chandler|[9:30-18:00, 9:30...|      1|   33.2717201|  -111.7912569|CubeSmart Self St...|               |      85286|          23|  5.0|   AZ|\n",
      "|    35 Main Street N|[,,,,,,, true,, f...|xcgFnd-MwkZeO5G2H...|[Bakeries, Bagels...|     Markham|            [,,,,,,]|      1|   43.8751774|   -79.2601532|T & T Bakery and ...|Markham Village|    L3P 1X3|          38|  4.0|   ON|\n",
      "|    13375 W McDowell|[,,,,,,, true,, t...|0FMKDOU8TJT1x87OK...|[Barbers, Beauty ...|    Goodyear|[9:00-19:00, 9:00...|      1|    33.463629|   -112.347038|Senior's Barber Shop|               |      85395|          65|  5.0|   AZ|\n",
      "|     85 Hanna Avenue|[,,,,,,, true,, t...|lHYiCS-y8AFjUitv6...|[Food, Coffee & Tea]|     Toronto|[5:30-23:00, 5:30...|      1|43.6398633116|-79.4195331865|           Starbucks|Liberty Village|    M6K 3S3|          21|  4.0|   ON|\n",
      "|   1928 S Gilbert Rd|[,,,,,,, false,, ...|94KziT6DQ9XlBET3W...|[Shopping, Books,...|        Mesa|            [,,,,,,]|      0|   33.3801334|  -111.7887679|                 Fye|               |      85204|           4|  4.5|   AZ|\n",
      "|5775 S Eastern, S...|[,,,,,,, true,, t...|VBHEsoXQb2AQ76J9l...|[Shopping, Jewelr...|   Las Vegas|[10:00-17:00, 10:...|      1|36.0850508374|-115.119420802|   Alfredo's Jewelry|      Southeast|      89119|          23|  4.5|   NV|\n",
      "|  10 Dundas Street E|[,,,,,,, true,, t...|AtdXq_gu9NTE5rx4c...|[Coffee & Tea, Fo...|     Toronto|[10:00-21:00, 10:...|      1|   43.6567287|   -79.3807182|           DAVIDsTEA|        Ryerson|    M5B 2G9|           6|  4.0|   ON|\n",
      "|2777 Steeles Aven...|[,, none,,,,, tru...|nbhBRhZtdaZmMMeb2...|[Restaurants, Bre...|     Toronto|[7:00-15:00, 7:00...|      1|   43.7818155|   -79.4904331|     Sunnyside Grill|               |    M3J 3K5|           3|  5.0|   ON|\n",
      "|12614 N Cave Cree...|[,,,,,,,,, true,,...|zzMu-6SmqhpvHxVRM...|[Oil Change Stati...|     Phoenix|[7:00-17:30, 7:00...|      1|   33.6008771|  -112.0376849|Good Brakes Autom...|               |      85022|           5|  4.0|   AZ|\n",
      "|  201 Harbord Street|[,,,,,,, true,, t...|FXHfcFVEfI1vVngW2...|[Coffee & Tea, Re...|     Toronto|[12:00-1:30, 17:0...|      1|43.6615816807|-79.4088784561|Bampot House of T...|               |    M5S 1H6|          55|  4.0|   ON|\n",
      "|  8439 Charlotte Hwy|[,,,,,,, true,, t...|7gquCdaFoHZCcLYDt...|[Nail Salons, Bea...|   Fort Mill|[9:30-19:30, 9:30...|      1|34.9570617825|-80.8539120108|        Bubbly Nails|               |      29707|          17|  4.0|   SC|\n",
      "|        96 S Main St|[,, full_bar, [fa...|8y56fOiKhtCnqaiYB...|[Nightlife, Pubs,...|Munroe Falls|            [,,,,,,]|      1|    41.136622|   -81.4392592|      Brewster's Pub|               |      44308|           4|  4.0|   OH|\n",
      "| 3245 W Florimond Rd|[,,,,,,,,, true,,...|ok38fApaT1TBEU-IH...|[Home Services, C...|     Phoenix|[9:00-18:00, 9:00...|      1|      33.8039|   -112.130405|Kool Pool Care & ...|               |      85086|           5|  5.0|   AZ|\n",
      "|2470 Paseo Verde ...|[,,,,,,, false, f...|lj0MiK5_fyv9df2tw...|[Hair Salons, Blo...|   Henderson|[9:00-17:00,, 9:0...|      1|   36.0194946|  -115.0947223|Pampered Hair Pas...|         Anthem|      89074|           3|  5.0|   NV|\n",
      "+--------------------+--------------------+--------------------+--------------------+------------+--------------------+-------+-------------+--------------+--------------------+---------------+-----------+------------+-----+-----+\n",
      "only showing top 20 rows"
     ]
    }
   ],
   "source": [
    "df.filter(df['stars'] >= 4).show()"
   ]
  },
  {
   "cell_type": "code",
   "execution_count": 12,
   "metadata": {},
   "outputs": [
    {
     "data": {
      "application/vnd.jupyter.widget-view+json": {
       "model_id": "78993a464d5845fc95a5b98c1f19723c",
       "version_major": 2,
       "version_minor": 0
      },
      "text/plain": [
       "VBox()"
      ]
     },
     "metadata": {},
     "output_type": "display_data"
    },
    {
     "name": "stdout",
     "output_type": "stream",
     "text": [
      "+-----+-----+\n",
      "|stars|count|\n",
      "+-----+-----+\n",
      "|  3.5|32038|\n",
      "|  4.5|24796|\n",
      "|  2.5|16148|\n",
      "|  1.0| 3788|\n",
      "|  4.0|33492|\n",
      "|  3.0|23142|\n",
      "|  2.0| 9320|\n",
      "|  1.5| 4303|\n",
      "|  5.0|27540|\n",
      "+-----+-----+"
     ]
    }
   ],
   "source": [
    "df.groupBy('stars').count().show()"
   ]
  },
  {
   "cell_type": "code",
   "execution_count": 13,
   "metadata": {},
   "outputs": [
    {
     "data": {
      "application/vnd.jupyter.widget-view+json": {
       "model_id": "fd7742d722dd4a68be04283e5987bae2",
       "version_major": 2,
       "version_minor": 0
      },
      "text/plain": [
       "VBox()"
      ]
     },
     "metadata": {},
     "output_type": "display_data"
    },
    {
     "name": "stdout",
     "output_type": "stream",
     "text": [
      "+-----+-----+\n",
      "|stars|count|\n",
      "+-----+-----+\n",
      "|  5.0|27540|\n",
      "|  4.5|24796|\n",
      "|  4.0|33492|\n",
      "|  3.5|32038|\n",
      "|  3.0|23142|\n",
      "|  2.5|16148|\n",
      "|  2.0| 9320|\n",
      "|  1.5| 4303|\n",
      "|  1.0| 3788|\n",
      "+-----+-----+"
     ]
    }
   ],
   "source": [
    "df.groupBy('stars').count().sort('stars', ascending=False).show()"
   ]
  },
  {
   "cell_type": "code",
   "execution_count": 14,
   "metadata": {},
   "outputs": [
    {
     "data": {
      "application/vnd.jupyter.widget-view+json": {
       "model_id": "b5592863834f4ee1b1524ea9e2e76e97",
       "version_major": 2,
       "version_minor": 0
      },
      "text/plain": [
       "VBox()"
      ]
     },
     "metadata": {},
     "output_type": "display_data"
    }
   ],
   "source": [
    "df_from_other_list = spark.createDataFrame([('Chris',[67,42]),('Logan',[70,72])],['name','scores'])"
   ]
  },
  {
   "cell_type": "code",
   "execution_count": 15,
   "metadata": {},
   "outputs": [
    {
     "data": {
      "application/vnd.jupyter.widget-view+json": {
       "model_id": "cfa8ad2015464f55b71e185ccebb73b5",
       "version_major": 2,
       "version_minor": 0
      },
      "text/plain": [
       "VBox()"
      ]
     },
     "metadata": {},
     "output_type": "display_data"
    },
    {
     "name": "stdout",
     "output_type": "stream",
     "text": [
      "+-----+--------+\n",
      "| name|  scores|\n",
      "+-----+--------+\n",
      "|Chris|[67, 42]|\n",
      "|Logan|[70, 72]|\n",
      "+-----+--------+"
     ]
    }
   ],
   "source": [
    "df_from_other_list.show()"
   ]
  },
  {
   "cell_type": "code",
   "execution_count": 16,
   "metadata": {},
   "outputs": [
    {
     "data": {
      "application/vnd.jupyter.widget-view+json": {
       "model_id": "bb20eaff32e44bf09d03221042d7691a",
       "version_major": 2,
       "version_minor": 0
      },
      "text/plain": [
       "VBox()"
      ]
     },
     "metadata": {},
     "output_type": "display_data"
    }
   ],
   "source": [
    "from pyspark.sql.functions import explode"
   ]
  },
  {
   "cell_type": "code",
   "execution_count": 17,
   "metadata": {},
   "outputs": [
    {
     "data": {
      "application/vnd.jupyter.widget-view+json": {
       "model_id": "0476544b6b8b455a9b3dadad503c3a04",
       "version_major": 2,
       "version_minor": 0
      },
      "text/plain": [
       "VBox()"
      ]
     },
     "metadata": {},
     "output_type": "display_data"
    }
   ],
   "source": [
    "df_exploded = df_from_other_list.withColumn('score',explode('scores'))"
   ]
  },
  {
   "cell_type": "code",
   "execution_count": 18,
   "metadata": {},
   "outputs": [
    {
     "data": {
      "application/vnd.jupyter.widget-view+json": {
       "model_id": "91b75b0a5ff243cbaf6adf9f7cb35a4e",
       "version_major": 2,
       "version_minor": 0
      },
      "text/plain": [
       "VBox()"
      ]
     },
     "metadata": {},
     "output_type": "display_data"
    },
    {
     "name": "stdout",
     "output_type": "stream",
     "text": [
      "+-----+--------+-----+\n",
      "| name|  scores|score|\n",
      "+-----+--------+-----+\n",
      "|Chris|[67, 42]|   67|\n",
      "|Chris|[67, 42]|   42|\n",
      "|Logan|[70, 72]|   70|\n",
      "|Logan|[70, 72]|   72|\n",
      "+-----+--------+-----+"
     ]
    }
   ],
   "source": [
    "df_exploded.show()"
   ]
  },
  {
   "cell_type": "code",
   "execution_count": 19,
   "metadata": {
    "scrolled": true
   },
   "outputs": [
    {
     "data": {
      "application/vnd.jupyter.widget-view+json": {
       "model_id": "c6a7400586df4866af8f3a3fd2c36d26",
       "version_major": 2,
       "version_minor": 0
      },
      "text/plain": [
       "VBox()"
      ]
     },
     "metadata": {},
     "output_type": "display_data"
    },
    {
     "name": "stdout",
     "output_type": "stream",
     "text": [
      "+-----+--------+-----+----+\n",
      "| name|  scores|score|good|\n",
      "+-----+--------+-----+----+\n",
      "|Chris|[67, 42]|   67|   1|\n",
      "|Chris|[67, 42]|   42|   0|\n",
      "|Logan|[70, 72]|   70|   1|\n",
      "|Logan|[70, 72]|   72|   1|\n",
      "+-----+--------+-----+----+"
     ]
    }
   ],
   "source": [
    "import pyspark.sql.functions as F\n",
    "from pyspark.sql.functions import col\n",
    "df_exploded.withColumn('good',F.when(df_exploded['score'] > 50,1).otherwise(0)).show()"
   ]
  },
  {
   "cell_type": "code",
   "execution_count": 9,
   "metadata": {},
   "outputs": [
    {
     "data": {
      "application/vnd.jupyter.widget-view+json": {
       "model_id": "ab383e994c7849338ba5293a3b4fb4d4",
       "version_major": 2,
       "version_minor": 0
      },
      "text/plain": [
       "VBox()"
      ]
     },
     "metadata": {},
     "output_type": "display_data"
    }
   ],
   "source": [
    "STOPWORDS = {'i', 'we', 'ourselves', 'hers', 'between', 'yourself', 'but', 'again', 'there', 'about', 'once', 'during', 'out', 'very', 'having', 'with', 'they', 'own', 'an', 'be', 'some', 'for', 'do', 'its', 'yours', 'such', 'into', 'of', 'most', 'itself', 'other', 'off', 'is', 's', 'am', 'or', 'who', 'as', 'from', 'him', 'each', 'the', 'themselves', 'until', 'below', 'are', 'we', 'these', 'your', 'his', 'through', 'don', 'nor', 'me', 'were', 'her', 'more', 'himself', 'this', 'down', 'should', 'our', 'their', 'while', 'above', 'both', 'up', 'to', 'ours', 'had', 'she', 'all', 'no', 'when', 'at', 'any', 'before', 'them', 'same', 'and', 'been', 'have', 'in', 'will', 'on', 'does', 'yourselves', 'then', 'that', 'because', 'what', 'over', 'why', 'so', 'can', 'did', 'not', 'now', 'under', 'he', 'you', 'herself', 'has', 'just', 'where', 'too', 'only', 'myself', 'which', 'those', 'i', 'after', 'few', 'whom', 't', 'being', 'if', 'theirs', 'my', 'against', 'a', 'by', 'doing', 'it', 'how', 'further', 'was', 'here', 'than'}\n",
    "sw = sc.broadcast(STOPWORDS)"
   ]
  },
  {
   "cell_type": "markdown",
   "metadata": {},
   "source": [
    "## Text analysis of Yelp reviews, warm-up"
   ]
  },
  {
   "cell_type": "code",
   "execution_count": 10,
   "metadata": {
    "scrolled": false
   },
   "outputs": [
    {
     "data": {
      "application/vnd.jupyter.widget-view+json": {
       "model_id": "e9bf52a190bc469a802b98aeb3db149d",
       "version_major": 2,
       "version_minor": 0
      },
      "text/plain": [
       "VBox()"
      ]
     },
     "metadata": {},
     "output_type": "display_data"
    }
   ],
   "source": [
    "# This takes about 3 minutes (180s) on a single-node m4.xlarge cluster\n",
    "df = spark.read.json('s3://umsi-data-science/data/yelp/review.json.gz')"
   ]
  },
  {
   "cell_type": "code",
   "execution_count": 5,
   "metadata": {
    "scrolled": false
   },
   "outputs": [
    {
     "data": {
      "application/vnd.jupyter.widget-view+json": {
       "model_id": "efe95c65b1134d0fbb3bb84ee34e324f",
       "version_major": 2,
       "version_minor": 0
      },
      "text/plain": [
       "VBox()"
      ]
     },
     "metadata": {},
     "output_type": "display_data"
    },
    {
     "name": "stdout",
     "output_type": "stream",
     "text": [
      "root\n",
      " |-- business_id: string (nullable = true)\n",
      " |-- cool: long (nullable = true)\n",
      " |-- date: string (nullable = true)\n",
      " |-- funny: long (nullable = true)\n",
      " |-- review_id: string (nullable = true)\n",
      " |-- stars: long (nullable = true)\n",
      " |-- text: string (nullable = true)\n",
      " |-- useful: long (nullable = true)\n",
      " |-- user_id: string (nullable = true)"
     ]
    }
   ],
   "source": [
    "df.printSchema()"
   ]
  },
  {
   "cell_type": "markdown",
   "metadata": {},
   "source": [
    "### Q1: How many reviews are there?"
   ]
  },
  {
   "cell_type": "code",
   "execution_count": 7,
   "metadata": {},
   "outputs": [
    {
     "data": {
      "application/vnd.jupyter.widget-view+json": {
       "model_id": "38526e9683944479854426c172eeaa87",
       "version_major": 2,
       "version_minor": 0
      },
      "text/plain": [
       "VBox()"
      ]
     },
     "metadata": {},
     "output_type": "display_data"
    }
   ],
   "source": [
    "# Insert your code here"
   ]
  },
  {
   "cell_type": "markdown",
   "metadata": {},
   "source": [
    "### Q2: How many positive (i.e. 4- or 5-star) reviews are there? "
   ]
  },
  {
   "cell_type": "code",
   "execution_count": 8,
   "metadata": {},
   "outputs": [
    {
     "data": {
      "application/vnd.jupyter.widget-view+json": {
       "model_id": "810595594df546c68699b256e81f8d45",
       "version_major": 2,
       "version_minor": 0
      },
      "text/plain": [
       "VBox()"
      ]
     },
     "metadata": {},
     "output_type": "display_data"
    }
   ],
   "source": [
    "# Insert your code here"
   ]
  },
  {
   "cell_type": "markdown",
   "metadata": {},
   "source": [
    "# BREAK\n"
   ]
  },
  {
   "cell_type": "markdown",
   "metadata": {},
   "source": [
    "Let's read in two of the three data files from the Yelp academic dataset (https://www.kaggle.com/yelp-dataset/yelp-dataset) and examine the schemas for each one (we're skipping the reviews.json file for this part of the class):"
   ]
  },
  {
   "cell_type": "code",
   "execution_count": 124,
   "metadata": {
    "scrolled": true
   },
   "outputs": [
    {
     "data": {
      "application/vnd.jupyter.widget-view+json": {
       "model_id": "13f7bb073ee046b5b5fc7a300515e1ba",
       "version_major": 2,
       "version_minor": 0
      },
      "text/plain": [
       "VBox()"
      ]
     },
     "metadata": {},
     "output_type": "display_data"
    }
   ],
   "source": [
    "business = spark.read.json('s3://umsi-data-science/data/yelp/business.json')"
   ]
  },
  {
   "cell_type": "code",
   "execution_count": 125,
   "metadata": {},
   "outputs": [
    {
     "data": {
      "application/vnd.jupyter.widget-view+json": {
       "model_id": "78cc79a433004bfa85eebd4d8b2fffdc",
       "version_major": 2,
       "version_minor": 0
      },
      "text/plain": [
       "VBox()"
      ]
     },
     "metadata": {},
     "output_type": "display_data"
    },
    {
     "name": "stdout",
     "output_type": "stream",
     "text": [
      "root\n",
      " |-- address: string (nullable = true)\n",
      " |-- attributes: struct (nullable = true)\n",
      " |    |-- AcceptsInsurance: boolean (nullable = true)\n",
      " |    |-- AgesAllowed: string (nullable = true)\n",
      " |    |-- Alcohol: string (nullable = true)\n",
      " |    |-- Ambience: struct (nullable = true)\n",
      " |    |    |-- casual: boolean (nullable = true)\n",
      " |    |    |-- classy: boolean (nullable = true)\n",
      " |    |    |-- divey: boolean (nullable = true)\n",
      " |    |    |-- hipster: boolean (nullable = true)\n",
      " |    |    |-- intimate: boolean (nullable = true)\n",
      " |    |    |-- romantic: boolean (nullable = true)\n",
      " |    |    |-- touristy: boolean (nullable = true)\n",
      " |    |    |-- trendy: boolean (nullable = true)\n",
      " |    |    |-- upscale: boolean (nullable = true)\n",
      " |    |-- BYOB: boolean (nullable = true)\n",
      " |    |-- BYOBCorkage: string (nullable = true)\n",
      " |    |-- BestNights: struct (nullable = true)\n",
      " |    |    |-- friday: boolean (nullable = true)\n",
      " |    |    |-- monday: boolean (nullable = true)\n",
      " |    |    |-- saturday: boolean (nullable = true)\n",
      " |    |    |-- sunday: boolean (nullable = true)\n",
      " |    |    |-- thursday: boolean (nullable = true)\n",
      " |    |    |-- tuesday: boolean (nullable = true)\n",
      " |    |    |-- wednesday: boolean (nullable = true)\n",
      " |    |-- BikeParking: boolean (nullable = true)\n",
      " |    |-- BusinessAcceptsBitcoin: boolean (nullable = true)\n",
      " |    |-- BusinessAcceptsCreditCards: boolean (nullable = true)\n",
      " |    |-- BusinessParking: struct (nullable = true)\n",
      " |    |    |-- garage: boolean (nullable = true)\n",
      " |    |    |-- lot: boolean (nullable = true)\n",
      " |    |    |-- street: boolean (nullable = true)\n",
      " |    |    |-- valet: boolean (nullable = true)\n",
      " |    |    |-- validated: boolean (nullable = true)\n",
      " |    |-- ByAppointmentOnly: boolean (nullable = true)\n",
      " |    |-- Caters: boolean (nullable = true)\n",
      " |    |-- CoatCheck: boolean (nullable = true)\n",
      " |    |-- Corkage: boolean (nullable = true)\n",
      " |    |-- DietaryRestrictions: struct (nullable = true)\n",
      " |    |    |-- dairy-free: boolean (nullable = true)\n",
      " |    |    |-- gluten-free: boolean (nullable = true)\n",
      " |    |    |-- halal: boolean (nullable = true)\n",
      " |    |    |-- kosher: boolean (nullable = true)\n",
      " |    |    |-- soy-free: boolean (nullable = true)\n",
      " |    |    |-- vegan: boolean (nullable = true)\n",
      " |    |    |-- vegetarian: boolean (nullable = true)\n",
      " |    |-- DogsAllowed: boolean (nullable = true)\n",
      " |    |-- DriveThru: boolean (nullable = true)\n",
      " |    |-- GoodForDancing: boolean (nullable = true)\n",
      " |    |-- GoodForKids: boolean (nullable = true)\n",
      " |    |-- GoodForMeal: struct (nullable = true)\n",
      " |    |    |-- breakfast: boolean (nullable = true)\n",
      " |    |    |-- brunch: boolean (nullable = true)\n",
      " |    |    |-- dessert: boolean (nullable = true)\n",
      " |    |    |-- dinner: boolean (nullable = true)\n",
      " |    |    |-- latenight: boolean (nullable = true)\n",
      " |    |    |-- lunch: boolean (nullable = true)\n",
      " |    |-- HairSpecializesIn: struct (nullable = true)\n",
      " |    |    |-- africanamerican: boolean (nullable = true)\n",
      " |    |    |-- asian: boolean (nullable = true)\n",
      " |    |    |-- coloring: boolean (nullable = true)\n",
      " |    |    |-- curly: boolean (nullable = true)\n",
      " |    |    |-- extensions: boolean (nullable = true)\n",
      " |    |    |-- kids: boolean (nullable = true)\n",
      " |    |    |-- perms: boolean (nullable = true)\n",
      " |    |    |-- straightperms: boolean (nullable = true)\n",
      " |    |-- HappyHour: boolean (nullable = true)\n",
      " |    |-- HasTV: boolean (nullable = true)\n",
      " |    |-- Music: struct (nullable = true)\n",
      " |    |    |-- background_music: boolean (nullable = true)\n",
      " |    |    |-- dj: boolean (nullable = true)\n",
      " |    |    |-- jukebox: boolean (nullable = true)\n",
      " |    |    |-- karaoke: boolean (nullable = true)\n",
      " |    |    |-- live: boolean (nullable = true)\n",
      " |    |    |-- no_music: boolean (nullable = true)\n",
      " |    |    |-- video: boolean (nullable = true)\n",
      " |    |-- NoiseLevel: string (nullable = true)\n",
      " |    |-- Open24Hours: boolean (nullable = true)\n",
      " |    |-- OutdoorSeating: boolean (nullable = true)\n",
      " |    |-- RestaurantsAttire: string (nullable = true)\n",
      " |    |-- RestaurantsCounterService: boolean (nullable = true)\n",
      " |    |-- RestaurantsDelivery: boolean (nullable = true)\n",
      " |    |-- RestaurantsGoodForGroups: boolean (nullable = true)\n",
      " |    |-- RestaurantsPriceRange2: long (nullable = true)\n",
      " |    |-- RestaurantsReservations: boolean (nullable = true)\n",
      " |    |-- RestaurantsTableService: boolean (nullable = true)\n",
      " |    |-- RestaurantsTakeOut: boolean (nullable = true)\n",
      " |    |-- Smoking: string (nullable = true)\n",
      " |    |-- WheelchairAccessible: boolean (nullable = true)\n",
      " |    |-- WiFi: string (nullable = true)\n",
      " |-- business_id: string (nullable = true)\n",
      " |-- categories: array (nullable = true)\n",
      " |    |-- element: string (containsNull = true)\n",
      " |-- city: string (nullable = true)\n",
      " |-- hours: struct (nullable = true)\n",
      " |    |-- Friday: string (nullable = true)\n",
      " |    |-- Monday: string (nullable = true)\n",
      " |    |-- Saturday: string (nullable = true)\n",
      " |    |-- Sunday: string (nullable = true)\n",
      " |    |-- Thursday: string (nullable = true)\n",
      " |    |-- Tuesday: string (nullable = true)\n",
      " |    |-- Wednesday: string (nullable = true)\n",
      " |-- is_open: long (nullable = true)\n",
      " |-- latitude: double (nullable = true)\n",
      " |-- longitude: double (nullable = true)\n",
      " |-- name: string (nullable = true)\n",
      " |-- neighborhood: string (nullable = true)\n",
      " |-- postal_code: string (nullable = true)\n",
      " |-- review_count: long (nullable = true)\n",
      " |-- stars: double (nullable = true)\n",
      " |-- state: string (nullable = true)"
     ]
    }
   ],
   "source": [
    "business.printSchema()"
   ]
  },
  {
   "cell_type": "code",
   "execution_count": 126,
   "metadata": {},
   "outputs": [
    {
     "data": {
      "application/vnd.jupyter.widget-view+json": {
       "model_id": "93b9ab1fd8c44f97b091a0403c21661b",
       "version_major": 2,
       "version_minor": 0
      },
      "text/plain": [
       "VBox()"
      ]
     },
     "metadata": {},
     "output_type": "display_data"
    }
   ],
   "source": [
    "# review = spark.read.json('s3://umsi-data-science/data/yelp/review.json.gz')"
   ]
  },
  {
   "cell_type": "code",
   "execution_count": 127,
   "metadata": {},
   "outputs": [
    {
     "data": {
      "application/vnd.jupyter.widget-view+json": {
       "model_id": "d801fd762c2248ed9528be60bb278a26",
       "version_major": 2,
       "version_minor": 0
      },
      "text/plain": [
       "VBox()"
      ]
     },
     "metadata": {},
     "output_type": "display_data"
    }
   ],
   "source": [
    "# review.printSchema()"
   ]
  },
  {
   "cell_type": "code",
   "execution_count": 128,
   "metadata": {},
   "outputs": [
    {
     "data": {
      "application/vnd.jupyter.widget-view+json": {
       "model_id": "4f21b09ef0e84ef587e4a8382f83fd5e",
       "version_major": 2,
       "version_minor": 0
      },
      "text/plain": [
       "VBox()"
      ]
     },
     "metadata": {},
     "output_type": "display_data"
    }
   ],
   "source": [
    "tip = spark.read.json('s3://umsi-data-science/data/yelp/tip.json')"
   ]
  },
  {
   "cell_type": "code",
   "execution_count": 129,
   "metadata": {
    "scrolled": true
   },
   "outputs": [
    {
     "data": {
      "application/vnd.jupyter.widget-view+json": {
       "model_id": "ba8a022ada5944b4b979d046438eb632",
       "version_major": 2,
       "version_minor": 0
      },
      "text/plain": [
       "VBox()"
      ]
     },
     "metadata": {},
     "output_type": "display_data"
    },
    {
     "name": "stdout",
     "output_type": "stream",
     "text": [
      "root\n",
      " |-- business_id: string (nullable = true)\n",
      " |-- date: string (nullable = true)\n",
      " |-- likes: long (nullable = true)\n",
      " |-- text: string (nullable = true)\n",
      " |-- user_id: string (nullable = true)"
     ]
    }
   ],
   "source": [
    "tip.printSchema()"
   ]
  },
  {
   "cell_type": "markdown",
   "metadata": {},
   "source": [
    "### Let's try to find the name of the business that has the highest number of \"tips\":"
   ]
  },
  {
   "cell_type": "code",
   "execution_count": 130,
   "metadata": {},
   "outputs": [
    {
     "data": {
      "application/vnd.jupyter.widget-view+json": {
       "model_id": "80efc6b2f05c48c88c5f64d83151be4b",
       "version_major": 2,
       "version_minor": 0
      },
      "text/plain": [
       "VBox()"
      ]
     },
     "metadata": {},
     "output_type": "display_data"
    }
   ],
   "source": [
    "most_tips = tip.groupBy('business_id').count().sort('count',ascending=False)"
   ]
  },
  {
   "cell_type": "code",
   "execution_count": 131,
   "metadata": {},
   "outputs": [
    {
     "data": {
      "application/vnd.jupyter.widget-view+json": {
       "model_id": "7b61c5437ee549f094491dee096baf91",
       "version_major": 2,
       "version_minor": 0
      },
      "text/plain": [
       "VBox()"
      ]
     },
     "metadata": {},
     "output_type": "display_data"
    }
   ],
   "source": [
    "from pyspark.sql.functions import col\n",
    "most_tips = most_tips.withColumn('the_count',col('count'))"
   ]
  },
  {
   "cell_type": "code",
   "execution_count": 132,
   "metadata": {
    "scrolled": true
   },
   "outputs": [
    {
     "data": {
      "application/vnd.jupyter.widget-view+json": {
       "model_id": "1afb5daf4cd74a0dab99529c8232e733",
       "version_major": 2,
       "version_minor": 0
      },
      "text/plain": [
       "VBox()"
      ]
     },
     "metadata": {},
     "output_type": "display_data"
    },
    {
     "name": "stdout",
     "output_type": "stream",
     "text": [
      "+--------------------+-----+---------+\n",
      "|         business_id|count|the_count|\n",
      "+--------------------+-----+---------+\n",
      "|FaHADZARwnY4yvlvp...| 3517|     3517|\n",
      "|JmI9nslLD7KZqRr__...| 2382|     2382|\n",
      "|DkYS3arLOhA8si5uU...| 1474|     1474|\n",
      "|5LNZ67Yw9RD6nf4_U...| 1436|     1436|\n",
      "|K7lWdNUhCbcnEvI0N...| 1346|     1346|\n",
      "|hihud--QRriCYZw1z...| 1287|     1287|\n",
      "|RESDUcs7fIiihp38-...| 1149|     1149|\n",
      "|yfxDa8RFOvJPQh0rN...| 1062|     1062|\n",
      "|4JNXUYY8wbaaDmk3B...| 1038|     1038|\n",
      "|iCQpiavjjPzJ5_3gP...| 1033|     1033|\n",
      "|SMPbvZLSMMb7KU76Y...|  996|      996|\n",
      "|7sPNbCx7vGAaH7SbN...|  981|      981|\n",
      "|UPIYuRaZvknINOd1w...|  959|      959|\n",
      "|eoHdUeQDNgQ6WYEnP...|  940|      940|\n",
      "|yQab5dxZzgBLTEHCw...|  900|      900|\n",
      "|JyxHvtj-syke7m9rb...|  888|      888|\n",
      "|LNGBEEelQx4zbfWnl...|  854|      854|\n",
      "|WUq8HJHIZU4uteB15...|  831|      831|\n",
      "|f4x1YBxkLrZg652xt...|  800|      800|\n",
      "|El4FC8jcawUVgw_0E...|  759|      759|\n",
      "+--------------------+-----+---------+\n",
      "only showing top 20 rows"
     ]
    }
   ],
   "source": [
    "most_tips.show()"
   ]
  },
  {
   "cell_type": "code",
   "execution_count": 133,
   "metadata": {},
   "outputs": [
    {
     "data": {
      "application/vnd.jupyter.widget-view+json": {
       "model_id": "370427980f8a40babbb112ae9f4349ca",
       "version_major": 2,
       "version_minor": 0
      },
      "text/plain": [
       "VBox()"
      ]
     },
     "metadata": {},
     "output_type": "display_data"
    }
   ],
   "source": [
    "joined = most_tips.join(business,'business_id','left').sort('the_count',ascending=False)"
   ]
  },
  {
   "cell_type": "code",
   "execution_count": 134,
   "metadata": {},
   "outputs": [
    {
     "data": {
      "application/vnd.jupyter.widget-view+json": {
       "model_id": "e837dc7a4915462693d2361b3ac149af",
       "version_major": 2,
       "version_minor": 0
      },
      "text/plain": [
       "VBox()"
      ]
     },
     "metadata": {},
     "output_type": "display_data"
    }
   ],
   "source": [
    "most_tips_joined = joined.select(\"name\",\"the_count\").filter(joined['the_count'] > 1000).collect()"
   ]
  },
  {
   "cell_type": "code",
   "execution_count": 135,
   "metadata": {},
   "outputs": [
    {
     "data": {
      "application/vnd.jupyter.widget-view+json": {
       "model_id": "953d29c78f5d40979664a8237c906f15",
       "version_major": 2,
       "version_minor": 0
      },
      "text/plain": [
       "VBox()"
      ]
     },
     "metadata": {},
     "output_type": "display_data"
    },
    {
     "name": "stdout",
     "output_type": "stream",
     "text": [
      "(u'McCarran International Airport', <built-in method count of Row object at 0x7f534ee41af8>, 3517)\n",
      "(u'Phoenix Sky Harbor International Airport', <built-in method count of Row object at 0x7f534ee41aa0>, 2382)\n",
      "(u'Earl of Sandwich', <built-in method count of Row object at 0x7f534ee41a48>, 1474)\n",
      "(u'The Cosmopolitan of Las Vegas', <built-in method count of Row object at 0x7f534ee41838>, 1436)\n",
      "(u'Wicked Spoon', <built-in method count of Row object at 0x7f534ee41cb0>, 1346)\n",
      "(u'Gangnam Asian BBQ Dining', <built-in method count of Row object at 0x7f534ee41d08>, 1287)\n",
      "(u'Bacchanal Buffet', <built-in method count of Row object at 0x7f534ee41d60>, 1149)\n",
      "(u'Pho Kim Long', <built-in method count of Row object at 0x7f534ee41db8>, 1062)\n",
      "(u'Mon Ami Gabi', <built-in method count of Row object at 0x7f534ee41e10>, 1038)\n",
      "(u'Secret Pizza', <built-in method count of Row object at 0x7f534ee41e68>, 1033)"
     ]
    }
   ],
   "source": [
    "for b in most_tips_joined:\n",
    "    print(b.name,b.count,b.the_count)"
   ]
  },
  {
   "cell_type": "markdown",
   "metadata": {},
   "source": [
    "\n",
    "## Your turn\n",
    "Use a combination of Spark and plain old python code to answer the following questions.  Include code and written responses in English for each question."
   ]
  },
  {
   "cell_type": "markdown",
   "metadata": {},
   "source": [
    "### Q3. How many businesses in the data set are located in the state of Ohio (OH)?"
   ]
  },
  {
   "cell_type": "code",
   "execution_count": 136,
   "metadata": {},
   "outputs": [
    {
     "data": {
      "application/vnd.jupyter.widget-view+json": {
       "model_id": "fcaf768b008546ecbdc08e1de4c0ea9b",
       "version_major": 2,
       "version_minor": 0
      },
      "text/plain": [
       "VBox()"
      ]
     },
     "metadata": {},
     "output_type": "display_data"
    },
    {
     "name": "stdout",
     "output_type": "stream",
     "text": [
      "12609"
     ]
    }
   ],
   "source": [
    "business.filter(business.state == 'OH').count()"
   ]
  },
  {
   "cell_type": "markdown",
   "metadata": {},
   "source": [
    "### Q4. How many Pennsylvania-based businesses have a hipster ambience?"
   ]
  },
  {
   "cell_type": "code",
   "execution_count": 137,
   "metadata": {},
   "outputs": [
    {
     "data": {
      "application/vnd.jupyter.widget-view+json": {
       "model_id": "118639ce158e4d45b4c12db3cbf695be",
       "version_major": 2,
       "version_minor": 0
      },
      "text/plain": [
       "VBox()"
      ]
     },
     "metadata": {},
     "output_type": "display_data"
    },
    {
     "name": "stdout",
     "output_type": "stream",
     "text": [
      "71"
     ]
    }
   ],
   "source": [
    "business.filter(business.state == 'PA').filter(business.attributes.Ambience.hipster == True).count()"
   ]
  },
  {
   "cell_type": "markdown",
   "metadata": {},
   "source": [
    "### Q5. Which Nevada-based business has the most liked tip, and what is the text of the tip?"
   ]
  },
  {
   "cell_type": "code",
   "execution_count": 138,
   "metadata": {},
   "outputs": [
    {
     "data": {
      "application/vnd.jupyter.widget-view+json": {
       "model_id": "9f5bcb82fcab46d28db95b1ce72a201b",
       "version_major": 2,
       "version_minor": 0
      },
      "text/plain": [
       "VBox()"
      ]
     },
     "metadata": {},
     "output_type": "display_data"
    },
    {
     "name": "stdout",
     "output_type": "stream",
     "text": [
      "+--------------------+-----+--------------------+-----+\n",
      "|                name|likes|                text|state|\n",
      "+--------------------+-----+--------------------+-----+\n",
      "| A Peaceful Farewell|   15|My kitty Rocky is...|   AZ|\n",
      "|1st Pet Veterinar...|   12|1st Pet was very ...|   AZ|\n",
      "|Department of Mot...|   11|License photograp...|   NV|\n",
      "|        Baladie Café|    9|Heads up.... The ...|   NV|\n",
      "|      Moko Ramen Bar|    8|WARNING, TMI to f...|   NV|\n",
      "|             Bomboba|    7|Don't plan on com...|   AZ|\n",
      "|  Southwest Airlines|    7|Tuesday is not a ...|   NV|\n",
      "|           Burgh'ers|    7|Just average! Bet...|   PA|\n",
      "| Mastro's Ocean Club|    6|Request table in ...|   NV|\n",
      "|      Pineapple Park|    6|Do yourself a fav...|   NV|\n",
      "|KJ Dim Sum & Seafood|    6|Ordered a plate o...|   NV|\n",
      "|     Nails With Love|    6|WARNING:  We show...|   NV|\n",
      "|   Let's Eat Noodles|    6|4 health code vio...|   AZ|\n",
      "|           Starbucks|    6|The warmed up \"bu...|   AZ|\n",
      "|    Tremont Taphouse|    6|Upper-middle clas...|   OH|\n",
      "|Las Vegas Day School|    6|Time to pick up j...|   NV|\n",
      "|     Costco Gasoline|    5|Did you know you ...|   NV|\n",
      "|      Strip District|    5|When in Pittsburg...|   PA|\n",
      "|  Tacos El Compita 3|    5|These tacos weren...|   NV|\n",
      "|    Bacchanal Buffet|    5|The definition of...|   NV|\n",
      "+--------------------+-----+--------------------+-----+\n",
      "only showing top 20 rows"
     ]
    }
   ],
   "source": [
    "tip.join(business,'business_id','inner').sort(tip.likes,ascending=False).select('name','likes','text','state').show()"
   ]
  },
  {
   "cell_type": "markdown",
   "metadata": {},
   "source": [
    "### Q6. Excluding businesses in the state of Nevada, list 10 businesses with the highest number of tips"
   ]
  },
  {
   "cell_type": "code",
   "execution_count": 139,
   "metadata": {},
   "outputs": [
    {
     "data": {
      "application/vnd.jupyter.widget-view+json": {
       "model_id": "a23f4281c22a4f598c366261423b4c29",
       "version_major": 2,
       "version_minor": 0
      },
      "text/plain": [
       "VBox()"
      ]
     },
     "metadata": {},
     "output_type": "display_data"
    },
    {
     "name": "stdout",
     "output_type": "stream",
     "text": [
      "878"
     ]
    }
   ],
   "source": [
    "business.filter(business.attributes.Ambience.hipster == True).filter(business.state != 'NV').count()"
   ]
  },
  {
   "cell_type": "markdown",
   "metadata": {},
   "source": [
    "### Q7. List the names of the divey businesses from Ohio that have an overall rating of 4 or more stars and have at least 1000 tips.\n",
    "You might want to do this in several steps."
   ]
  },
  {
   "cell_type": "code",
   "execution_count": 140,
   "metadata": {},
   "outputs": [
    {
     "data": {
      "application/vnd.jupyter.widget-view+json": {
       "model_id": "736b9c24ae3647efba251535a373b0a9",
       "version_major": 2,
       "version_minor": 0
      },
      "text/plain": [
       "VBox()"
      ]
     },
     "metadata": {},
     "output_type": "display_data"
    }
   ],
   "source": [
    "divey_counts = business.filter(business.attributes.Ambience.divey == True).filter(business.state == 'OH').filter(business.stars >= 4.0).join(tip,\"business_id\",\"right\").groupBy('business_id').count()"
   ]
  },
  {
   "cell_type": "code",
   "execution_count": 141,
   "metadata": {
    "scrolled": true
   },
   "outputs": [
    {
     "data": {
      "application/vnd.jupyter.widget-view+json": {
       "model_id": "7cc99433fa17432192be3cd930e2a285",
       "version_major": 2,
       "version_minor": 0
      },
      "text/plain": [
       "VBox()"
      ]
     },
     "metadata": {},
     "output_type": "display_data"
    }
   ],
   "source": [
    "divey_counts = divey_counts.withColumn('the_count',col('count'))"
   ]
  },
  {
   "cell_type": "code",
   "execution_count": 142,
   "metadata": {},
   "outputs": [
    {
     "data": {
      "application/vnd.jupyter.widget-view+json": {
       "model_id": "a86da12b733040999bace1f626098d5d",
       "version_major": 2,
       "version_minor": 0
      },
      "text/plain": [
       "VBox()"
      ]
     },
     "metadata": {},
     "output_type": "display_data"
    }
   ],
   "source": [
    "good_dives = divey_counts.filter(divey_counts.the_count >= 1000).join(business,'business_id').select('name').collect()"
   ]
  },
  {
   "cell_type": "code",
   "execution_count": 143,
   "metadata": {},
   "outputs": [
    {
     "data": {
      "application/vnd.jupyter.widget-view+json": {
       "model_id": "e556177fbd7840909164ed9cdbc660b3",
       "version_major": 2,
       "version_minor": 0
      },
      "text/plain": [
       "VBox()"
      ]
     },
     "metadata": {},
     "output_type": "display_data"
    },
    {
     "name": "stdout",
     "output_type": "stream",
     "text": [
      "Gangnam Asian BBQ Dining\n",
      "Pho Kim Long\n",
      "Earl of Sandwich\n",
      "McCarran International Airport\n",
      "Phoenix Sky Harbor International Airport\n",
      "Wicked Spoon\n",
      "Bacchanal Buffet\n",
      "Mon Ami Gabi\n",
      "The Cosmopolitan of Las Vegas\n",
      "Secret Pizza"
     ]
    }
   ],
   "source": [
    "for b in good_dives:\n",
    "    print(b.name)"
   ]
  },
  {
   "cell_type": "code",
   "execution_count": null,
   "metadata": {},
   "outputs": [],
   "source": []
  },
  {
   "cell_type": "markdown",
   "metadata": {},
   "source": [
    "## END OF IN-CLASS NOTEBOOK\n",
    "Please download the notebook in HTML and IPYNB formats and submit both to Canvas.\n",
    "\n",
    "### **PLEASE REMEMBER TO TERMINATE YOUR CLUSTER(S) WHEN YOU ARE DONE!**"
   ]
  },
  {
   "cell_type": "code",
   "execution_count": null,
   "metadata": {},
   "outputs": [],
   "source": []
  }
 ],
 "metadata": {
  "kernelspec": {
   "display_name": "Python 3",
   "language": "python",
   "name": "python3"
  },
  "language_info": {
   "codemirror_mode": {
    "name": "ipython",
    "version": 3
   },
   "file_extension": ".py",
   "mimetype": "text/x-python",
   "name": "python",
   "nbconvert_exporter": "python",
   "pygments_lexer": "ipython3",
   "version": "3.7.1"
  }
 },
 "nbformat": 4,
 "nbformat_minor": 2
}
