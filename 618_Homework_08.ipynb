{
 "cells": [
  {
   "cell_type": "markdown",
   "metadata": {
    "colab_type": "text",
    "id": "8xKUiifPp32x"
   },
   "source": [
    "# Homework 8: Dimension Reduction"
   ]
  },
  {
   "cell_type": "markdown",
   "metadata": {
    "colab_type": "text",
    "id": "LQEC5QQ6qEIp"
   },
   "source": [
    "## The total score for this assignment will be 100 points, consisting of:\n",
    "- 10 pt: Overall quality of spelling, grammar, puctuation, etc. of written sentences.\n",
    "- 10 pt: Codes are written in [PEP 8](https://www.python.org/dev/peps/pep-0008/) style.\n",
    "- 80 pt: Homework questions. "
   ]
  },
  {
   "cell_type": "code",
   "execution_count": 1,
   "metadata": {
    "colab": {},
    "colab_type": "code",
    "id": "5_s56570qGEG"
   },
   "outputs": [],
   "source": [
    "MY_UNIQNAME = '?'"
   ]
  },
  {
   "cell_type": "markdown",
   "metadata": {
    "colab_type": "text",
    "id": "HQZneKXCpOFe"
   },
   "source": [
    "# Download the data:\n",
    "For this assignment, we will be using a gene expression dataset by Golub et al. (1999).\n",
    "\n",
    "https://www.kaggle.com/crawford/gene-expression\n",
    "\n",
    ">This dataset comes from a proof-of-concept study published in 1999 by Golub et al. It showed how new cases of cancer could be classified by gene expression monitoring (via DNA microarray) and thereby provided a general approach for identifying new cancer classes and assigning tumors to known classes. These data were used to classify patients with acute myeloid leukemia (AML) and acute lymphoblastic leukemia (ALL).\n",
    "\n",
    "A Kaggle user has [shared a kernel using PCA on this dataset](https://www.kaggle.com/kanav0183/pca-analysis-for-geneclassification), which, among others, you're free to use as a reference.\n",
    "\n",
    "**You will need to download the data files from Kaggle to complete this assignment.**"
   ]
  },
  {
   "cell_type": "markdown",
   "metadata": {
    "colab_type": "text",
    "id": "ths94YXrDrLh"
   },
   "source": [
    "# Part 0: Loading the Data\n",
    "\n",
    "As usual, load the data and use the summary functions and plots of your choice to get a sense of the data."
   ]
  },
  {
   "cell_type": "code",
   "execution_count": 2,
   "metadata": {
    "colab": {},
    "colab_type": "code",
    "id": "2yeIL0gfpPQD"
   },
   "outputs": [],
   "source": [
    "import pandas as pd\n",
    "import numpy as np\n",
    "import sklearn.manifold as skm\n",
    "import sklearn.decomposition as skd\n",
    "import sklearn.cluster as skc\n",
    "import matplotlib.pyplot as plt\n",
    "import seaborn as sns\n",
    "\n",
    "%matplotlib inline"
   ]
  },
  {
   "cell_type": "code",
   "execution_count": 3,
   "metadata": {
    "colab": {
     "base_uri": "https://localhost:8080/",
     "height": 864
    },
    "colab_type": "code",
    "executionInfo": {
     "elapsed": 237,
     "status": "error",
     "timestamp": 1541703200691,
     "user": {
      "displayName": "Sungjin Nam",
      "photoUrl": "https://lh3.googleusercontent.com/-bPC0ONeBc5c/AAAAAAAAAAI/AAAAAAAABDw/AL4XBrIvQJI/s64/photo.jpg",
      "userId": "06295554822278854914"
     },
     "user_tz": 300
    },
    "id": "7q1-uGp_8Bbw",
    "outputId": "91544364-a61c-4a37-9cfc-1e2d83b07cba"
   },
   "outputs": [],
   "source": [
    "# feel free to change the file location \n",
    "df_train = pd.read_csv(\"./data/data_set_ALL_AML_train.csv\")\n",
    "df_test = pd.read_csv(\"./data/data_set_ALL_AML_independent.csv\")"
   ]
  },
  {
   "cell_type": "code",
   "execution_count": 4,
   "metadata": {
    "colab": {},
    "colab_type": "code",
    "id": "hvWImK1Q8Bb0"
   },
   "outputs": [],
   "source": [
    "df_train = df_train[[col for col in df_train.columns if \"call\" not in col]].T\n",
    "df_test = df_test[[col for col in df_test.columns if \"call\" not in col]].T"
   ]
  },
  {
   "cell_type": "code",
   "execution_count": 5,
   "metadata": {
    "colab": {},
    "colab_type": "code",
    "id": "qjjqNZaQ8Bb3"
   },
   "outputs": [
    {
     "data": {
      "text/plain": [
       "[(40, 7129), (36, 7129)]"
      ]
     },
     "execution_count": 5,
     "metadata": {},
     "output_type": "execute_result"
    }
   ],
   "source": [
    "[df_train.shape, df_test.shape]"
   ]
  },
  {
   "cell_type": "code",
   "execution_count": 6,
   "metadata": {
    "colab": {
     "base_uri": "https://localhost:8080/",
     "height": 164
    },
    "colab_type": "code",
    "executionInfo": {
     "elapsed": 360,
     "status": "error",
     "timestamp": 1541703179895,
     "user": {
      "displayName": "Sungjin Nam",
      "photoUrl": "https://lh3.googleusercontent.com/-bPC0ONeBc5c/AAAAAAAAAAI/AAAAAAAABDw/AL4XBrIvQJI/s64/photo.jpg",
      "userId": "06295554822278854914"
     },
     "user_tz": 300
    },
    "id": "10jcCjUp8Bb_",
    "outputId": "6f778153-a8ec-4093-8c3f-e5ea3cbfb928"
   },
   "outputs": [
    {
     "data": {
      "text/plain": [
       "Index(['Gene Description', 'Gene Accession Number', '1', '2', '3', '4', '5',\n",
       "       '6', '7', '8', '9', '10', '11', '12', '13', '14', '15', '16', '17',\n",
       "       '18', '19', '20', '21', '22', '23', '24', '25', '26', '27', '34', '35',\n",
       "       '36', '37', '38', '28', '29', '30', '31', '32', '33'],\n",
       "      dtype='object')"
      ]
     },
     "execution_count": 6,
     "metadata": {},
     "output_type": "execute_result"
    }
   ],
   "source": [
    "df_train.index"
   ]
  },
  {
   "cell_type": "code",
   "execution_count": 7,
   "metadata": {
    "colab": {},
    "colab_type": "code",
    "id": "H03NnuQC8BcD"
   },
   "outputs": [
    {
     "data": {
      "text/plain": [
       "Index(['Gene Description', 'Gene Accession Number', '39', '40', '42', '47',\n",
       "       '48', '49', '41', '43', '44', '45', '46', '70', '71', '72', '68', '69',\n",
       "       '67', '55', '56', '59', '52', '53', '51', '50', '54', '57', '58', '60',\n",
       "       '61', '65', '66', '63', '64', '62'],\n",
       "      dtype='object')"
      ]
     },
     "execution_count": 7,
     "metadata": {},
     "output_type": "execute_result"
    }
   ],
   "source": [
    "df_test.index"
   ]
  },
  {
   "cell_type": "code",
   "execution_count": 8,
   "metadata": {
    "colab": {
     "base_uri": "https://localhost:8080/",
     "height": 164
    },
    "colab_type": "code",
    "executionInfo": {
     "elapsed": 263,
     "status": "error",
     "timestamp": 1541703180631,
     "user": {
      "displayName": "Sungjin Nam",
      "photoUrl": "https://lh3.googleusercontent.com/-bPC0ONeBc5c/AAAAAAAAAAI/AAAAAAAABDw/AL4XBrIvQJI/s64/photo.jpg",
      "userId": "06295554822278854914"
     },
     "user_tz": 300
    },
    "id": "2uYLqCpx8BcH",
    "outputId": "9fcbe247-65d4-4bdb-adc7-e688066412ac"
   },
   "outputs": [
    {
     "data": {
      "text/html": [
       "<div>\n",
       "<style scoped>\n",
       "    .dataframe tbody tr th:only-of-type {\n",
       "        vertical-align: middle;\n",
       "    }\n",
       "\n",
       "    .dataframe tbody tr th {\n",
       "        vertical-align: top;\n",
       "    }\n",
       "\n",
       "    .dataframe thead th {\n",
       "        text-align: right;\n",
       "    }\n",
       "</style>\n",
       "<table border=\"1\" class=\"dataframe\">\n",
       "  <thead>\n",
       "    <tr style=\"text-align: right;\">\n",
       "      <th></th>\n",
       "      <th>0</th>\n",
       "      <th>1</th>\n",
       "      <th>2</th>\n",
       "      <th>3</th>\n",
       "      <th>4</th>\n",
       "      <th>5</th>\n",
       "      <th>6</th>\n",
       "      <th>7</th>\n",
       "      <th>8</th>\n",
       "      <th>9</th>\n",
       "      <th>...</th>\n",
       "      <th>7119</th>\n",
       "      <th>7120</th>\n",
       "      <th>7121</th>\n",
       "      <th>7122</th>\n",
       "      <th>7123</th>\n",
       "      <th>7124</th>\n",
       "      <th>7125</th>\n",
       "      <th>7126</th>\n",
       "      <th>7127</th>\n",
       "      <th>7128</th>\n",
       "    </tr>\n",
       "  </thead>\n",
       "  <tbody>\n",
       "    <tr>\n",
       "      <th>Gene Description</th>\n",
       "      <td>AFFX-BioB-5_at (endogenous control)</td>\n",
       "      <td>AFFX-BioB-M_at (endogenous control)</td>\n",
       "      <td>AFFX-BioB-3_at (endogenous control)</td>\n",
       "      <td>AFFX-BioC-5_at (endogenous control)</td>\n",
       "      <td>AFFX-BioC-3_at (endogenous control)</td>\n",
       "      <td>AFFX-BioDn-5_at (endogenous control)</td>\n",
       "      <td>AFFX-BioDn-3_at (endogenous control)</td>\n",
       "      <td>AFFX-CreX-5_at (endogenous control)</td>\n",
       "      <td>AFFX-CreX-3_at (endogenous control)</td>\n",
       "      <td>AFFX-BioB-5_st (endogenous control)</td>\n",
       "      <td>...</td>\n",
       "      <td>Transcription factor Stat5b (stat5b) mRNA</td>\n",
       "      <td>Breast epithelial antigen BA46 mRNA</td>\n",
       "      <td>GB DEF = Calcium/calmodulin-dependent protein ...</td>\n",
       "      <td>TUBULIN ALPHA-4 CHAIN</td>\n",
       "      <td>CYP4B1 Cytochrome P450; subfamily IVB; polypep...</td>\n",
       "      <td>PTGER3 Prostaglandin E receptor 3 (subtype EP3...</td>\n",
       "      <td>HMG2 High-mobility group (nonhistone chromosom...</td>\n",
       "      <td>RB1 Retinoblastoma 1 (including osteosarcoma)</td>\n",
       "      <td>GB DEF = Glycophorin Sta (type A) exons 3 and ...</td>\n",
       "      <td>GB DEF = mRNA (clone 1A7)</td>\n",
       "    </tr>\n",
       "    <tr>\n",
       "      <th>Gene Accession Number</th>\n",
       "      <td>AFFX-BioB-5_at</td>\n",
       "      <td>AFFX-BioB-M_at</td>\n",
       "      <td>AFFX-BioB-3_at</td>\n",
       "      <td>AFFX-BioC-5_at</td>\n",
       "      <td>AFFX-BioC-3_at</td>\n",
       "      <td>AFFX-BioDn-5_at</td>\n",
       "      <td>AFFX-BioDn-3_at</td>\n",
       "      <td>AFFX-CreX-5_at</td>\n",
       "      <td>AFFX-CreX-3_at</td>\n",
       "      <td>AFFX-BioB-5_st</td>\n",
       "      <td>...</td>\n",
       "      <td>U48730_at</td>\n",
       "      <td>U58516_at</td>\n",
       "      <td>U73738_at</td>\n",
       "      <td>X06956_at</td>\n",
       "      <td>X16699_at</td>\n",
       "      <td>X83863_at</td>\n",
       "      <td>Z17240_at</td>\n",
       "      <td>L49218_f_at</td>\n",
       "      <td>M71243_f_at</td>\n",
       "      <td>Z78285_f_at</td>\n",
       "    </tr>\n",
       "    <tr>\n",
       "      <th>1</th>\n",
       "      <td>-214</td>\n",
       "      <td>-153</td>\n",
       "      <td>-58</td>\n",
       "      <td>88</td>\n",
       "      <td>-295</td>\n",
       "      <td>-558</td>\n",
       "      <td>199</td>\n",
       "      <td>-176</td>\n",
       "      <td>252</td>\n",
       "      <td>206</td>\n",
       "      <td>...</td>\n",
       "      <td>185</td>\n",
       "      <td>511</td>\n",
       "      <td>-125</td>\n",
       "      <td>389</td>\n",
       "      <td>-37</td>\n",
       "      <td>793</td>\n",
       "      <td>329</td>\n",
       "      <td>36</td>\n",
       "      <td>191</td>\n",
       "      <td>-37</td>\n",
       "    </tr>\n",
       "    <tr>\n",
       "      <th>2</th>\n",
       "      <td>-139</td>\n",
       "      <td>-73</td>\n",
       "      <td>-1</td>\n",
       "      <td>283</td>\n",
       "      <td>-264</td>\n",
       "      <td>-400</td>\n",
       "      <td>-330</td>\n",
       "      <td>-168</td>\n",
       "      <td>101</td>\n",
       "      <td>74</td>\n",
       "      <td>...</td>\n",
       "      <td>169</td>\n",
       "      <td>837</td>\n",
       "      <td>-36</td>\n",
       "      <td>442</td>\n",
       "      <td>-17</td>\n",
       "      <td>782</td>\n",
       "      <td>295</td>\n",
       "      <td>11</td>\n",
       "      <td>76</td>\n",
       "      <td>-14</td>\n",
       "    </tr>\n",
       "    <tr>\n",
       "      <th>3</th>\n",
       "      <td>-76</td>\n",
       "      <td>-49</td>\n",
       "      <td>-307</td>\n",
       "      <td>309</td>\n",
       "      <td>-376</td>\n",
       "      <td>-650</td>\n",
       "      <td>33</td>\n",
       "      <td>-367</td>\n",
       "      <td>206</td>\n",
       "      <td>-215</td>\n",
       "      <td>...</td>\n",
       "      <td>315</td>\n",
       "      <td>1199</td>\n",
       "      <td>33</td>\n",
       "      <td>168</td>\n",
       "      <td>52</td>\n",
       "      <td>1138</td>\n",
       "      <td>777</td>\n",
       "      <td>41</td>\n",
       "      <td>228</td>\n",
       "      <td>-41</td>\n",
       "    </tr>\n",
       "  </tbody>\n",
       "</table>\n",
       "<p>5 rows × 7129 columns</p>\n",
       "</div>"
      ],
      "text/plain": [
       "                                                      0     \\\n",
       "Gene Description       AFFX-BioB-5_at (endogenous control)   \n",
       "Gene Accession Number                       AFFX-BioB-5_at   \n",
       "1                                                     -214   \n",
       "2                                                     -139   \n",
       "3                                                      -76   \n",
       "\n",
       "                                                      1     \\\n",
       "Gene Description       AFFX-BioB-M_at (endogenous control)   \n",
       "Gene Accession Number                       AFFX-BioB-M_at   \n",
       "1                                                     -153   \n",
       "2                                                      -73   \n",
       "3                                                      -49   \n",
       "\n",
       "                                                      2     \\\n",
       "Gene Description       AFFX-BioB-3_at (endogenous control)   \n",
       "Gene Accession Number                       AFFX-BioB-3_at   \n",
       "1                                                      -58   \n",
       "2                                                       -1   \n",
       "3                                                     -307   \n",
       "\n",
       "                                                      3     \\\n",
       "Gene Description       AFFX-BioC-5_at (endogenous control)   \n",
       "Gene Accession Number                       AFFX-BioC-5_at   \n",
       "1                                                       88   \n",
       "2                                                      283   \n",
       "3                                                      309   \n",
       "\n",
       "                                                      4     \\\n",
       "Gene Description       AFFX-BioC-3_at (endogenous control)   \n",
       "Gene Accession Number                       AFFX-BioC-3_at   \n",
       "1                                                     -295   \n",
       "2                                                     -264   \n",
       "3                                                     -376   \n",
       "\n",
       "                                                       5     \\\n",
       "Gene Description       AFFX-BioDn-5_at (endogenous control)   \n",
       "Gene Accession Number                       AFFX-BioDn-5_at   \n",
       "1                                                      -558   \n",
       "2                                                      -400   \n",
       "3                                                      -650   \n",
       "\n",
       "                                                       6     \\\n",
       "Gene Description       AFFX-BioDn-3_at (endogenous control)   \n",
       "Gene Accession Number                       AFFX-BioDn-3_at   \n",
       "1                                                       199   \n",
       "2                                                      -330   \n",
       "3                                                        33   \n",
       "\n",
       "                                                      7     \\\n",
       "Gene Description       AFFX-CreX-5_at (endogenous control)   \n",
       "Gene Accession Number                       AFFX-CreX-5_at   \n",
       "1                                                     -176   \n",
       "2                                                     -168   \n",
       "3                                                     -367   \n",
       "\n",
       "                                                      8     \\\n",
       "Gene Description       AFFX-CreX-3_at (endogenous control)   \n",
       "Gene Accession Number                       AFFX-CreX-3_at   \n",
       "1                                                      252   \n",
       "2                                                      101   \n",
       "3                                                      206   \n",
       "\n",
       "                                                      9     \\\n",
       "Gene Description       AFFX-BioB-5_st (endogenous control)   \n",
       "Gene Accession Number                       AFFX-BioB-5_st   \n",
       "1                                                      206   \n",
       "2                                                       74   \n",
       "3                                                     -215   \n",
       "\n",
       "                                 ...              \\\n",
       "Gene Description                 ...               \n",
       "Gene Accession Number            ...               \n",
       "1                                ...               \n",
       "2                                ...               \n",
       "3                                ...               \n",
       "\n",
       "                                                            7119  \\\n",
       "Gene Description       Transcription factor Stat5b (stat5b) mRNA   \n",
       "Gene Accession Number                                  U48730_at   \n",
       "1                                                            185   \n",
       "2                                                            169   \n",
       "3                                                            315   \n",
       "\n",
       "                                                      7120  \\\n",
       "Gene Description       Breast epithelial antigen BA46 mRNA   \n",
       "Gene Accession Number                            U58516_at   \n",
       "1                                                      511   \n",
       "2                                                      837   \n",
       "3                                                     1199   \n",
       "\n",
       "                                                                    7121  \\\n",
       "Gene Description       GB DEF = Calcium/calmodulin-dependent protein ...   \n",
       "Gene Accession Number                                          U73738_at   \n",
       "1                                                                   -125   \n",
       "2                                                                    -36   \n",
       "3                                                                     33   \n",
       "\n",
       "                                        7122  \\\n",
       "Gene Description       TUBULIN ALPHA-4 CHAIN   \n",
       "Gene Accession Number              X06956_at   \n",
       "1                                        389   \n",
       "2                                        442   \n",
       "3                                        168   \n",
       "\n",
       "                                                                    7123  \\\n",
       "Gene Description       CYP4B1 Cytochrome P450; subfamily IVB; polypep...   \n",
       "Gene Accession Number                                          X16699_at   \n",
       "1                                                                    -37   \n",
       "2                                                                    -17   \n",
       "3                                                                     52   \n",
       "\n",
       "                                                                    7124  \\\n",
       "Gene Description       PTGER3 Prostaglandin E receptor 3 (subtype EP3...   \n",
       "Gene Accession Number                                          X83863_at   \n",
       "1                                                                    793   \n",
       "2                                                                    782   \n",
       "3                                                                   1138   \n",
       "\n",
       "                                                                    7125  \\\n",
       "Gene Description       HMG2 High-mobility group (nonhistone chromosom...   \n",
       "Gene Accession Number                                          Z17240_at   \n",
       "1                                                                    329   \n",
       "2                                                                    295   \n",
       "3                                                                    777   \n",
       "\n",
       "                                                                7126  \\\n",
       "Gene Description       RB1 Retinoblastoma 1 (including osteosarcoma)   \n",
       "Gene Accession Number                                    L49218_f_at   \n",
       "1                                                                 36   \n",
       "2                                                                 11   \n",
       "3                                                                 41   \n",
       "\n",
       "                                                                    7127  \\\n",
       "Gene Description       GB DEF = Glycophorin Sta (type A) exons 3 and ...   \n",
       "Gene Accession Number                                        M71243_f_at   \n",
       "1                                                                    191   \n",
       "2                                                                     76   \n",
       "3                                                                    228   \n",
       "\n",
       "                                            7128  \n",
       "Gene Description       GB DEF = mRNA (clone 1A7)  \n",
       "Gene Accession Number                Z78285_f_at  \n",
       "1                                            -37  \n",
       "2                                            -14  \n",
       "3                                            -41  \n",
       "\n",
       "[5 rows x 7129 columns]"
      ]
     },
     "execution_count": 8,
     "metadata": {},
     "output_type": "execute_result"
    }
   ],
   "source": [
    "df_train.head()"
   ]
  },
  {
   "cell_type": "code",
   "execution_count": 9,
   "metadata": {
    "colab": {
     "base_uri": "https://localhost:8080/",
     "height": 164
    },
    "colab_type": "code",
    "executionInfo": {
     "elapsed": 338,
     "status": "error",
     "timestamp": 1541703181303,
     "user": {
      "displayName": "Sungjin Nam",
      "photoUrl": "https://lh3.googleusercontent.com/-bPC0ONeBc5c/AAAAAAAAAAI/AAAAAAAABDw/AL4XBrIvQJI/s64/photo.jpg",
      "userId": "06295554822278854914"
     },
     "user_tz": 300
    },
    "id": "WJTUBUqZ8BcM",
    "outputId": "823a8345-f21e-414e-c308-567039a388b3"
   },
   "outputs": [
    {
     "data": {
      "text/html": [
       "<div>\n",
       "<style scoped>\n",
       "    .dataframe tbody tr th:only-of-type {\n",
       "        vertical-align: middle;\n",
       "    }\n",
       "\n",
       "    .dataframe tbody tr th {\n",
       "        vertical-align: top;\n",
       "    }\n",
       "\n",
       "    .dataframe thead th {\n",
       "        text-align: right;\n",
       "    }\n",
       "</style>\n",
       "<table border=\"1\" class=\"dataframe\">\n",
       "  <thead>\n",
       "    <tr style=\"text-align: right;\">\n",
       "      <th></th>\n",
       "      <th>0</th>\n",
       "      <th>1</th>\n",
       "      <th>2</th>\n",
       "      <th>3</th>\n",
       "      <th>4</th>\n",
       "      <th>5</th>\n",
       "      <th>6</th>\n",
       "      <th>7</th>\n",
       "      <th>8</th>\n",
       "      <th>9</th>\n",
       "      <th>...</th>\n",
       "      <th>7119</th>\n",
       "      <th>7120</th>\n",
       "      <th>7121</th>\n",
       "      <th>7122</th>\n",
       "      <th>7123</th>\n",
       "      <th>7124</th>\n",
       "      <th>7125</th>\n",
       "      <th>7126</th>\n",
       "      <th>7127</th>\n",
       "      <th>7128</th>\n",
       "    </tr>\n",
       "  </thead>\n",
       "  <tbody>\n",
       "    <tr>\n",
       "      <th>Gene Description</th>\n",
       "      <td>AFFX-BioB-5_at (endogenous control)</td>\n",
       "      <td>AFFX-BioB-M_at (endogenous control)</td>\n",
       "      <td>AFFX-BioB-3_at (endogenous control)</td>\n",
       "      <td>AFFX-BioC-5_at (endogenous control)</td>\n",
       "      <td>AFFX-BioC-3_at (endogenous control)</td>\n",
       "      <td>AFFX-BioDn-5_at (endogenous control)</td>\n",
       "      <td>AFFX-BioDn-3_at (endogenous control)</td>\n",
       "      <td>AFFX-CreX-5_at (endogenous control)</td>\n",
       "      <td>AFFX-CreX-3_at (endogenous control)</td>\n",
       "      <td>AFFX-BioB-5_st (endogenous control)</td>\n",
       "      <td>...</td>\n",
       "      <td>Transcription factor Stat5b (stat5b) mRNA</td>\n",
       "      <td>Breast epithelial antigen BA46 mRNA</td>\n",
       "      <td>GB DEF = Calcium/calmodulin-dependent protein ...</td>\n",
       "      <td>TUBULIN ALPHA-4 CHAIN</td>\n",
       "      <td>CYP4B1 Cytochrome P450; subfamily IVB; polypep...</td>\n",
       "      <td>PTGER3 Prostaglandin E receptor 3 (subtype EP3...</td>\n",
       "      <td>HMG2 High-mobility group (nonhistone chromosom...</td>\n",
       "      <td>RB1 Retinoblastoma 1 (including osteosarcoma)</td>\n",
       "      <td>GB DEF = Glycophorin Sta (type A) exons 3 and ...</td>\n",
       "      <td>GB DEF = mRNA (clone 1A7)</td>\n",
       "    </tr>\n",
       "    <tr>\n",
       "      <th>Gene Accession Number</th>\n",
       "      <td>AFFX-BioB-5_at</td>\n",
       "      <td>AFFX-BioB-M_at</td>\n",
       "      <td>AFFX-BioB-3_at</td>\n",
       "      <td>AFFX-BioC-5_at</td>\n",
       "      <td>AFFX-BioC-3_at</td>\n",
       "      <td>AFFX-BioDn-5_at</td>\n",
       "      <td>AFFX-BioDn-3_at</td>\n",
       "      <td>AFFX-CreX-5_at</td>\n",
       "      <td>AFFX-CreX-3_at</td>\n",
       "      <td>AFFX-BioB-5_st</td>\n",
       "      <td>...</td>\n",
       "      <td>U48730_at</td>\n",
       "      <td>U58516_at</td>\n",
       "      <td>U73738_at</td>\n",
       "      <td>X06956_at</td>\n",
       "      <td>X16699_at</td>\n",
       "      <td>X83863_at</td>\n",
       "      <td>Z17240_at</td>\n",
       "      <td>L49218_f_at</td>\n",
       "      <td>M71243_f_at</td>\n",
       "      <td>Z78285_f_at</td>\n",
       "    </tr>\n",
       "    <tr>\n",
       "      <th>39</th>\n",
       "      <td>-342</td>\n",
       "      <td>-200</td>\n",
       "      <td>41</td>\n",
       "      <td>328</td>\n",
       "      <td>-224</td>\n",
       "      <td>-427</td>\n",
       "      <td>-656</td>\n",
       "      <td>-292</td>\n",
       "      <td>137</td>\n",
       "      <td>-144</td>\n",
       "      <td>...</td>\n",
       "      <td>277</td>\n",
       "      <td>1023</td>\n",
       "      <td>67</td>\n",
       "      <td>214</td>\n",
       "      <td>-135</td>\n",
       "      <td>1074</td>\n",
       "      <td>475</td>\n",
       "      <td>48</td>\n",
       "      <td>168</td>\n",
       "      <td>-70</td>\n",
       "    </tr>\n",
       "    <tr>\n",
       "      <th>40</th>\n",
       "      <td>-87</td>\n",
       "      <td>-248</td>\n",
       "      <td>262</td>\n",
       "      <td>295</td>\n",
       "      <td>-226</td>\n",
       "      <td>-493</td>\n",
       "      <td>367</td>\n",
       "      <td>-452</td>\n",
       "      <td>194</td>\n",
       "      <td>162</td>\n",
       "      <td>...</td>\n",
       "      <td>83</td>\n",
       "      <td>529</td>\n",
       "      <td>-295</td>\n",
       "      <td>352</td>\n",
       "      <td>-67</td>\n",
       "      <td>67</td>\n",
       "      <td>263</td>\n",
       "      <td>-33</td>\n",
       "      <td>-33</td>\n",
       "      <td>-21</td>\n",
       "    </tr>\n",
       "    <tr>\n",
       "      <th>42</th>\n",
       "      <td>22</td>\n",
       "      <td>-153</td>\n",
       "      <td>17</td>\n",
       "      <td>276</td>\n",
       "      <td>-211</td>\n",
       "      <td>-250</td>\n",
       "      <td>55</td>\n",
       "      <td>-141</td>\n",
       "      <td>0</td>\n",
       "      <td>500</td>\n",
       "      <td>...</td>\n",
       "      <td>413</td>\n",
       "      <td>399</td>\n",
       "      <td>16</td>\n",
       "      <td>558</td>\n",
       "      <td>24</td>\n",
       "      <td>893</td>\n",
       "      <td>297</td>\n",
       "      <td>6</td>\n",
       "      <td>1971</td>\n",
       "      <td>-42</td>\n",
       "    </tr>\n",
       "  </tbody>\n",
       "</table>\n",
       "<p>5 rows × 7129 columns</p>\n",
       "</div>"
      ],
      "text/plain": [
       "                                                      0     \\\n",
       "Gene Description       AFFX-BioB-5_at (endogenous control)   \n",
       "Gene Accession Number                       AFFX-BioB-5_at   \n",
       "39                                                    -342   \n",
       "40                                                     -87   \n",
       "42                                                      22   \n",
       "\n",
       "                                                      1     \\\n",
       "Gene Description       AFFX-BioB-M_at (endogenous control)   \n",
       "Gene Accession Number                       AFFX-BioB-M_at   \n",
       "39                                                    -200   \n",
       "40                                                    -248   \n",
       "42                                                    -153   \n",
       "\n",
       "                                                      2     \\\n",
       "Gene Description       AFFX-BioB-3_at (endogenous control)   \n",
       "Gene Accession Number                       AFFX-BioB-3_at   \n",
       "39                                                      41   \n",
       "40                                                     262   \n",
       "42                                                      17   \n",
       "\n",
       "                                                      3     \\\n",
       "Gene Description       AFFX-BioC-5_at (endogenous control)   \n",
       "Gene Accession Number                       AFFX-BioC-5_at   \n",
       "39                                                     328   \n",
       "40                                                     295   \n",
       "42                                                     276   \n",
       "\n",
       "                                                      4     \\\n",
       "Gene Description       AFFX-BioC-3_at (endogenous control)   \n",
       "Gene Accession Number                       AFFX-BioC-3_at   \n",
       "39                                                    -224   \n",
       "40                                                    -226   \n",
       "42                                                    -211   \n",
       "\n",
       "                                                       5     \\\n",
       "Gene Description       AFFX-BioDn-5_at (endogenous control)   \n",
       "Gene Accession Number                       AFFX-BioDn-5_at   \n",
       "39                                                     -427   \n",
       "40                                                     -493   \n",
       "42                                                     -250   \n",
       "\n",
       "                                                       6     \\\n",
       "Gene Description       AFFX-BioDn-3_at (endogenous control)   \n",
       "Gene Accession Number                       AFFX-BioDn-3_at   \n",
       "39                                                     -656   \n",
       "40                                                      367   \n",
       "42                                                       55   \n",
       "\n",
       "                                                      7     \\\n",
       "Gene Description       AFFX-CreX-5_at (endogenous control)   \n",
       "Gene Accession Number                       AFFX-CreX-5_at   \n",
       "39                                                    -292   \n",
       "40                                                    -452   \n",
       "42                                                    -141   \n",
       "\n",
       "                                                      8     \\\n",
       "Gene Description       AFFX-CreX-3_at (endogenous control)   \n",
       "Gene Accession Number                       AFFX-CreX-3_at   \n",
       "39                                                     137   \n",
       "40                                                     194   \n",
       "42                                                       0   \n",
       "\n",
       "                                                      9     \\\n",
       "Gene Description       AFFX-BioB-5_st (endogenous control)   \n",
       "Gene Accession Number                       AFFX-BioB-5_st   \n",
       "39                                                    -144   \n",
       "40                                                     162   \n",
       "42                                                     500   \n",
       "\n",
       "                                 ...              \\\n",
       "Gene Description                 ...               \n",
       "Gene Accession Number            ...               \n",
       "39                               ...               \n",
       "40                               ...               \n",
       "42                               ...               \n",
       "\n",
       "                                                            7119  \\\n",
       "Gene Description       Transcription factor Stat5b (stat5b) mRNA   \n",
       "Gene Accession Number                                  U48730_at   \n",
       "39                                                           277   \n",
       "40                                                            83   \n",
       "42                                                           413   \n",
       "\n",
       "                                                      7120  \\\n",
       "Gene Description       Breast epithelial antigen BA46 mRNA   \n",
       "Gene Accession Number                            U58516_at   \n",
       "39                                                    1023   \n",
       "40                                                     529   \n",
       "42                                                     399   \n",
       "\n",
       "                                                                    7121  \\\n",
       "Gene Description       GB DEF = Calcium/calmodulin-dependent protein ...   \n",
       "Gene Accession Number                                          U73738_at   \n",
       "39                                                                    67   \n",
       "40                                                                  -295   \n",
       "42                                                                    16   \n",
       "\n",
       "                                        7122  \\\n",
       "Gene Description       TUBULIN ALPHA-4 CHAIN   \n",
       "Gene Accession Number              X06956_at   \n",
       "39                                       214   \n",
       "40                                       352   \n",
       "42                                       558   \n",
       "\n",
       "                                                                    7123  \\\n",
       "Gene Description       CYP4B1 Cytochrome P450; subfamily IVB; polypep...   \n",
       "Gene Accession Number                                          X16699_at   \n",
       "39                                                                  -135   \n",
       "40                                                                   -67   \n",
       "42                                                                    24   \n",
       "\n",
       "                                                                    7124  \\\n",
       "Gene Description       PTGER3 Prostaglandin E receptor 3 (subtype EP3...   \n",
       "Gene Accession Number                                          X83863_at   \n",
       "39                                                                  1074   \n",
       "40                                                                    67   \n",
       "42                                                                   893   \n",
       "\n",
       "                                                                    7125  \\\n",
       "Gene Description       HMG2 High-mobility group (nonhistone chromosom...   \n",
       "Gene Accession Number                                          Z17240_at   \n",
       "39                                                                   475   \n",
       "40                                                                   263   \n",
       "42                                                                   297   \n",
       "\n",
       "                                                                7126  \\\n",
       "Gene Description       RB1 Retinoblastoma 1 (including osteosarcoma)   \n",
       "Gene Accession Number                                    L49218_f_at   \n",
       "39                                                                48   \n",
       "40                                                               -33   \n",
       "42                                                                 6   \n",
       "\n",
       "                                                                    7127  \\\n",
       "Gene Description       GB DEF = Glycophorin Sta (type A) exons 3 and ...   \n",
       "Gene Accession Number                                        M71243_f_at   \n",
       "39                                                                   168   \n",
       "40                                                                   -33   \n",
       "42                                                                  1971   \n",
       "\n",
       "                                            7128  \n",
       "Gene Description       GB DEF = mRNA (clone 1A7)  \n",
       "Gene Accession Number                Z78285_f_at  \n",
       "39                                           -70  \n",
       "40                                           -21  \n",
       "42                                           -42  \n",
       "\n",
       "[5 rows x 7129 columns]"
      ]
     },
     "execution_count": 9,
     "metadata": {},
     "output_type": "execute_result"
    }
   ],
   "source": [
    "df_test.head()"
   ]
  },
  {
   "cell_type": "markdown",
   "metadata": {
    "colab_type": "text",
    "id": "uYm4yzb5poJ3"
   },
   "source": [
    "# Part 1: MDS"
   ]
  },
  {
   "cell_type": "markdown",
   "metadata": {
    "colab_type": "text",
    "id": "k4tgGvcvqvul"
   },
   "source": [
    "## 1.1. Visualize the gene expression data in 2D or 3D using Multidimensional Scaling  (10 pts.)"
   ]
  },
  {
   "cell_type": "code",
   "execution_count": 10,
   "metadata": {
    "colab": {},
    "colab_type": "code",
    "id": "3g_aOIWm8BcS"
   },
   "outputs": [],
   "source": [
    "### YOUR CODE HERE ###"
   ]
  },
  {
   "cell_type": "code",
   "execution_count": 11,
   "metadata": {
    "colab": {},
    "colab_type": "code",
    "id": "aV_xur3Q8BcV"
   },
   "outputs": [
    {
     "data": {
      "image/png": "[encoded data removed]",
      "text/plain": [
       "<Figure size 432x288 with 1 Axes>"
      ]
     },
     "metadata": {},
     "output_type": "display_data"
    }
   ],
   "source": [
    "# Use MDS to visualize brands.\n",
    "# Recall that df_bybrand is the mean-metric-by-brand \n",
    "# we created above.\n",
    "X = skm.MDS(n_components=2, random_state=1).fit_transform(df_train.iloc[2:,])\n",
    "plt.scatter(X[:,0],X[:,1],s=50)\n",
    "\n",
    "plt.xlabel('MDS1')\n",
    "plt.ylabel('MDS2')\n",
    "plt.title('MDS')\n",
    "\n",
    "for i, s in enumerate(df_train.index[2:]):\n",
    "    plt.annotate(s, xy=X[i,:2]+0.05, fontsize=10)"
   ]
  },
  {
   "cell_type": "code",
   "execution_count": null,
   "metadata": {
    "colab": {},
    "colab_type": "code",
    "id": "5bbmovQR8BcY"
   },
   "outputs": [],
   "source": []
  },
  {
   "cell_type": "markdown",
   "metadata": {
    "colab_type": "text",
    "id": "fj0O2L8WE0ce"
   },
   "source": [
    "## 1.2. Interprete your results (10 pts.)\n",
    "\n",
    "What can you see from your visualization(s)?"
   ]
  },
  {
   "cell_type": "markdown",
   "metadata": {
    "colab_type": "text",
    "id": "qX2GSpYO8Bcb"
   },
   "source": [
    "(YOUR INTERPRETATION HERE)"
   ]
  },
  {
   "cell_type": "markdown",
   "metadata": {
    "colab_type": "text",
    "id": "H0DMNTTkptwy"
   },
   "source": [
    "# Part 2: PCA"
   ]
  },
  {
   "cell_type": "markdown",
   "metadata": {
    "colab_type": "text",
    "id": "SYtiuvWhFrYK"
   },
   "source": [
    "## 2.1. Perform a Principal Component Analysis of the genes in your dataset (10 pts.)"
   ]
  },
  {
   "cell_type": "code",
   "execution_count": 12,
   "metadata": {
    "colab": {},
    "colab_type": "code",
    "id": "WdLJEnRd8Bcf"
   },
   "outputs": [],
   "source": [
    "### YOUR CODE HERE ###"
   ]
  },
  {
   "cell_type": "code",
   "execution_count": 13,
   "metadata": {
    "colab": {},
    "colab_type": "code",
    "id": "OIQnOG-h8Bci"
   },
   "outputs": [],
   "source": [
    "# Create a PCA model\n",
    "pca_model = skd.PCA().fit(df_train.iloc[2:,])"
   ]
  },
  {
   "cell_type": "code",
   "execution_count": 14,
   "metadata": {
    "colab": {},
    "colab_type": "code",
    "id": "UzBzxWpr8Bcl"
   },
   "outputs": [
    {
     "data": {
      "text/plain": [
       "(38, 7129)"
      ]
     },
     "execution_count": 14,
     "metadata": {},
     "output_type": "execute_result"
    }
   ],
   "source": [
    "# There are 7 components extracted from the data; each component is\n",
    "# a 7-dimensional vector.\n",
    "pca_model.components_.shape"
   ]
  },
  {
   "cell_type": "code",
   "execution_count": 15,
   "metadata": {},
   "outputs": [
    {
     "data": {
      "text/plain": [
       "array([[-2.58603694e-04,  1.60119310e-04,  1.27803295e-04, ...,\n",
       "         1.22295436e-04,  5.74702549e-03,  1.06625372e-04],\n",
       "       [ 7.79383098e-05, -3.17385706e-04, -8.27458395e-04, ...,\n",
       "         4.65544295e-04, -1.10301462e-02, -1.65373886e-04],\n",
       "       [ 2.47701958e-04,  4.49905521e-04,  9.21894680e-04, ...,\n",
       "         3.49928178e-04, -3.56823539e-03,  3.80490328e-05],\n",
       "       ...,\n",
       "       [ 8.81732205e-04, -3.32792364e-03, -5.13631879e-03, ...,\n",
       "         2.23773594e-03,  2.03540201e-02, -7.44232052e-04],\n",
       "       [-6.36794161e-04,  3.94749028e-03, -8.27682908e-04, ...,\n",
       "         1.07323331e-03,  1.36001902e-02, -1.09503924e-03],\n",
       "       [ 1.75657504e-02,  4.67596201e-02, -6.06487466e-02, ...,\n",
       "        -1.79454652e-04,  2.29641483e-03,  3.91384955e-04]])"
      ]
     },
     "execution_count": 15,
     "metadata": {},
     "output_type": "execute_result"
    }
   ],
   "source": [
    "pca_model.components_"
   ]
  },
  {
   "cell_type": "markdown",
   "metadata": {
    "colab_type": "text",
    "id": "4d8la4jhGYli"
   },
   "source": [
    "## 2.2. How much of the variance does each component explain? (2 pts.)"
   ]
  },
  {
   "cell_type": "code",
   "execution_count": 10,
   "metadata": {
    "colab": {},
    "colab_type": "code",
    "id": "3g_aOIWm8BcS"
   },
   "outputs": [],
   "source": [
    "### YOUR CODE HERE ###"
   ]
  },
  {
   "cell_type": "markdown",
   "metadata": {
    "colab_type": "text",
    "id": "qX2GSpYO8Bcb"
   },
   "source": [
    "(YOUR INTERPRETATION HERE)"
   ]
  },
  {
   "cell_type": "code",
   "execution_count": 16,
   "metadata": {
    "colab": {},
    "colab_type": "code",
    "id": "HS-bBN0E8Bcp"
   },
   "outputs": [
    {
     "data": {
      "text/plain": [
       "array([7.83296176e+08, 6.66185412e+08, 5.82146625e+08, 3.63196237e+08,\n",
       "       2.95529557e+08, 2.30852345e+08, 1.77848647e+08, 1.56987089e+08,\n",
       "       1.40414082e+08, 1.18955935e+08, 1.10573016e+08, 1.01587900e+08,\n",
       "       8.66952009e+07, 8.44996780e+07, 7.80444510e+07, 7.54123223e+07,\n",
       "       6.72845253e+07, 6.38976096e+07, 6.23372981e+07, 5.39626206e+07,\n",
       "       5.17318538e+07, 4.88244579e+07, 4.64764657e+07, 4.31557053e+07,\n",
       "       4.21904975e+07, 3.96927657e+07, 3.87216992e+07, 3.61043821e+07,\n",
       "       3.45700854e+07, 3.06015801e+07, 2.94590357e+07, 2.38468047e+07,\n",
       "       2.22005420e+07, 2.08232834e+07, 1.97283638e+07, 1.80493692e+07,\n",
       "       1.67560936e+07, 1.54477933e-22])"
      ]
     },
     "execution_count": 16,
     "metadata": {},
     "output_type": "execute_result"
    }
   ],
   "source": [
    "# Look at the variances explained by each component.\n",
    "# These values equal to the eigenvalues of the correlation matrix.\n",
    "pca_model.explained_variance_"
   ]
  },
  {
   "cell_type": "code",
   "execution_count": 17,
   "metadata": {
    "colab": {},
    "colab_type": "code",
    "id": "HSw_-VR08Bcs"
   },
   "outputs": [
    {
     "data": {
      "text/plain": [
       "array([16.11, 13.7 , 11.97,  7.47,  6.08,  4.75,  3.66,  3.23,  2.89,\n",
       "        2.45,  2.27,  2.09,  1.78,  1.74,  1.6 ,  1.55,  1.38,  1.31,\n",
       "        1.28,  1.11,  1.06,  1.  ,  0.96,  0.89,  0.87,  0.82,  0.8 ,\n",
       "        0.74,  0.71,  0.63,  0.61,  0.49,  0.46,  0.43,  0.41,  0.37,\n",
       "        0.34,  0.  ])"
      ]
     },
     "execution_count": 17,
     "metadata": {},
     "output_type": "execute_result"
    }
   ],
   "source": [
    "np.round((pca_model.explained_variance_/pca_model.explained_variance_.sum())*100, 2)"
   ]
  },
  {
   "cell_type": "code",
   "execution_count": 35,
   "metadata": {
    "colab": {},
    "colab_type": "code",
    "id": "HSw_-VR08Bcs"
   },
   "outputs": [
    {
     "data": {
      "text/plain": [
       "array([16.11, 13.7 , 11.97,  7.47,  6.08,  4.75,  3.66,  3.23,  2.89,\n",
       "        2.45,  2.27,  2.09,  1.78,  1.74,  1.6 ,  1.55,  1.38,  1.31,\n",
       "        1.28,  1.11,  1.06,  1.  ,  0.96,  0.89,  0.87,  0.82,  0.8 ,\n",
       "        0.74,  0.71,  0.63,  0.61,  0.49,  0.46,  0.43,  0.41,  0.37,\n",
       "        0.34,  0.  ])"
      ]
     },
     "execution_count": 35,
     "metadata": {},
     "output_type": "execute_result"
    }
   ],
   "source": [
    "np.round(pca_model.explained_variance_ratio_*100, 2)"
   ]
  },
  {
   "cell_type": "markdown",
   "metadata": {
    "colab_type": "text",
    "id": "cIF4SzGiGws3"
   },
   "source": [
    "## 2.3. What would be an appropriate number of components to keep? Why? (2 pts.)"
   ]
  },
  {
   "cell_type": "code",
   "execution_count": 10,
   "metadata": {
    "colab": {},
    "colab_type": "code",
    "id": "3g_aOIWm8BcS"
   },
   "outputs": [],
   "source": [
    "### YOUR CODE HERE ###"
   ]
  },
  {
   "cell_type": "markdown",
   "metadata": {
    "colab_type": "text",
    "id": "qX2GSpYO8Bcb"
   },
   "source": [
    "(YOUR INTERPRETATION HERE)"
   ]
  },
  {
   "cell_type": "code",
   "execution_count": 18,
   "metadata": {
    "colab": {},
    "colab_type": "code",
    "id": "wYeJNgNg8Bcw"
   },
   "outputs": [
    {
     "data": {
      "text/plain": [
       "[<matplotlib.lines.Line2D at 0x1a23006b38>]"
      ]
     },
     "execution_count": 18,
     "metadata": {},
     "output_type": "execute_result"
    },
    {
     "data": {
      "image/png": "[encoded data removed]",
      "text/plain": [
       "<Figure size 432x288 with 1 Axes>"
      ]
     },
     "metadata": {},
     "output_type": "display_data"
    }
   ],
   "source": [
    "# A \"scree\" plot.\n",
    "plt.plot(range(1,df_train.shape[0]-1),pca_model.explained_variance_,'b-o')"
   ]
  },
  {
   "cell_type": "markdown",
   "metadata": {
    "colab_type": "text",
    "id": "uB5U8KqtHIGw"
   },
   "source": [
    "## 2.4 Visualize your data in the reduced component space. What can you see from the visualization? (6 pts.)"
   ]
  },
  {
   "cell_type": "code",
   "execution_count": 10,
   "metadata": {
    "colab": {},
    "colab_type": "code",
    "id": "3g_aOIWm8BcS"
   },
   "outputs": [],
   "source": [
    "### YOUR CODE HERE ###"
   ]
  },
  {
   "cell_type": "markdown",
   "metadata": {
    "colab_type": "text",
    "id": "qX2GSpYO8Bcb"
   },
   "source": [
    "(YOUR INTERPRETATION HERE)"
   ]
  },
  {
   "cell_type": "code",
   "execution_count": 32,
   "metadata": {
    "colab": {},
    "colab_type": "code",
    "id": "inrklciH8Bcz"
   },
   "outputs": [
    {
     "data": {
      "image/png": "[encoded data removed]",
      "text/plain": [
       "<Figure size 576x432 with 1 Axes>"
      ]
     },
     "metadata": {},
     "output_type": "display_data"
    }
   ],
   "source": [
    "# Scatterplot of disaggregated data\n",
    "X = pca_model.transform(df_train.iloc[2:,])\n",
    "plt.figure(figsize=(8,6))\n",
    "plt.scatter(X[:,0], X[:,1])\n",
    "plt.xlabel('PC1')\n",
    "plt.ylabel('PC2')\n",
    "plt.title('PCA biplot')\n",
    "# plt.ylim(-4, 10)\n",
    "\n",
    "# Add variable unit vector projections\n",
    "# V = pca_model.transform(np.identity(X.shape[1]))\n",
    "V = X\n",
    "for i, v in enumerate(V[:10]):\n",
    "    plt.annotate(df_train.iloc[2:,].columns[i], \n",
    "                 xy=(0,0), xytext=v[:2]*1.3, \n",
    "                 fontsize=13, color='orange',\n",
    "                 arrowprops=dict(\n",
    "                    arrowstyle='<-', linewidth=2, color='orange'))"
   ]
  },
  {
   "cell_type": "code",
   "execution_count": null,
   "metadata": {
    "colab": {},
    "colab_type": "code",
    "id": "5zTdOQic8Bc2"
   },
   "outputs": [],
   "source": []
  },
  {
   "cell_type": "markdown",
   "metadata": {
    "colab_type": "text",
    "id": "BhU4B-oZ8Bc4"
   },
   "source": [
    "(YOUR INTERPRETATION HERE)"
   ]
  },
  {
   "cell_type": "markdown",
   "metadata": {
    "colab_type": "text",
    "id": "EO5dFpbYpuVF"
   },
   "source": [
    "# Part 3: Exploratory Factor Analysis"
   ]
  },
  {
   "cell_type": "markdown",
   "metadata": {
    "colab_type": "text",
    "id": "kblwcTHdIJb6"
   },
   "source": [
    "## 3.1. Create a preliminary factor model and compare it to your PCA results. What are the similarities and differences? (10 pts.)"
   ]
  },
  {
   "cell_type": "code",
   "execution_count": 10,
   "metadata": {
    "colab": {},
    "colab_type": "code",
    "id": "3g_aOIWm8BcS"
   },
   "outputs": [],
   "source": [
    "### YOUR CODE HERE ###"
   ]
  },
  {
   "cell_type": "markdown",
   "metadata": {
    "colab_type": "text",
    "id": "qX2GSpYO8Bcb"
   },
   "source": [
    "(YOUR INTERPRETATION HERE)"
   ]
  },
  {
   "cell_type": "code",
   "execution_count": 21,
   "metadata": {
    "colab": {},
    "colab_type": "code",
    "id": "xP6lcMCb8BdD"
   },
   "outputs": [
    {
     "data": {
      "text/html": [
       "<div>\n",
       "<style scoped>\n",
       "    .dataframe tbody tr th:only-of-type {\n",
       "        vertical-align: middle;\n",
       "    }\n",
       "\n",
       "    .dataframe tbody tr th {\n",
       "        vertical-align: top;\n",
       "    }\n",
       "\n",
       "    .dataframe thead th {\n",
       "        text-align: right;\n",
       "    }\n",
       "</style>\n",
       "<table border=\"1\" class=\"dataframe\">\n",
       "  <thead>\n",
       "    <tr style=\"text-align: right;\">\n",
       "      <th></th>\n",
       "      <th>Factor0</th>\n",
       "      <th>Factor1</th>\n",
       "      <th>Factor2</th>\n",
       "      <th>Factor3</th>\n",
       "      <th>Factor4</th>\n",
       "      <th>Factor5</th>\n",
       "      <th>Factor6</th>\n",
       "    </tr>\n",
       "  </thead>\n",
       "  <tbody>\n",
       "    <tr>\n",
       "      <th>0</th>\n",
       "      <td>-46.996349</td>\n",
       "      <td>1.954487</td>\n",
       "      <td>13.144719</td>\n",
       "      <td>-54.528821</td>\n",
       "      <td>5.982568</td>\n",
       "      <td>12.245220</td>\n",
       "      <td>-12.116872</td>\n",
       "    </tr>\n",
       "    <tr>\n",
       "      <th>1</th>\n",
       "      <td>-17.110969</td>\n",
       "      <td>-8.357991</td>\n",
       "      <td>10.978588</td>\n",
       "      <td>-12.388178</td>\n",
       "      <td>17.021224</td>\n",
       "      <td>17.901893</td>\n",
       "      <td>1.926825</td>\n",
       "    </tr>\n",
       "    <tr>\n",
       "      <th>2</th>\n",
       "      <td>7.066425</td>\n",
       "      <td>-9.512047</td>\n",
       "      <td>5.250743</td>\n",
       "      <td>-5.116011</td>\n",
       "      <td>1.808277</td>\n",
       "      <td>-20.077315</td>\n",
       "      <td>49.044980</td>\n",
       "    </tr>\n",
       "    <tr>\n",
       "      <th>3</th>\n",
       "      <td>38.786555</td>\n",
       "      <td>15.449542</td>\n",
       "      <td>71.946365</td>\n",
       "      <td>-3.443488</td>\n",
       "      <td>13.457800</td>\n",
       "      <td>26.585394</td>\n",
       "      <td>-13.761305</td>\n",
       "    </tr>\n",
       "    <tr>\n",
       "      <th>4</th>\n",
       "      <td>-66.711722</td>\n",
       "      <td>26.097962</td>\n",
       "      <td>40.736763</td>\n",
       "      <td>6.795815</td>\n",
       "      <td>33.888326</td>\n",
       "      <td>8.153105</td>\n",
       "      <td>-11.309166</td>\n",
       "    </tr>\n",
       "    <tr>\n",
       "      <th>5</th>\n",
       "      <td>-85.815102</td>\n",
       "      <td>50.098664</td>\n",
       "      <td>45.000202</td>\n",
       "      <td>42.559259</td>\n",
       "      <td>-2.978305</td>\n",
       "      <td>12.040530</td>\n",
       "      <td>-18.184264</td>\n",
       "    </tr>\n",
       "    <tr>\n",
       "      <th>6</th>\n",
       "      <td>24.235584</td>\n",
       "      <td>39.244646</td>\n",
       "      <td>-4.072917</td>\n",
       "      <td>7.712268</td>\n",
       "      <td>23.399474</td>\n",
       "      <td>-52.595100</td>\n",
       "      <td>49.981126</td>\n",
       "    </tr>\n",
       "    <tr>\n",
       "      <th>7</th>\n",
       "      <td>-53.419932</td>\n",
       "      <td>35.682406</td>\n",
       "      <td>-2.772760</td>\n",
       "      <td>25.878450</td>\n",
       "      <td>9.457856</td>\n",
       "      <td>10.393489</td>\n",
       "      <td>-13.532937</td>\n",
       "    </tr>\n",
       "    <tr>\n",
       "      <th>8</th>\n",
       "      <td>15.599200</td>\n",
       "      <td>-24.915708</td>\n",
       "      <td>-11.819537</td>\n",
       "      <td>-1.683813</td>\n",
       "      <td>-12.159636</td>\n",
       "      <td>7.386778</td>\n",
       "      <td>-30.373840</td>\n",
       "    </tr>\n",
       "    <tr>\n",
       "      <th>9</th>\n",
       "      <td>33.077147</td>\n",
       "      <td>34.608052</td>\n",
       "      <td>61.661968</td>\n",
       "      <td>-26.086938</td>\n",
       "      <td>-18.664808</td>\n",
       "      <td>81.881691</td>\n",
       "      <td>50.334021</td>\n",
       "    </tr>\n",
       "    <tr>\n",
       "      <th>10</th>\n",
       "      <td>22.070225</td>\n",
       "      <td>-39.087202</td>\n",
       "      <td>-31.204400</td>\n",
       "      <td>-44.046704</td>\n",
       "      <td>37.150355</td>\n",
       "      <td>8.413449</td>\n",
       "      <td>13.773709</td>\n",
       "    </tr>\n",
       "    <tr>\n",
       "      <th>11</th>\n",
       "      <td>-189.296510</td>\n",
       "      <td>81.431255</td>\n",
       "      <td>30.996436</td>\n",
       "      <td>4.505597</td>\n",
       "      <td>-23.405925</td>\n",
       "      <td>21.271935</td>\n",
       "      <td>-56.823149</td>\n",
       "    </tr>\n",
       "    <tr>\n",
       "      <th>12</th>\n",
       "      <td>-97.111508</td>\n",
       "      <td>92.100987</td>\n",
       "      <td>71.753525</td>\n",
       "      <td>71.233004</td>\n",
       "      <td>-51.063364</td>\n",
       "      <td>-3.709754</td>\n",
       "      <td>34.674883</td>\n",
       "    </tr>\n",
       "    <tr>\n",
       "      <th>13</th>\n",
       "      <td>-61.695158</td>\n",
       "      <td>30.967528</td>\n",
       "      <td>-2.934885</td>\n",
       "      <td>14.718527</td>\n",
       "      <td>-17.793192</td>\n",
       "      <td>30.828721</td>\n",
       "      <td>18.527085</td>\n",
       "    </tr>\n",
       "    <tr>\n",
       "      <th>14</th>\n",
       "      <td>22.115743</td>\n",
       "      <td>-5.769908</td>\n",
       "      <td>34.049266</td>\n",
       "      <td>-18.655272</td>\n",
       "      <td>20.821664</td>\n",
       "      <td>-27.121518</td>\n",
       "      <td>-29.340731</td>\n",
       "    </tr>\n",
       "    <tr>\n",
       "      <th>15</th>\n",
       "      <td>47.961305</td>\n",
       "      <td>-0.328929</td>\n",
       "      <td>-61.405783</td>\n",
       "      <td>-1.915256</td>\n",
       "      <td>34.393069</td>\n",
       "      <td>-49.381565</td>\n",
       "      <td>-46.663368</td>\n",
       "    </tr>\n",
       "    <tr>\n",
       "      <th>16</th>\n",
       "      <td>-2.046853</td>\n",
       "      <td>25.007689</td>\n",
       "      <td>-9.000344</td>\n",
       "      <td>10.504900</td>\n",
       "      <td>12.079962</td>\n",
       "      <td>17.499782</td>\n",
       "      <td>-23.173728</td>\n",
       "    </tr>\n",
       "    <tr>\n",
       "      <th>17</th>\n",
       "      <td>-124.407851</td>\n",
       "      <td>8.537180</td>\n",
       "      <td>-38.612396</td>\n",
       "      <td>-11.384643</td>\n",
       "      <td>23.457013</td>\n",
       "      <td>21.910788</td>\n",
       "      <td>4.659701</td>\n",
       "    </tr>\n",
       "    <tr>\n",
       "      <th>18</th>\n",
       "      <td>-1357.260639</td>\n",
       "      <td>-4227.483902</td>\n",
       "      <td>-2475.706539</td>\n",
       "      <td>602.763910</td>\n",
       "      <td>-190.138751</td>\n",
       "      <td>21.873435</td>\n",
       "      <td>400.885541</td>\n",
       "    </tr>\n",
       "    <tr>\n",
       "      <th>19</th>\n",
       "      <td>35.969821</td>\n",
       "      <td>-1.886813</td>\n",
       "      <td>-39.729360</td>\n",
       "      <td>-13.332650</td>\n",
       "      <td>-16.222838</td>\n",
       "      <td>13.518767</td>\n",
       "      <td>13.513264</td>\n",
       "    </tr>\n",
       "    <tr>\n",
       "      <th>20</th>\n",
       "      <td>32.904659</td>\n",
       "      <td>-17.469172</td>\n",
       "      <td>-27.617845</td>\n",
       "      <td>-29.909545</td>\n",
       "      <td>-19.126569</td>\n",
       "      <td>12.695183</td>\n",
       "      <td>16.601376</td>\n",
       "    </tr>\n",
       "    <tr>\n",
       "      <th>21</th>\n",
       "      <td>-29.355466</td>\n",
       "      <td>-7.866590</td>\n",
       "      <td>4.092646</td>\n",
       "      <td>-5.896372</td>\n",
       "      <td>-4.288379</td>\n",
       "      <td>5.819848</td>\n",
       "      <td>16.225480</td>\n",
       "    </tr>\n",
       "    <tr>\n",
       "      <th>22</th>\n",
       "      <td>9.279454</td>\n",
       "      <td>-0.632545</td>\n",
       "      <td>-11.532361</td>\n",
       "      <td>12.167151</td>\n",
       "      <td>9.537095</td>\n",
       "      <td>9.179157</td>\n",
       "      <td>3.538439</td>\n",
       "    </tr>\n",
       "    <tr>\n",
       "      <th>23</th>\n",
       "      <td>-52.385279</td>\n",
       "      <td>26.300766</td>\n",
       "      <td>-39.010491</td>\n",
       "      <td>16.092292</td>\n",
       "      <td>20.996844</td>\n",
       "      <td>-21.863252</td>\n",
       "      <td>0.940230</td>\n",
       "    </tr>\n",
       "    <tr>\n",
       "      <th>24</th>\n",
       "      <td>36.076399</td>\n",
       "      <td>-9.415243</td>\n",
       "      <td>-6.065308</td>\n",
       "      <td>-14.916460</td>\n",
       "      <td>6.518696</td>\n",
       "      <td>-16.346211</td>\n",
       "      <td>-8.749622</td>\n",
       "    </tr>\n",
       "    <tr>\n",
       "      <th>25</th>\n",
       "      <td>-25.341974</td>\n",
       "      <td>-10.858866</td>\n",
       "      <td>0.513363</td>\n",
       "      <td>-4.740585</td>\n",
       "      <td>-0.769567</td>\n",
       "      <td>-12.848207</td>\n",
       "      <td>2.164871</td>\n",
       "    </tr>\n",
       "    <tr>\n",
       "      <th>26</th>\n",
       "      <td>-27.481489</td>\n",
       "      <td>18.303138</td>\n",
       "      <td>-1.273186</td>\n",
       "      <td>1.474259</td>\n",
       "      <td>5.756453</td>\n",
       "      <td>12.519363</td>\n",
       "      <td>0.399326</td>\n",
       "    </tr>\n",
       "    <tr>\n",
       "      <th>27</th>\n",
       "      <td>-14.727533</td>\n",
       "      <td>10.672689</td>\n",
       "      <td>12.440927</td>\n",
       "      <td>0.409016</td>\n",
       "      <td>-0.324594</td>\n",
       "      <td>-0.720635</td>\n",
       "      <td>1.462971</td>\n",
       "    </tr>\n",
       "    <tr>\n",
       "      <th>28</th>\n",
       "      <td>-2.677740</td>\n",
       "      <td>13.061020</td>\n",
       "      <td>-5.632490</td>\n",
       "      <td>0.253058</td>\n",
       "      <td>16.304063</td>\n",
       "      <td>14.914211</td>\n",
       "      <td>9.382062</td>\n",
       "    </tr>\n",
       "    <tr>\n",
       "      <th>29</th>\n",
       "      <td>-8.352397</td>\n",
       "      <td>19.038822</td>\n",
       "      <td>6.498384</td>\n",
       "      <td>-7.765155</td>\n",
       "      <td>2.466882</td>\n",
       "      <td>-3.552059</td>\n",
       "      <td>7.461447</td>\n",
       "    </tr>\n",
       "    <tr>\n",
       "      <th>...</th>\n",
       "      <td>...</td>\n",
       "      <td>...</td>\n",
       "      <td>...</td>\n",
       "      <td>...</td>\n",
       "      <td>...</td>\n",
       "      <td>...</td>\n",
       "      <td>...</td>\n",
       "    </tr>\n",
       "    <tr>\n",
       "      <th>7099</th>\n",
       "      <td>80.376854</td>\n",
       "      <td>-46.325451</td>\n",
       "      <td>-138.281574</td>\n",
       "      <td>-13.414926</td>\n",
       "      <td>-21.934418</td>\n",
       "      <td>-1.534598</td>\n",
       "      <td>82.645554</td>\n",
       "    </tr>\n",
       "    <tr>\n",
       "      <th>7100</th>\n",
       "      <td>262.358445</td>\n",
       "      <td>342.075956</td>\n",
       "      <td>1469.244994</td>\n",
       "      <td>-42.938352</td>\n",
       "      <td>-1190.044868</td>\n",
       "      <td>-1014.827833</td>\n",
       "      <td>-268.324638</td>\n",
       "    </tr>\n",
       "    <tr>\n",
       "      <th>7101</th>\n",
       "      <td>479.172169</td>\n",
       "      <td>238.529276</td>\n",
       "      <td>2077.966561</td>\n",
       "      <td>431.192031</td>\n",
       "      <td>-521.822825</td>\n",
       "      <td>-1034.903684</td>\n",
       "      <td>10.500175</td>\n",
       "    </tr>\n",
       "    <tr>\n",
       "      <th>7102</th>\n",
       "      <td>97.630129</td>\n",
       "      <td>-103.662947</td>\n",
       "      <td>-154.019807</td>\n",
       "      <td>13.033558</td>\n",
       "      <td>35.782093</td>\n",
       "      <td>-113.535287</td>\n",
       "      <td>-50.752761</td>\n",
       "    </tr>\n",
       "    <tr>\n",
       "      <th>7103</th>\n",
       "      <td>-95.179347</td>\n",
       "      <td>398.039025</td>\n",
       "      <td>584.512436</td>\n",
       "      <td>-131.442410</td>\n",
       "      <td>-417.818417</td>\n",
       "      <td>-834.318423</td>\n",
       "      <td>-396.853302</td>\n",
       "    </tr>\n",
       "    <tr>\n",
       "      <th>7104</th>\n",
       "      <td>-28.447879</td>\n",
       "      <td>50.263667</td>\n",
       "      <td>4.008173</td>\n",
       "      <td>27.696599</td>\n",
       "      <td>-6.153190</td>\n",
       "      <td>10.935486</td>\n",
       "      <td>-18.894099</td>\n",
       "    </tr>\n",
       "    <tr>\n",
       "      <th>7105</th>\n",
       "      <td>-7.810720</td>\n",
       "      <td>19.168737</td>\n",
       "      <td>-6.467011</td>\n",
       "      <td>-10.280002</td>\n",
       "      <td>-17.869347</td>\n",
       "      <td>-11.313524</td>\n",
       "      <td>-19.495066</td>\n",
       "    </tr>\n",
       "    <tr>\n",
       "      <th>7106</th>\n",
       "      <td>74.016529</td>\n",
       "      <td>10.183968</td>\n",
       "      <td>-19.721459</td>\n",
       "      <td>45.223347</td>\n",
       "      <td>-49.374871</td>\n",
       "      <td>-47.893147</td>\n",
       "      <td>-14.474266</td>\n",
       "    </tr>\n",
       "    <tr>\n",
       "      <th>7107</th>\n",
       "      <td>20.514870</td>\n",
       "      <td>14.830074</td>\n",
       "      <td>6.924533</td>\n",
       "      <td>30.130794</td>\n",
       "      <td>3.449882</td>\n",
       "      <td>-0.914533</td>\n",
       "      <td>0.240759</td>\n",
       "    </tr>\n",
       "    <tr>\n",
       "      <th>7108</th>\n",
       "      <td>75.251921</td>\n",
       "      <td>15.345290</td>\n",
       "      <td>7.301531</td>\n",
       "      <td>37.096545</td>\n",
       "      <td>8.415595</td>\n",
       "      <td>-3.262299</td>\n",
       "      <td>-15.022647</td>\n",
       "    </tr>\n",
       "    <tr>\n",
       "      <th>7109</th>\n",
       "      <td>27.308824</td>\n",
       "      <td>0.830791</td>\n",
       "      <td>-6.412550</td>\n",
       "      <td>11.171715</td>\n",
       "      <td>-1.063365</td>\n",
       "      <td>8.716924</td>\n",
       "      <td>-6.677397</td>\n",
       "    </tr>\n",
       "    <tr>\n",
       "      <th>7110</th>\n",
       "      <td>16.136470</td>\n",
       "      <td>0.972562</td>\n",
       "      <td>-9.913143</td>\n",
       "      <td>-2.917053</td>\n",
       "      <td>22.957711</td>\n",
       "      <td>22.234126</td>\n",
       "      <td>5.179826</td>\n",
       "    </tr>\n",
       "    <tr>\n",
       "      <th>7111</th>\n",
       "      <td>-20.092680</td>\n",
       "      <td>-6.229901</td>\n",
       "      <td>4.560445</td>\n",
       "      <td>-67.542589</td>\n",
       "      <td>-37.804705</td>\n",
       "      <td>-77.074054</td>\n",
       "      <td>-42.008841</td>\n",
       "    </tr>\n",
       "    <tr>\n",
       "      <th>7112</th>\n",
       "      <td>109.745216</td>\n",
       "      <td>11.602338</td>\n",
       "      <td>-21.627268</td>\n",
       "      <td>11.202979</td>\n",
       "      <td>-2.336306</td>\n",
       "      <td>-11.449693</td>\n",
       "      <td>-25.883287</td>\n",
       "    </tr>\n",
       "    <tr>\n",
       "      <th>7113</th>\n",
       "      <td>19.098252</td>\n",
       "      <td>-6.808539</td>\n",
       "      <td>-36.650338</td>\n",
       "      <td>-52.783429</td>\n",
       "      <td>60.573823</td>\n",
       "      <td>16.085739</td>\n",
       "      <td>-14.081373</td>\n",
       "    </tr>\n",
       "    <tr>\n",
       "      <th>7114</th>\n",
       "      <td>62.885097</td>\n",
       "      <td>-17.318471</td>\n",
       "      <td>-4.706152</td>\n",
       "      <td>-0.195912</td>\n",
       "      <td>19.063428</td>\n",
       "      <td>-28.503321</td>\n",
       "      <td>9.299364</td>\n",
       "    </tr>\n",
       "    <tr>\n",
       "      <th>7115</th>\n",
       "      <td>122.033366</td>\n",
       "      <td>45.510867</td>\n",
       "      <td>-42.182724</td>\n",
       "      <td>25.343492</td>\n",
       "      <td>30.485771</td>\n",
       "      <td>-4.096165</td>\n",
       "      <td>-38.807088</td>\n",
       "    </tr>\n",
       "    <tr>\n",
       "      <th>7116</th>\n",
       "      <td>-46.140691</td>\n",
       "      <td>41.126675</td>\n",
       "      <td>15.370855</td>\n",
       "      <td>10.036142</td>\n",
       "      <td>3.424309</td>\n",
       "      <td>28.257886</td>\n",
       "      <td>-38.352907</td>\n",
       "    </tr>\n",
       "    <tr>\n",
       "      <th>7117</th>\n",
       "      <td>-586.011094</td>\n",
       "      <td>329.267882</td>\n",
       "      <td>-149.314961</td>\n",
       "      <td>-42.959281</td>\n",
       "      <td>69.172609</td>\n",
       "      <td>-238.868347</td>\n",
       "      <td>-137.774761</td>\n",
       "    </tr>\n",
       "    <tr>\n",
       "      <th>7118</th>\n",
       "      <td>-186.612830</td>\n",
       "      <td>416.172608</td>\n",
       "      <td>-194.334320</td>\n",
       "      <td>-94.393023</td>\n",
       "      <td>-12.717254</td>\n",
       "      <td>45.034257</td>\n",
       "      <td>-21.353644</td>\n",
       "    </tr>\n",
       "    <tr>\n",
       "      <th>7119</th>\n",
       "      <td>33.851075</td>\n",
       "      <td>17.545437</td>\n",
       "      <td>7.324095</td>\n",
       "      <td>-10.780142</td>\n",
       "      <td>17.433822</td>\n",
       "      <td>-2.854546</td>\n",
       "      <td>-12.320952</td>\n",
       "    </tr>\n",
       "    <tr>\n",
       "      <th>7120</th>\n",
       "      <td>145.232245</td>\n",
       "      <td>46.154667</td>\n",
       "      <td>30.761780</td>\n",
       "      <td>-2.831372</td>\n",
       "      <td>105.282658</td>\n",
       "      <td>-16.689415</td>\n",
       "      <td>11.337188</td>\n",
       "    </tr>\n",
       "    <tr>\n",
       "      <th>7121</th>\n",
       "      <td>-5.461655</td>\n",
       "      <td>-3.049402</td>\n",
       "      <td>5.526487</td>\n",
       "      <td>26.857735</td>\n",
       "      <td>15.290447</td>\n",
       "      <td>11.951073</td>\n",
       "      <td>6.885552</td>\n",
       "    </tr>\n",
       "    <tr>\n",
       "      <th>7122</th>\n",
       "      <td>-103.724186</td>\n",
       "      <td>5.767425</td>\n",
       "      <td>49.656840</td>\n",
       "      <td>31.880224</td>\n",
       "      <td>-85.657306</td>\n",
       "      <td>-67.046436</td>\n",
       "      <td>-150.747873</td>\n",
       "    </tr>\n",
       "    <tr>\n",
       "      <th>7123</th>\n",
       "      <td>4.185030</td>\n",
       "      <td>2.158045</td>\n",
       "      <td>1.545564</td>\n",
       "      <td>9.379801</td>\n",
       "      <td>4.666255</td>\n",
       "      <td>8.345145</td>\n",
       "      <td>-1.252701</td>\n",
       "    </tr>\n",
       "    <tr>\n",
       "      <th>7124</th>\n",
       "      <td>367.730797</td>\n",
       "      <td>-59.122856</td>\n",
       "      <td>124.507059</td>\n",
       "      <td>-88.664569</td>\n",
       "      <td>-165.158682</td>\n",
       "      <td>68.045359</td>\n",
       "      <td>-51.069810</td>\n",
       "    </tr>\n",
       "    <tr>\n",
       "      <th>7125</th>\n",
       "      <td>143.451439</td>\n",
       "      <td>14.201783</td>\n",
       "      <td>-55.758297</td>\n",
       "      <td>60.360669</td>\n",
       "      <td>10.475265</td>\n",
       "      <td>34.492168</td>\n",
       "      <td>-13.561446</td>\n",
       "    </tr>\n",
       "    <tr>\n",
       "      <th>7126</th>\n",
       "      <td>9.312768</td>\n",
       "      <td>12.563369</td>\n",
       "      <td>-4.336228</td>\n",
       "      <td>-4.337391</td>\n",
       "      <td>7.074724</td>\n",
       "      <td>3.682163</td>\n",
       "      <td>-4.259280</td>\n",
       "    </tr>\n",
       "    <tr>\n",
       "      <th>7127</th>\n",
       "      <td>62.696302</td>\n",
       "      <td>-191.458369</td>\n",
       "      <td>277.841692</td>\n",
       "      <td>-89.236509</td>\n",
       "      <td>-275.396185</td>\n",
       "      <td>298.455214</td>\n",
       "      <td>150.623025</td>\n",
       "    </tr>\n",
       "    <tr>\n",
       "      <th>7128</th>\n",
       "      <td>-0.960329</td>\n",
       "      <td>-4.452103</td>\n",
       "      <td>4.865420</td>\n",
       "      <td>-6.618507</td>\n",
       "      <td>-4.015760</td>\n",
       "      <td>-0.886157</td>\n",
       "      <td>3.995407</td>\n",
       "    </tr>\n",
       "  </tbody>\n",
       "</table>\n",
       "<p>7129 rows × 7 columns</p>\n",
       "</div>"
      ],
      "text/plain": [
       "          Factor0      Factor1      Factor2     Factor3      Factor4  \\\n",
       "0      -46.996349     1.954487    13.144719  -54.528821     5.982568   \n",
       "1      -17.110969    -8.357991    10.978588  -12.388178    17.021224   \n",
       "2        7.066425    -9.512047     5.250743   -5.116011     1.808277   \n",
       "3       38.786555    15.449542    71.946365   -3.443488    13.457800   \n",
       "4      -66.711722    26.097962    40.736763    6.795815    33.888326   \n",
       "5      -85.815102    50.098664    45.000202   42.559259    -2.978305   \n",
       "6       24.235584    39.244646    -4.072917    7.712268    23.399474   \n",
       "7      -53.419932    35.682406    -2.772760   25.878450     9.457856   \n",
       "8       15.599200   -24.915708   -11.819537   -1.683813   -12.159636   \n",
       "9       33.077147    34.608052    61.661968  -26.086938   -18.664808   \n",
       "10      22.070225   -39.087202   -31.204400  -44.046704    37.150355   \n",
       "11    -189.296510    81.431255    30.996436    4.505597   -23.405925   \n",
       "12     -97.111508    92.100987    71.753525   71.233004   -51.063364   \n",
       "13     -61.695158    30.967528    -2.934885   14.718527   -17.793192   \n",
       "14      22.115743    -5.769908    34.049266  -18.655272    20.821664   \n",
       "15      47.961305    -0.328929   -61.405783   -1.915256    34.393069   \n",
       "16      -2.046853    25.007689    -9.000344   10.504900    12.079962   \n",
       "17    -124.407851     8.537180   -38.612396  -11.384643    23.457013   \n",
       "18   -1357.260639 -4227.483902 -2475.706539  602.763910  -190.138751   \n",
       "19      35.969821    -1.886813   -39.729360  -13.332650   -16.222838   \n",
       "20      32.904659   -17.469172   -27.617845  -29.909545   -19.126569   \n",
       "21     -29.355466    -7.866590     4.092646   -5.896372    -4.288379   \n",
       "22       9.279454    -0.632545   -11.532361   12.167151     9.537095   \n",
       "23     -52.385279    26.300766   -39.010491   16.092292    20.996844   \n",
       "24      36.076399    -9.415243    -6.065308  -14.916460     6.518696   \n",
       "25     -25.341974   -10.858866     0.513363   -4.740585    -0.769567   \n",
       "26     -27.481489    18.303138    -1.273186    1.474259     5.756453   \n",
       "27     -14.727533    10.672689    12.440927    0.409016    -0.324594   \n",
       "28      -2.677740    13.061020    -5.632490    0.253058    16.304063   \n",
       "29      -8.352397    19.038822     6.498384   -7.765155     2.466882   \n",
       "...           ...          ...          ...         ...          ...   \n",
       "7099    80.376854   -46.325451  -138.281574  -13.414926   -21.934418   \n",
       "7100   262.358445   342.075956  1469.244994  -42.938352 -1190.044868   \n",
       "7101   479.172169   238.529276  2077.966561  431.192031  -521.822825   \n",
       "7102    97.630129  -103.662947  -154.019807   13.033558    35.782093   \n",
       "7103   -95.179347   398.039025   584.512436 -131.442410  -417.818417   \n",
       "7104   -28.447879    50.263667     4.008173   27.696599    -6.153190   \n",
       "7105    -7.810720    19.168737    -6.467011  -10.280002   -17.869347   \n",
       "7106    74.016529    10.183968   -19.721459   45.223347   -49.374871   \n",
       "7107    20.514870    14.830074     6.924533   30.130794     3.449882   \n",
       "7108    75.251921    15.345290     7.301531   37.096545     8.415595   \n",
       "7109    27.308824     0.830791    -6.412550   11.171715    -1.063365   \n",
       "7110    16.136470     0.972562    -9.913143   -2.917053    22.957711   \n",
       "7111   -20.092680    -6.229901     4.560445  -67.542589   -37.804705   \n",
       "7112   109.745216    11.602338   -21.627268   11.202979    -2.336306   \n",
       "7113    19.098252    -6.808539   -36.650338  -52.783429    60.573823   \n",
       "7114    62.885097   -17.318471    -4.706152   -0.195912    19.063428   \n",
       "7115   122.033366    45.510867   -42.182724   25.343492    30.485771   \n",
       "7116   -46.140691    41.126675    15.370855   10.036142     3.424309   \n",
       "7117  -586.011094   329.267882  -149.314961  -42.959281    69.172609   \n",
       "7118  -186.612830   416.172608  -194.334320  -94.393023   -12.717254   \n",
       "7119    33.851075    17.545437     7.324095  -10.780142    17.433822   \n",
       "7120   145.232245    46.154667    30.761780   -2.831372   105.282658   \n",
       "7121    -5.461655    -3.049402     5.526487   26.857735    15.290447   \n",
       "7122  -103.724186     5.767425    49.656840   31.880224   -85.657306   \n",
       "7123     4.185030     2.158045     1.545564    9.379801     4.666255   \n",
       "7124   367.730797   -59.122856   124.507059  -88.664569  -165.158682   \n",
       "7125   143.451439    14.201783   -55.758297   60.360669    10.475265   \n",
       "7126     9.312768    12.563369    -4.336228   -4.337391     7.074724   \n",
       "7127    62.696302  -191.458369   277.841692  -89.236509  -275.396185   \n",
       "7128    -0.960329    -4.452103     4.865420   -6.618507    -4.015760   \n",
       "\n",
       "          Factor5     Factor6  \n",
       "0       12.245220  -12.116872  \n",
       "1       17.901893    1.926825  \n",
       "2      -20.077315   49.044980  \n",
       "3       26.585394  -13.761305  \n",
       "4        8.153105  -11.309166  \n",
       "5       12.040530  -18.184264  \n",
       "6      -52.595100   49.981126  \n",
       "7       10.393489  -13.532937  \n",
       "8        7.386778  -30.373840  \n",
       "9       81.881691   50.334021  \n",
       "10       8.413449   13.773709  \n",
       "11      21.271935  -56.823149  \n",
       "12      -3.709754   34.674883  \n",
       "13      30.828721   18.527085  \n",
       "14     -27.121518  -29.340731  \n",
       "15     -49.381565  -46.663368  \n",
       "16      17.499782  -23.173728  \n",
       "17      21.910788    4.659701  \n",
       "18      21.873435  400.885541  \n",
       "19      13.518767   13.513264  \n",
       "20      12.695183   16.601376  \n",
       "21       5.819848   16.225480  \n",
       "22       9.179157    3.538439  \n",
       "23     -21.863252    0.940230  \n",
       "24     -16.346211   -8.749622  \n",
       "25     -12.848207    2.164871  \n",
       "26      12.519363    0.399326  \n",
       "27      -0.720635    1.462971  \n",
       "28      14.914211    9.382062  \n",
       "29      -3.552059    7.461447  \n",
       "...           ...         ...  \n",
       "7099    -1.534598   82.645554  \n",
       "7100 -1014.827833 -268.324638  \n",
       "7101 -1034.903684   10.500175  \n",
       "7102  -113.535287  -50.752761  \n",
       "7103  -834.318423 -396.853302  \n",
       "7104    10.935486  -18.894099  \n",
       "7105   -11.313524  -19.495066  \n",
       "7106   -47.893147  -14.474266  \n",
       "7107    -0.914533    0.240759  \n",
       "7108    -3.262299  -15.022647  \n",
       "7109     8.716924   -6.677397  \n",
       "7110    22.234126    5.179826  \n",
       "7111   -77.074054  -42.008841  \n",
       "7112   -11.449693  -25.883287  \n",
       "7113    16.085739  -14.081373  \n",
       "7114   -28.503321    9.299364  \n",
       "7115    -4.096165  -38.807088  \n",
       "7116    28.257886  -38.352907  \n",
       "7117  -238.868347 -137.774761  \n",
       "7118    45.034257  -21.353644  \n",
       "7119    -2.854546  -12.320952  \n",
       "7120   -16.689415   11.337188  \n",
       "7121    11.951073    6.885552  \n",
       "7122   -67.046436 -150.747873  \n",
       "7123     8.345145   -1.252701  \n",
       "7124    68.045359  -51.069810  \n",
       "7125    34.492168  -13.561446  \n",
       "7126     3.682163   -4.259280  \n",
       "7127   298.455214  150.623025  \n",
       "7128    -0.886157    3.995407  \n",
       "\n",
       "[7129 rows x 7 columns]"
      ]
     },
     "execution_count": 21,
     "metadata": {},
     "output_type": "execute_result"
    }
   ],
   "source": [
    "# Create a three-factor model\n",
    "fa_model = skd.FactorAnalysis(n_components=7) \\\n",
    "              .fit(df_train.iloc[2:,])\n",
    "\n",
    "# Show the loadings\n",
    "df_loadings = pd.DataFrame(fa_model.components_[:7,:].T, \n",
    "                   index=df_train.iloc[2:,].columns,\n",
    "                   columns=[\"Factor\"+str(i) for i in range(7)])\n",
    "df_loadings"
   ]
  },
  {
   "cell_type": "code",
   "execution_count": 22,
   "metadata": {
    "colab": {},
    "colab_type": "code",
    "id": "SrWfT4588BdH"
   },
   "outputs": [
    {
     "data": {
      "text/plain": [
       "<seaborn.matrix.ClusterGrid at 0x1a25056fd0>"
      ]
     },
     "execution_count": 22,
     "metadata": {},
     "output_type": "execute_result"
    },
    {
     "data": {
      "image/png": "[encoded data removed]",
      "text/plain": [
       "<Figure size 720x720 with 4 Axes>"
      ]
     },
     "metadata": {},
     "output_type": "display_data"
    }
   ],
   "source": [
    "# Visualize the factor loading matrix\n",
    "sns.clustermap(df_loadings)"
   ]
  },
  {
   "cell_type": "markdown",
   "metadata": {
    "colab_type": "text",
    "id": "-I_ZkGnSI0ll"
   },
   "source": [
    "## 3.2. Create another factor model and compare it to the first. What might the factors represent? (10 pts.)"
   ]
  },
  {
   "cell_type": "code",
   "execution_count": 10,
   "metadata": {
    "colab": {},
    "colab_type": "code",
    "id": "3g_aOIWm8BcS"
   },
   "outputs": [],
   "source": [
    "### YOUR CODE HERE ###"
   ]
  },
  {
   "cell_type": "markdown",
   "metadata": {
    "colab_type": "text",
    "id": "ixClmTSy8BdL"
   },
   "source": [
    "(YOUR INTERPRETATION HERE)"
   ]
  },
  {
   "cell_type": "markdown",
   "metadata": {
    "colab_type": "text",
    "id": "SPxOzCA3Jec5"
   },
   "source": [
    "# Part 4: Clustering"
   ]
  },
  {
   "cell_type": "markdown",
   "metadata": {
    "colab_type": "text",
    "id": "OhRFF7clJ4IL"
   },
   "source": [
    "## 4.1. Perform a cluster analysis on your data. Visualize the results in 2D or 3D using PCA. (10 pts.)"
   ]
  },
  {
   "cell_type": "markdown",
   "metadata": {},
   "source": [
    "- Apply dimension reduction on the data (5 pts.)\n",
    "- Choose your clustering algorithm and tune the parameter (5 pts.)"
   ]
  },
  {
   "cell_type": "code",
   "execution_count": 10,
   "metadata": {
    "colab": {},
    "colab_type": "code",
    "id": "3g_aOIWm8BcS"
   },
   "outputs": [],
   "source": [
    "### YOUR CODE HERE ###"
   ]
  },
  {
   "cell_type": "markdown",
   "metadata": {
    "colab_type": "text",
    "id": "qX2GSpYO8Bcb"
   },
   "source": [
    "(YOUR INTERPRETATION HERE)"
   ]
  },
  {
   "cell_type": "code",
   "execution_count": 24,
   "metadata": {
    "colab": {},
    "colab_type": "code",
    "id": "rlNUccV38BdR"
   },
   "outputs": [],
   "source": [
    "pca_model = skd.PCA().fit(df_train.iloc[2:,])\n",
    "X = pca_model.transform(df_test.iloc[2:,])"
   ]
  },
  {
   "cell_type": "code",
   "execution_count": 25,
   "metadata": {
    "colab": {},
    "colab_type": "code",
    "id": "2MXCAZEu8BdV"
   },
   "outputs": [
    {
     "data": {
      "text/plain": [
       "KMeans(algorithm='auto', copy_x=True, init='k-means++', max_iter=300,\n",
       "    n_clusters=3, n_init=10, n_jobs=1, precompute_distances='auto',\n",
       "    random_state=None, tol=0.0001, verbose=0)"
      ]
     },
     "execution_count": 25,
     "metadata": {},
     "output_type": "execute_result"
    }
   ],
   "source": [
    "kmeans = skc.KMeans(init=\"k-means++\", n_clusters=3)\n",
    "kmeans.fit(X)"
   ]
  },
  {
   "cell_type": "code",
   "execution_count": 26,
   "metadata": {
    "colab": {},
    "colab_type": "code",
    "id": "8KroyYJa8BdY"
   },
   "outputs": [
    {
     "data": {
      "text/plain": [
       "<matplotlib.axes._subplots.AxesSubplot at 0x1a26de0278>"
      ]
     },
     "execution_count": 26,
     "metadata": {},
     "output_type": "execute_result"
    },
    {
     "data": {
      "image/png": "[encoded data removed]",
      "text/plain": [
       "<Figure size 432x288 with 1 Axes>"
      ]
     },
     "metadata": {},
     "output_type": "display_data"
    }
   ],
   "source": [
    "sns.scatterplot(X[:,0], X[:,1], hue=kmeans.labels_)"
   ]
  },
  {
   "cell_type": "markdown",
   "metadata": {
    "colab_type": "text",
    "id": "R-16W7dkLY6w"
   },
   "source": [
    "## 4.2. Which clusters can you identify? What does your cluster analysis tell you about the data? (10 pts.)\n",
    "- Visualize your results with the test data(5 pts.)\n",
    "- Interprete your results (5 pts.)"
   ]
  },
  {
   "cell_type": "markdown",
   "metadata": {
    "colab_type": "text",
    "id": "CFs4gbEU8Bda"
   },
   "source": [
    "(YOUR INTERPRETATION HERE)"
   ]
  }
 ],
 "metadata": {
  "colab": {
   "collapsed_sections": [],
   "name": "618_HW7.ipynb",
   "provenance": [],
   "version": "0.3.2"
  },
  "kernelspec": {
   "display_name": "Python 3",
   "language": "python",
   "name": "python3"
  },
  "language_info": {
   "codemirror_mode": {
    "name": "ipython",
    "version": 3
   },
   "file_extension": ".py",
   "mimetype": "text/x-python",
   "name": "python",
   "nbconvert_exporter": "python",
   "pygments_lexer": "ipython3",
   "version": "3.7.1"
  }
 },
 "nbformat": 4,
 "nbformat_minor": 2
}
